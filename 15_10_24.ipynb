{
  "nbformat": 4,
  "nbformat_minor": 0,
  "metadata": {
    "colab": {
      "provenance": []
    },
    "kernelspec": {
      "name": "python3",
      "display_name": "Python 3"
    },
    "language_info": {
      "name": "python"
    }
  },
  "cells": [
    {
      "cell_type": "code",
      "source": [
        "# Python folllows call by object reference\n"
      ],
      "metadata": {
        "id": "WrrNsU4msbq_"
      },
      "execution_count": null,
      "outputs": []
    },
    {
      "cell_type": "code",
      "execution_count": 3,
      "metadata": {
        "colab": {
          "base_uri": "https://localhost:8080/"
        },
        "id": "2OG9yBMHsXC8",
        "outputId": "04af6d3d-763c-4d2b-8abe-391975a30751"
      },
      "outputs": [
        {
          "output_type": "stream",
          "name": "stdout",
          "text": [
            "<class 'int'>\n",
            "133064573321744\n"
          ]
        }
      ],
      "source": [
        "a = 10\n",
        "print(type(a))\n",
        "print(id(a))"
      ]
    },
    {
      "cell_type": "code",
      "source": [
        "for row in range(1,5):\n",
        "  for col in range(1,5):\n",
        "    print(row,\"-\",col)\n",
        "\n",
        "  print()"
      ],
      "metadata": {
        "colab": {
          "base_uri": "https://localhost:8080/"
        },
        "id": "zf8h2H9WtjZY",
        "outputId": "0f1f8219-5427-4428-bc16-aa789faa7d7f"
      },
      "execution_count": 6,
      "outputs": [
        {
          "output_type": "stream",
          "name": "stdout",
          "text": [
            "1 - 1\n",
            "1 - 2\n",
            "1 - 3\n",
            "1 - 4\n",
            "\n",
            "2 - 1\n",
            "2 - 2\n",
            "2 - 3\n",
            "2 - 4\n",
            "\n",
            "3 - 1\n",
            "3 - 2\n",
            "3 - 3\n",
            "3 - 4\n",
            "\n",
            "4 - 1\n",
            "4 - 2\n",
            "4 - 3\n",
            "4 - 4\n",
            "\n"
          ]
        }
      ]
    },
    {
      "cell_type": "code",
      "source": [
        "for row in range(1,5):\n",
        "  for col in range(1,5):\n",
        "    print(row,\"-\",col,end = \" \")    #end uses for horizontal\n",
        "\n",
        "  print()"
      ],
      "metadata": {
        "colab": {
          "base_uri": "https://localhost:8080/"
        },
        "id": "rZuTEJSwuCZv",
        "outputId": "d99eb5b4-d5e5-457b-e3c3-5b65d06cf058"
      },
      "execution_count": 7,
      "outputs": [
        {
          "output_type": "stream",
          "name": "stdout",
          "text": [
            "1 - 1 1 - 2 1 - 3 1 - 4 \n",
            "2 - 1 2 - 2 2 - 3 2 - 4 \n",
            "3 - 1 3 - 2 3 - 3 3 - 4 \n",
            "4 - 1 4 - 2 4 - 3 4 - 4 \n"
          ]
        }
      ]
    },
    {
      "cell_type": "code",
      "source": [
        "for row in range(1,5):\n",
        "  for col in range(1,row+1):\n",
        "    print(\"*\",end = \" \")\n",
        "\n",
        "  print()"
      ],
      "metadata": {
        "colab": {
          "base_uri": "https://localhost:8080/"
        },
        "id": "-mR8ayzuujuh",
        "outputId": "3352aa2d-1354-4254-8851-825bd41cc4f0"
      },
      "execution_count": 8,
      "outputs": [
        {
          "output_type": "stream",
          "name": "stdout",
          "text": [
            "* \n",
            "* * \n",
            "* * * \n",
            "* * * * \n"
          ]
        }
      ]
    },
    {
      "cell_type": "code",
      "source": [
        "for row in range(1,5):\n",
        "  for col in range(1,5):\n",
        "    print(row,end = \" \")\n",
        "\n",
        "  print()"
      ],
      "metadata": {
        "colab": {
          "base_uri": "https://localhost:8080/"
        },
        "id": "XwEPfwg8vs0D",
        "outputId": "1029140a-8bd3-4d71-ef9b-bb1c5234626e"
      },
      "execution_count": 23,
      "outputs": [
        {
          "output_type": "stream",
          "name": "stdout",
          "text": [
            "1 1 1 1 \n",
            "2 2 2 2 \n",
            "3 3 3 3 \n",
            "4 4 4 4 \n"
          ]
        }
      ]
    },
    {
      "cell_type": "code",
      "source": [
        "for row in range(1,5):\n",
        "  for col in range(1,5):\n",
        "    print(col,end = \" \")\n",
        "\n",
        "  print()"
      ],
      "metadata": {
        "colab": {
          "base_uri": "https://localhost:8080/"
        },
        "id": "Ha0YDsO2v-bC",
        "outputId": "3b1a6bf7-7fe2-4463-d30d-e11d617968a6"
      },
      "execution_count": 19,
      "outputs": [
        {
          "output_type": "stream",
          "name": "stdout",
          "text": [
            "1 2 3 4 \n",
            "1 2 3 4 \n",
            "1 2 3 4 \n",
            "1 2 3 4 \n"
          ]
        }
      ]
    },
    {
      "cell_type": "code",
      "source": [
        "for row in range(4,1,-1):\n",
        "  for col in range(1,5):\n",
        "    print(row,end = \" \")\n",
        "\n",
        "  print()"
      ],
      "metadata": {
        "colab": {
          "base_uri": "https://localhost:8080/"
        },
        "id": "IbLIP0Ihw90K",
        "outputId": "92e95b2d-e3d9-4c65-df06-b904cb316b11"
      },
      "execution_count": 34,
      "outputs": [
        {
          "output_type": "stream",
          "name": "stdout",
          "text": [
            "4 4 4 4 \n",
            "3 3 3 3 \n",
            "2 2 2 2 \n"
          ]
        }
      ]
    },
    {
      "cell_type": "code",
      "source": [
        "for row in range(1,5):\n",
        "  for col in range(1,row+1):\n",
        "    print(row,end = \" \")\n",
        "\n",
        "  print()"
      ],
      "metadata": {
        "colab": {
          "base_uri": "https://localhost:8080/"
        },
        "id": "3ZuFb4jPxIxy",
        "outputId": "0b011ef6-d18a-4ead-d3e0-5d72cda30fee"
      },
      "execution_count": 33,
      "outputs": [
        {
          "output_type": "stream",
          "name": "stdout",
          "text": [
            "1 \n",
            "2 2 \n",
            "3 3 3 \n",
            "4 4 4 4 \n"
          ]
        }
      ]
    },
    {
      "cell_type": "code",
      "source": [
        "for row in range(1,5):\n",
        "  for col in range(1,row+1):\n",
        "    print(\"1\",end = \" \")\n",
        "\n",
        "  print()"
      ],
      "metadata": {
        "colab": {
          "base_uri": "https://localhost:8080/"
        },
        "id": "nr47d0Jlxj0f",
        "outputId": "2c80d025-8a2c-4bb8-eaa7-af9531e2dcca"
      },
      "execution_count": 31,
      "outputs": [
        {
          "output_type": "stream",
          "name": "stdout",
          "text": [
            "1 \n",
            "1 1 \n",
            "1 1 1 \n",
            "1 1 1 1 \n"
          ]
        }
      ]
    },
    {
      "cell_type": "code",
      "source": [
        "i = 1\n",
        "for row in range(1,5):\n",
        "  for col in range(1,row+1):\n",
        "    print(i,end = \" \")\n",
        "    i += 1\n",
        "  print()"
      ],
      "metadata": {
        "colab": {
          "base_uri": "https://localhost:8080/"
        },
        "id": "OvprjKrOxqee",
        "outputId": "124ecbd0-c729-4f7d-b71f-4ab6530401ef"
      },
      "execution_count": 35,
      "outputs": [
        {
          "output_type": "stream",
          "name": "stdout",
          "text": [
            "1 \n",
            "2 3 \n",
            "4 5 6 \n",
            "7 8 9 10 \n"
          ]
        }
      ]
    },
    {
      "cell_type": "code",
      "source": [
        "\n",
        "for row in range(1,5):\n",
        "  for col in range(5,row,-1):\n",
        "    print(\"*\",end = \" \")\n",
        "  print()"
      ],
      "metadata": {
        "colab": {
          "base_uri": "https://localhost:8080/"
        },
        "id": "yv21-yanyBos",
        "outputId": "0d76b846-c1ec-4a2d-f583-2f734187072d"
      },
      "execution_count": 50,
      "outputs": [
        {
          "output_type": "stream",
          "name": "stdout",
          "text": [
            "* * * * \n",
            "* * * \n",
            "* * \n",
            "* \n"
          ]
        }
      ]
    },
    {
      "cell_type": "code",
      "source": [
        "\n",
        "for row in range(1,5):\n",
        "  for col in range(5,row,-1):\n",
        "    print(row,end = \" \")\n",
        "  print()"
      ],
      "metadata": {
        "colab": {
          "base_uri": "https://localhost:8080/"
        },
        "id": "OMSZUc-9yZ3W",
        "outputId": "ba7eb9de-c7bd-42aa-b60f-2a94ca50cfc7"
      },
      "execution_count": 57,
      "outputs": [
        {
          "output_type": "stream",
          "name": "stdout",
          "text": [
            "1 1 1 1 \n",
            "2 2 2 \n",
            "3 3 \n",
            "4 \n"
          ]
        }
      ]
    },
    {
      "cell_type": "code",
      "source": [
        "\n",
        "for row in range(4,0,-1):\n",
        "  for col in range(1,row+1):\n",
        "    print(row,end = \" \")\n",
        "  print()"
      ],
      "metadata": {
        "colab": {
          "base_uri": "https://localhost:8080/"
        },
        "id": "Tng8XVA00pRr",
        "outputId": "6f427a1a-15eb-425a-b0f1-8af0ae960e6c"
      },
      "execution_count": 79,
      "outputs": [
        {
          "output_type": "stream",
          "name": "stdout",
          "text": [
            "4 4 4 4 \n",
            "3 3 3 \n",
            "2 2 \n",
            "1 \n"
          ]
        }
      ]
    },
    {
      "cell_type": "code",
      "source": [
        "\n",
        "\n",
        "for row in range(4,0,-1):\n",
        "  for col in range(1,row+1):\n",
        "    print(col,end = \" \")\n",
        "  print()"
      ],
      "metadata": {
        "colab": {
          "base_uri": "https://localhost:8080/"
        },
        "id": "IZvNStPr1ber",
        "outputId": "7ff4f919-cfa4-40de-e105-fa5aa516baeb"
      },
      "execution_count": 88,
      "outputs": [
        {
          "output_type": "stream",
          "name": "stdout",
          "text": [
            "1 2 3 4 \n",
            "1 2 3 \n",
            "1 2 \n",
            "1 \n"
          ]
        }
      ]
    },
    {
      "cell_type": "code",
      "source": [
        "\n",
        "\n",
        "for row in range(10,0,-1):\n",
        "  for col in range(7,row+1):\n",
        "    print(col,end = \" \")\n",
        "  print()"
      ],
      "metadata": {
        "colab": {
          "base_uri": "https://localhost:8080/"
        },
        "id": "mA6J7AhS1x3O",
        "outputId": "56ef7041-235d-43b6-eed5-fe959ce5a86e"
      },
      "execution_count": 93,
      "outputs": [
        {
          "output_type": "stream",
          "name": "stdout",
          "text": [
            "7 8 9 10 \n",
            "7 8 9 \n",
            "7 8 \n",
            "7 \n",
            "\n",
            "\n",
            "\n",
            "\n",
            "\n",
            "\n"
          ]
        }
      ]
    },
    {
      "cell_type": "code",
      "source": [
        "i = 1\n",
        "for row in range(4,0,-1):\n",
        "  for col in range(1,row+1):\n",
        "    print(i,end = \" \")\n",
        "    i += 1\n",
        "  print()"
      ],
      "metadata": {
        "colab": {
          "base_uri": "https://localhost:8080/"
        },
        "id": "g6lAUMUv2pK1",
        "outputId": "d488e928-9367-462d-8d44-d2f2130042e8"
      },
      "execution_count": 98,
      "outputs": [
        {
          "output_type": "stream",
          "name": "stdout",
          "text": [
            "1 2 3 4 \n",
            "5 6 7 \n",
            "8 9 \n",
            "10 \n"
          ]
        }
      ]
    },
    {
      "cell_type": "code",
      "source": [
        "# ord used to print ASCII value\n",
        "# chr used to print character based on ASCII value\n",
        "print(ord(\"A\"))\n",
        "print(chr(65))"
      ],
      "metadata": {
        "colab": {
          "base_uri": "https://localhost:8080/"
        },
        "id": "bBMVecVo6dod",
        "outputId": "93b05faa-b292-4004-ea29-5cbe5dd9af0d"
      },
      "execution_count": 102,
      "outputs": [
        {
          "output_type": "stream",
          "name": "stdout",
          "text": [
            "65\n",
            "A\n"
          ]
        }
      ]
    },
    {
      "cell_type": "code",
      "source": [
        "\n",
        "for row in range(4,0,-1):\n",
        "  for col in range(65,65+row):\n",
        "    print(chr(col),end = \" \")\n",
        "  print()"
      ],
      "metadata": {
        "colab": {
          "base_uri": "https://localhost:8080/"
        },
        "id": "xqq2F7vI3aQy",
        "outputId": "5e60db0a-464d-44ce-994c-0b715b51863b"
      },
      "execution_count": 99,
      "outputs": [
        {
          "output_type": "stream",
          "name": "stdout",
          "text": [
            "A B C D \n",
            "A B C \n",
            "A B \n",
            "A \n"
          ]
        }
      ]
    },
    {
      "cell_type": "code",
      "source": [
        "n = 4\n",
        "\n",
        "for row in range (1,n+1):\n",
        "  num = 65\n",
        "  for x in range(row,n+1):\n",
        "    print(chr(num),end = \" \")\n",
        "    num = num+1\n",
        "\n",
        "  print()"
      ],
      "metadata": {
        "colab": {
          "base_uri": "https://localhost:8080/"
        },
        "id": "zujVsjEO67Df",
        "outputId": "ab5324a1-77e2-4456-986a-3a7017f5e682"
      },
      "execution_count": 113,
      "outputs": [
        {
          "output_type": "stream",
          "name": "stdout",
          "text": [
            "A B C D \n",
            "A B C \n",
            "A B \n",
            "A \n"
          ]
        }
      ]
    },
    {
      "cell_type": "code",
      "source": [
        "i = 20\n",
        "for row in range(23,0,-1):\n",
        "  for col in range(20,row+1):\n",
        "    print(i,end = \" \")\n",
        "    i += 1\n",
        "  print()\n"
      ],
      "metadata": {
        "colab": {
          "base_uri": "https://localhost:8080/"
        },
        "id": "REWF_RZ08da4",
        "outputId": "854f0024-6db5-421c-9285-30ec5fb7e640"
      },
      "execution_count": 118,
      "outputs": [
        {
          "output_type": "stream",
          "name": "stdout",
          "text": [
            "20 21 22 23 \n",
            "24 25 26 \n",
            "27 28 \n",
            "29 \n",
            "\n",
            "\n",
            "\n",
            "\n",
            "\n",
            "\n",
            "\n",
            "\n",
            "\n",
            "\n",
            "\n",
            "\n",
            "\n",
            "\n",
            "\n",
            "\n",
            "\n",
            "\n",
            "\n"
          ]
        }
      ]
    },
    {
      "cell_type": "code",
      "source": [
        "# z z z\n",
        "# y y\n",
        "# x\n"
      ],
      "metadata": {
        "id": "IIaRVcgF98nO"
      },
      "execution_count": 142,
      "outputs": []
    },
    {
      "cell_type": "code",
      "source": [
        "# D\n",
        "# E F\n",
        "# G H I\n",
        "# J K L M"
      ],
      "metadata": {
        "id": "hJ7UxcMw-SAs"
      },
      "execution_count": 143,
      "outputs": []
    },
    {
      "cell_type": "code",
      "source": [
        "# 2   4    8    16\n",
        "# 32  64  128\n",
        "# 256 512\n",
        "\n"
      ],
      "metadata": {
        "id": "OSnb_TPG-fyX"
      },
      "execution_count": 144,
      "outputs": []
    },
    {
      "cell_type": "code",
      "source": [
        "for row in range(1,5):\n",
        "  for col in range(1,row+1):\n",
        "    print(\"*\",end = \" \")\n",
        "\n",
        "  print()\n",
        "\n",
        "\n",
        "for row in range(2,5):\n",
        "  for col in range(5,row,-1):\n",
        "    print(\"*\",end = \" \")\n",
        "  print()"
      ],
      "metadata": {
        "colab": {
          "base_uri": "https://localhost:8080/"
        },
        "id": "OFjeJ7-j-tBv",
        "outputId": "04df410f-7f8b-4459-e87f-d81e670e89d0"
      },
      "execution_count": 147,
      "outputs": [
        {
          "output_type": "stream",
          "name": "stdout",
          "text": [
            "* \n",
            "* * \n",
            "* * * \n",
            "* * * * \n",
            "* * * \n",
            "* * \n",
            "* \n"
          ]
        }
      ]
    },
    {
      "cell_type": "code",
      "source": [
        "\n",
        "for row in range(1,5):\n",
        "  for col in range(5,row,-1):\n",
        "    print(\"*\",end = \" \")\n",
        "  print()\n",
        "\n",
        "for row in range(1,5):\n",
        "  for col in range(1,row+1):\n",
        "    print(\"*\",end = \" \")\n",
        "\n",
        "  print()"
      ],
      "metadata": {
        "colab": {
          "base_uri": "https://localhost:8080/"
        },
        "id": "A6bUrFDt-1Lc",
        "outputId": "092e764b-30cd-4f55-edc5-32369828dc76"
      },
      "execution_count": 149,
      "outputs": [
        {
          "output_type": "stream",
          "name": "stdout",
          "text": [
            "* * * * \n",
            "* * * \n",
            "* * \n",
            "* \n",
            "* \n",
            "* * \n",
            "* * * \n",
            "* * * * \n"
          ]
        }
      ]
    },
    {
      "cell_type": "code",
      "source": [],
      "metadata": {
        "id": "y9UJAykvAEYT"
      },
      "execution_count": null,
      "outputs": []
    }
  ]
}