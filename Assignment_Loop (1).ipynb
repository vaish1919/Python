{
  "nbformat": 4,
  "nbformat_minor": 0,
  "metadata": {
    "colab": {
      "provenance": []
    },
    "kernelspec": {
      "name": "python3",
      "display_name": "Python 3"
    },
    "language_info": {
      "name": "python"
    }
  },
  "cells": [
    {
      "cell_type": "code",
      "source": [
        " # print natural numbers from 1 to 10\n",
        "\n",
        "for i in range(1, 11):\n",
        "  print(i)\n"
      ],
      "metadata": {
        "colab": {
          "base_uri": "https://localhost:8080/"
        },
        "id": "ANAtuCslXyBd",
        "outputId": "fd263e19-8139-4a6c-e03c-2433948829ce"
      },
      "execution_count": 3,
      "outputs": [
        {
          "output_type": "stream",
          "name": "stdout",
          "text": [
            "1\n",
            "2\n",
            "3\n",
            "4\n",
            "5\n",
            "6\n",
            "7\n",
            "8\n",
            "9\n",
            "10\n"
          ]
        }
      ]
    },
    {
      "cell_type": "code",
      "source": [
        "# natural numbers reverse from 1 to 10\n",
        "\n",
        "for i in range(10, 0, -1):\n",
        "  print(i)\n"
      ],
      "metadata": {
        "colab": {
          "base_uri": "https://localhost:8080/"
        },
        "id": "GoJCI8q0YkGy",
        "outputId": "e5c1bc1a-b61d-484a-8039-a2fb9e4542f0"
      },
      "execution_count": 13,
      "outputs": [
        {
          "output_type": "stream",
          "name": "stdout",
          "text": [
            "10\n",
            "9\n",
            "8\n",
            "7\n",
            "6\n",
            "5\n",
            "4\n",
            "3\n",
            "2\n",
            "1\n"
          ]
        }
      ]
    },
    {
      "cell_type": "code",
      "source": [
        "# Write a program to print all alphabets from a to z. – using while loop\n",
        "\n",
        "a = 'a'\n",
        "while a <= 'z':\n",
        "  print(a)\n",
        "  a = chr(ord(a) + 1)  # ord function"
      ],
      "metadata": {
        "colab": {
          "base_uri": "https://localhost:8080/"
        },
        "id": "ONdiz9En8mdl",
        "outputId": "f122c432-3dcb-4c60-ee72-df065ec5262c"
      },
      "execution_count": 16,
      "outputs": [
        {
          "output_type": "stream",
          "name": "stdout",
          "text": [
            "a\n",
            "b\n",
            "c\n",
            "d\n",
            "e\n",
            "f\n",
            "g\n",
            "h\n",
            "i\n",
            "j\n",
            "k\n",
            "l\n",
            "m\n",
            "n\n",
            "o\n",
            "p\n",
            "q\n",
            "r\n",
            "s\n",
            "t\n",
            "u\n",
            "v\n",
            "w\n",
            "x\n",
            "y\n",
            "z\n"
          ]
        }
      ]
    },
    {
      "cell_type": "code",
      "source": [
        "for i in range(1,100):\n",
        "  if i % 2 == 0:\n",
        "    print(i)"
      ],
      "metadata": {
        "colab": {
          "base_uri": "https://localhost:8080/"
        },
        "id": "OcbbRGGLZJuP",
        "outputId": "d0d88aa7-9cb8-4953-9130-0f2d8468c193"
      },
      "execution_count": 17,
      "outputs": [
        {
          "output_type": "stream",
          "name": "stdout",
          "text": [
            "2\n",
            "4\n",
            "6\n",
            "8\n",
            "10\n",
            "12\n",
            "14\n",
            "16\n",
            "18\n",
            "20\n",
            "22\n",
            "24\n",
            "26\n",
            "28\n",
            "30\n",
            "32\n",
            "34\n",
            "36\n",
            "38\n",
            "40\n",
            "42\n",
            "44\n",
            "46\n",
            "48\n",
            "50\n",
            "52\n",
            "54\n",
            "56\n",
            "58\n",
            "60\n",
            "62\n",
            "64\n",
            "66\n",
            "68\n",
            "70\n",
            "72\n",
            "74\n",
            "76\n",
            "78\n",
            "80\n",
            "82\n",
            "84\n",
            "86\n",
            "88\n",
            "90\n",
            "92\n",
            "94\n",
            "96\n",
            "98\n"
          ]
        }
      ]
    },
    {
      "cell_type": "code",
      "source": [
        "# sum of odd numbers using for loop\n",
        "\n",
        "sum = 0\n",
        "for i in range(1,100):\n",
        "  if i % 2 != 0:\n",
        "    sum = sum + i\n",
        "print(sum)\n"
      ],
      "metadata": {
        "colab": {
          "base_uri": "https://localhost:8080/"
        },
        "id": "n8LDc8ZEZYla",
        "outputId": "f0922405-95e6-4572-f3dc-908def4adf25"
      },
      "execution_count": 20,
      "outputs": [
        {
          "output_type": "stream",
          "name": "stdout",
          "text": [
            "2500\n"
          ]
        }
      ]
    },
    {
      "cell_type": "code",
      "source": [
        "# write a program to find sum of odd numbers between 1 to 10\n",
        "\n",
        "n = 10\n",
        "i = 1\n",
        "sum = 0\n",
        "while i <= n:\n",
        "  if i % 2!= 0:\n",
        "    sum = sum + i\n",
        "  i=i+1\n",
        "print(sum)"
      ],
      "metadata": {
        "colab": {
          "base_uri": "https://localhost:8080/"
        },
        "id": "tnJGbiMe8wKp",
        "outputId": "034cb75f-549b-4b73-ac95-bc499f076f6a"
      },
      "execution_count": null,
      "outputs": [
        {
          "output_type": "stream",
          "name": "stdout",
          "text": [
            "25\n"
          ]
        }
      ]
    },
    {
      "cell_type": "code",
      "source": [
        "# count the number of digits using for loop\n",
        "\n",
        "n = 12345\n",
        "count = 0\n",
        "for i in str(n):\n",
        "  count = count + 1\n",
        "print(count)"
      ],
      "metadata": {
        "colab": {
          "base_uri": "https://localhost:8080/"
        },
        "id": "R3rFswSFamS9",
        "outputId": "5a704c0e-6ba6-46f5-db79-dacc3e3fc9da"
      },
      "execution_count": 21,
      "outputs": [
        {
          "output_type": "stream",
          "name": "stdout",
          "text": [
            "5\n"
          ]
        }
      ]
    },
    {
      "cell_type": "code",
      "source": [
        "# WRite a program to count a number of digits in number\n",
        "\n",
        "n = 12345\n",
        "count = 0\n",
        "while n > 0:\n",
        "  n = n // 10\n",
        "  count = count + 1\n",
        "print(count)"
      ],
      "metadata": {
        "colab": {
          "base_uri": "https://localhost:8080/"
        },
        "id": "Ey22HtQu88Ke",
        "outputId": "6c4492e2-4f7b-466d-a72a-cdb3f44defbd"
      },
      "execution_count": null,
      "outputs": [
        {
          "output_type": "stream",
          "name": "stdout",
          "text": [
            "5\n"
          ]
        }
      ]
    },
    {
      "cell_type": "code",
      "source": [
        "# Write a program to calculate the sum of digits of a number.\n",
        "\n",
        "n = 12345\n",
        "sum = 0\n",
        "while n > 0:\n",
        "  sum = sum + n % 10\n",
        "  n = n // 10\n",
        "print(sum)"
      ],
      "metadata": {
        "colab": {
          "base_uri": "https://localhost:8080/"
        },
        "id": "CGswj9ES-t-l",
        "outputId": "ccfdbf36-27eb-4e17-8f69-006fa76959b5"
      },
      "execution_count": null,
      "outputs": [
        {
          "output_type": "stream",
          "name": "stdout",
          "text": [
            "15\n"
          ]
        }
      ]
    },
    {
      "cell_type": "code",
      "source": [
        "# first and last digit of number using for loop\n",
        "\n",
        "n = 12345\n",
        "first = last = None\n",
        "\n",
        "for i in str(n):\n",
        "  if first is None:\n",
        "    first = i\n",
        "  last = i\n",
        "print(first, last)"
      ],
      "metadata": {
        "colab": {
          "base_uri": "https://localhost:8080/"
        },
        "id": "IGSAEu0RfGR1",
        "outputId": "16b84ae7-5de9-44b9-9b0c-c8b168f1b091"
      },
      "execution_count": 23,
      "outputs": [
        {
          "output_type": "stream",
          "name": "stdout",
          "text": [
            "1 5\n"
          ]
        }
      ]
    },
    {
      "cell_type": "code",
      "source": [
        "# first and last digit of a number using while loop\n",
        "\n",
        "n = 12345\n",
        "first = n % 10\n",
        "while n > 0:\n",
        "  last = n % 10\n",
        "  n = n // 10\n",
        "print(first, last)"
      ],
      "metadata": {
        "colab": {
          "base_uri": "https://localhost:8080/"
        },
        "id": "Lq65_LjkBtAB",
        "outputId": "5daef546-4b86-4d13-8c28-4a7c1021cee3"
      },
      "execution_count": null,
      "outputs": [
        {
          "output_type": "stream",
          "name": "stdout",
          "text": [
            "0 1\n"
          ]
        }
      ]
    },
    {
      "cell_type": "code",
      "source": [
        "# Write a program to find the sum of first and last digit of a number\n",
        "\n",
        "n = 12345\n",
        "first = n % 10\n",
        "while n > 0:\n",
        "  last = n % 10\n",
        "  n = n // 10\n",
        "print(first, last)\n",
        "\n",
        "sum_of_digit = first + last\n",
        "print(sum_of_digit)"
      ],
      "metadata": {
        "colab": {
          "base_uri": "https://localhost:8080/"
        },
        "id": "ManUF9-TD8-m",
        "outputId": "a33bb73b-4e57-4119-a610-74241a99882e"
      },
      "execution_count": null,
      "outputs": [
        {
          "output_type": "stream",
          "name": "stdout",
          "text": [
            "5 1\n",
            "6\n"
          ]
        }
      ]
    },
    {
      "cell_type": "code",
      "source": [
        "# 10.Write a program to enter a number and print its reverse\n",
        "\n",
        "\n",
        "n = 12345\n",
        "reverse = 0\n",
        "while n > 0:\n",
        "  digit = n % 10\n",
        "  reverse = reverse * 10 + digit\n",
        "  n = n// 10\n",
        "print(\"reverse number\", reverse)"
      ],
      "metadata": {
        "colab": {
          "base_uri": "https://localhost:8080/"
        },
        "id": "A0T6r6f9GvFM",
        "outputId": "61f4dfc9-bdd5-4868-bcab-d5a9099c72b3"
      },
      "execution_count": null,
      "outputs": [
        {
          "output_type": "stream",
          "name": "stdout",
          "text": [
            "reverse number 54321\n"
          ]
        }
      ]
    },
    {
      "cell_type": "code",
      "source": [
        "# Write a program to find the power of a number using for loop\n",
        "\n",
        "base = 3\n",
        "power = 3\n",
        "result = 1\n",
        "for i in range(power):\n",
        "  result = result * base\n",
        "print(result)\n"
      ],
      "metadata": {
        "colab": {
          "base_uri": "https://localhost:8080/"
        },
        "id": "MQRVxcN9JHKi",
        "outputId": "15c23fd6-3aed-4d1f-a206-5e2c199d3ab4"
      },
      "execution_count": null,
      "outputs": [
        {
          "output_type": "stream",
          "name": "stdout",
          "text": [
            "27\n"
          ]
        }
      ]
    },
    {
      "cell_type": "code",
      "source": [
        "#Write a program to check whether a number is an Armstrong number or not\n",
        "\n",
        "num = int(input(\"Enter a Number:\"))\n",
        "temp = num\n",
        "sum = 0\n",
        "while temp > 0:\n",
        "  digit = temp % 10\n",
        "  sum = sum + digit ** 3\n",
        "  temp = temp // 10\n",
        "if num == sum:\n",
        "  print(\"It is an Armstrong number\")\n",
        "\n",
        "else:\n",
        "    print(\"It is not an Armstrong number\")\n"
      ],
      "metadata": {
        "colab": {
          "base_uri": "https://localhost:8080/"
        },
        "id": "DRZFS0zPNoVl",
        "outputId": "501a27a7-9b96-4d39-d8b2-6760e29fdf13"
      },
      "execution_count": null,
      "outputs": [
        {
          "output_type": "stream",
          "name": "stdout",
          "text": [
            "Enter a Number:153\n",
            "It is an Armstrong number\n"
          ]
        }
      ]
    },
    {
      "cell_type": "code",
      "source": [
        "# Write a program to check whether a number is Strong number or not\n",
        "\n",
        "num = int(input(\"Enter a number: \"))\n",
        "temp = num\n",
        "sum_of_factorials = 0\n",
        "\n",
        "while temp > 0:\n",
        "    digit = temp % 10\n",
        "    factorial = 1\n",
        "    for i in range(1, digit + 1):\n",
        "        factorial *= i\n",
        "    sum_of_factorials += factorial\n",
        "    temp //= 10\n",
        "\n",
        "if num == sum_of_factorials:\n",
        "    print(\"It is a Strong number.\")\n",
        "else:\n",
        "    print(\"It is not a Strong number.\")\n"
      ],
      "metadata": {
        "colab": {
          "base_uri": "https://localhost:8080/"
        },
        "id": "gp-jXvYRUKbu",
        "outputId": "da066c77-25cd-4d9a-ad8b-0a900e1397eb"
      },
      "execution_count": null,
      "outputs": [
        {
          "output_type": "stream",
          "name": "stdout",
          "text": [
            "Enter a number: 145\n",
            "It is a Strong number.\n"
          ]
        }
      ]
    },
    {
      "cell_type": "code",
      "source": [
        "#Write a program to check whether a number is perfect number or not\n",
        "\n",
        "num = int(input(\"Enter a Number: \"))\n",
        "sum_of_divisors = 0\n",
        "\n",
        "for i in range (1, num):\n",
        "  if num % i == 0:\n",
        "    sum_of_divisors = sum_of_divisors + i\n",
        "if num == sum_of_divisors:\n",
        "  print(\"It is a perfect number\")\n",
        "else:\n",
        "  print(\"It is not a perfect number\")\n",
        "\n"
      ],
      "metadata": {
        "colab": {
          "base_uri": "https://localhost:8080/"
        },
        "id": "D3ogDvzLYDIc",
        "outputId": "e6fe1cdf-6fb1-4701-bf5f-4c573891ed03"
      },
      "execution_count": null,
      "outputs": [
        {
          "output_type": "stream",
          "name": "stdout",
          "text": [
            "Enter a Number: 8\n",
            "It is not a perfect number\n"
          ]
        }
      ]
    },
    {
      "cell_type": "code",
      "source": [
        "# 21.Write a program to print fibonacci series upto n terms\n",
        "\n",
        "#  In the Fibonacci series, each number is the sum of the two preceding ones, starting from 0 and 1\n",
        "\n",
        "n = int(input(\"Enter the number of terms: \"))\n",
        "\n",
        "a, b = 0, 1\n",
        "\n",
        "print(\"Fibonacci series up to\", n, \"terms:\")\n",
        "for _ in range(n):\n",
        "    print(a, end=\" \")\n",
        "    a, b = b, a + b\n",
        "\n"
      ],
      "metadata": {
        "colab": {
          "base_uri": "https://localhost:8080/"
        },
        "id": "FpYTWMy8diFy",
        "outputId": "cd2b8822-8ea4-465f-e536-e6cca0856e78"
      },
      "execution_count": null,
      "outputs": [
        {
          "output_type": "stream",
          "name": "stdout",
          "text": [
            "Enter the number of terms: 10\n",
            "Fibonacci series up to 10 terms:\n",
            "0 1 1 2 3 5 8 13 21 34 "
          ]
        }
      ]
    },
    {
      "cell_type": "code",
      "source": [
        "# Write a program to find all factors of a number\n",
        "# fact = 6\n",
        "\n",
        "num = 30\n",
        "for i in range (1, num+1):\n",
        "  if num % i == 0:\n",
        "    print(i)\n",
        "\n"
      ],
      "metadata": {
        "colab": {
          "base_uri": "https://localhost:8080/"
        },
        "id": "WGSd-l0Tohq9",
        "outputId": "8532463d-c531-4069-d713-e7b42df62ec1"
      },
      "execution_count": null,
      "outputs": [
        {
          "output_type": "stream",
          "name": "stdout",
          "text": [
            "1\n",
            "2\n",
            "3\n",
            "5\n",
            "6\n",
            "10\n",
            "15\n",
            "30\n"
          ]
        }
      ]
    },
    {
      "cell_type": "code",
      "source": [
        " #write a program to find palindrome number using while loop\n",
        "\n",
        "n = 1221\n",
        "temp = n\n",
        "reverse = 0\n",
        "\n",
        "while temp > 0:\n",
        "  digit = temp % 10\n",
        "  reverse = reverse * 10 + digit\n",
        "  temp //= 10\n",
        "\n",
        "if n == reverse:\n",
        "  print(n, \"is a palindrome number\")\n",
        "else:\n",
        "  print(n, \"is not a palindrome number\")\n"
      ],
      "metadata": {
        "colab": {
          "base_uri": "https://localhost:8080/"
        },
        "id": "Cn1Gfcxdza-0",
        "outputId": "d62ef2fb-2810-483a-a0ee-10de2687b03c"
      },
      "execution_count": null,
      "outputs": [
        {
          "output_type": "stream",
          "name": "stdout",
          "text": [
            "1221 is a palindrome number\n"
          ]
        }
      ]
    },
    {
      "cell_type": "code",
      "source": [],
      "metadata": {
        "id": "5N8kurruziD6"
      },
      "execution_count": null,
      "outputs": []
    }
  ]
}