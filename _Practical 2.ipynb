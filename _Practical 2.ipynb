{
 "cells": [
  {
   "cell_type": "code",
   "execution_count": 1,
   "id": "a31b9e45-1f6a-488a-8656-9a5a29ca3d78",
   "metadata": {},
   "outputs": [
    {
     "name": "stdout",
     "output_type": "stream",
     "text": [
      "Jaipur is ncie city \n",
      "Its in rajasthan\n",
      "Its in India\n"
     ]
    }
   ],
   "source": [
    "# NEW LINE CHARACTER\n",
    "\n",
    "print('Jaipur is ncie city ' ,end='\\n')\n",
    "print('Its in rajasthan')\n",
    "print('Its in India')"
   ]
  },
  {
   "cell_type": "code",
   "execution_count": 3,
   "id": "ca257c68-366c-4f3b-ad3b-eaf15f464902",
   "metadata": {},
   "outputs": [
    {
     "name": "stdout",
     "output_type": "stream",
     "text": [
      "My age is 40\n",
      "My age is, 50\n"
     ]
    }
   ],
   "source": [
    "print('My age is',40)\n",
    "age = 50\n",
    "\n",
    "print(f'My age is, {age}')"
   ]
  },
  {
   "cell_type": "code",
   "execution_count": 5,
   "id": "d94b5a5d-457b-4a09-817b-6f3cff78d338",
   "metadata": {},
   "outputs": [
    {
     "name": "stdout",
     "output_type": "stream",
     "text": [
      "My name is vaishnavi**I am a trainer\n"
     ]
    }
   ],
   "source": [
    "#print function\n",
    "#concetenation\n",
    "#f-string\n",
    "print('My name is vaishnavi',end='**')\n",
    "print('I am a trainer')\n",
    "\n"
   ]
  },
  {
   "cell_type": "code",
   "execution_count": 7,
   "id": "84917dfd-039c-4e17-bbc5-3c559cc41bdc",
   "metadata": {},
   "outputs": [
    {
     "name": "stdout",
     "output_type": "stream",
     "text": [
      "<class 'int'>\n"
     ]
    }
   ],
   "source": [
    "#data types\n",
    "#string\n",
    "#int\n",
    "#float\n",
    "#boolean\n",
    "\n",
    "a =12\n",
    "print(type(a))\n"
   ]
  },
  {
   "cell_type": "code",
   "execution_count": 9,
   "id": "d71d1aca-5e74-4a6c-af99-cbe01ebaf1f1",
   "metadata": {},
   "outputs": [
    {
     "data": {
      "text/plain": [
       "'12'"
      ]
     },
     "execution_count": 9,
     "metadata": {},
     "output_type": "execute_result"
    }
   ],
   "source": [
    "#conversion of data types\n",
    "#str(variable name)\n",
    "#int(variable)\n",
    "#bool,float\n",
    "\n",
    "str(a)\n"
   ]
  },
  {
   "cell_type": "code",
   "execution_count": 11,
   "id": "69ae88bc-4935-48c8-a162-b79cc4ababeb",
   "metadata": {},
   "outputs": [
    {
     "name": "stdout",
     "output_type": "stream",
     "text": [
      "<class 'int'>\n"
     ]
    }
   ],
   "source": [
    "print(type(a))\n"
   ]
  },
  {
   "cell_type": "code",
   "execution_count": null,
   "id": "8b7a1691-240a-4c67-abcf-844055c93358",
   "metadata": {},
   "outputs": [],
   "source": []
  },
  {
   "cell_type": "code",
   "execution_count": 14,
   "id": "ed341f3d-ae10-4799-8c4c-c13bd212bd97",
   "metadata": {},
   "outputs": [
    {
     "data": {
      "text/plain": [
       "12.0"
      ]
     },
     "execution_count": 14,
     "metadata": {},
     "output_type": "execute_result"
    }
   ],
   "source": [
    "float(a)"
   ]
  },
  {
   "cell_type": "code",
   "execution_count": 16,
   "id": "8c061b35-a7d7-494c-af43-f36cca54aa83",
   "metadata": {},
   "outputs": [
    {
     "data": {
      "text/plain": [
       "True"
      ]
     },
     "execution_count": 16,
     "metadata": {},
     "output_type": "execute_result"
    }
   ],
   "source": [
    "bool(a)"
   ]
  },
  {
   "cell_type": "code",
   "execution_count": 18,
   "id": "ff1ba9e9-3054-44be-9e09-9456a2f118e8",
   "metadata": {},
   "outputs": [
    {
     "name": "stdout",
     "output_type": "stream",
     "text": [
      "<class 'str'>\n"
     ]
    }
   ],
   "source": [
    "b = 'Jaipur'\n",
    "print(type(b))"
   ]
  },
  {
   "cell_type": "code",
   "execution_count": 20,
   "id": "aac2296d-6678-43cb-af8b-69e5b1d29077",
   "metadata": {},
   "outputs": [
    {
     "name": "stdout",
     "output_type": "stream",
     "text": [
      "HELOOOO\n",
      "HOW ARE UUUUU ???\n"
     ]
    }
   ],
   "source": [
    "print('HELOOOO',end='\\n')\n",
    "print('HOW ARE UUUUU',end = ' ')\n",
    "print('???')\n",
    "\n"
   ]
  },
  {
   "cell_type": "code",
   "execution_count": 22,
   "id": "0c5a0614-e849-4e66-8076-59d577e6791f",
   "metadata": {},
   "outputs": [
    {
     "name": "stdout",
     "output_type": "stream",
     "text": [
      "<class 'str'>\n"
     ]
    }
   ],
   "source": [
    "bool(b)\n",
    "print(type(b))"
   ]
  },
  {
   "cell_type": "code",
   "execution_count": 24,
   "id": "d94799b7-c6ba-48f5-9386-313ab77854db",
   "metadata": {},
   "outputs": [
    {
     "ename": "ValueError",
     "evalue": "could not convert string to float: 'Jaipur'",
     "output_type": "error",
     "traceback": [
      "\u001b[1;31m---------------------------------------------------------------------------\u001b[0m",
      "\u001b[1;31mValueError\u001b[0m                                Traceback (most recent call last)",
      "Cell \u001b[1;32mIn[24], line 1\u001b[0m\n\u001b[1;32m----> 1\u001b[0m \u001b[38;5;28mfloat\u001b[39m(b)\n\u001b[0;32m      2\u001b[0m \u001b[38;5;28mprint\u001b[39m(\u001b[38;5;28mtype\u001b[39m(b))\n",
      "\u001b[1;31mValueError\u001b[0m: could not convert string to float: 'Jaipur'"
     ]
    }
   ],
   "source": [
    "float(b)\n",
    "print(type(b))\n",
    "\n",
    "\n",
    "# could not convert string to float"
   ]
  },
  {
   "cell_type": "code",
   "execution_count": 26,
   "id": "b7cea4e8-1104-4e1a-820a-3c8032b68333",
   "metadata": {},
   "outputs": [
    {
     "ename": "ValueError",
     "evalue": "invalid literal for int() with base 10: 'Jaipur'",
     "output_type": "error",
     "traceback": [
      "\u001b[1;31m---------------------------------------------------------------------------\u001b[0m",
      "\u001b[1;31mValueError\u001b[0m                                Traceback (most recent call last)",
      "Cell \u001b[1;32mIn[26], line 1\u001b[0m\n\u001b[1;32m----> 1\u001b[0m \u001b[38;5;28mint\u001b[39m(b)\n\u001b[0;32m      2\u001b[0m \u001b[38;5;28mprint\u001b[39m(\u001b[38;5;28mtype\u001b[39m(b))\n",
      "\u001b[1;31mValueError\u001b[0m: invalid literal for int() with base 10: 'Jaipur'"
     ]
    }
   ],
   "source": [
    "int(b)\n",
    "print(type(b))\n",
    "\n",
    "\n",
    "# could not convert into int\n"
   ]
  },
  {
   "cell_type": "code",
   "execution_count": 28,
   "id": "bbd8cdd7-5fd7-48b6-8014-f78438e83674",
   "metadata": {},
   "outputs": [
    {
     "data": {
      "text/plain": [
       "True"
      ]
     },
     "execution_count": 28,
     "metadata": {},
     "output_type": "execute_result"
    }
   ],
   "source": [
    "bool(b)"
   ]
  },
  {
   "cell_type": "code",
   "execution_count": 30,
   "id": "ea24c1df-342d-4c9f-ab0c-d8fde84b64ba",
   "metadata": {},
   "outputs": [
    {
     "data": {
      "text/plain": [
       "True"
      ]
     },
     "execution_count": 30,
     "metadata": {},
     "output_type": "execute_result"
    }
   ],
   "source": [
    "bool(a)"
   ]
  },
  {
   "cell_type": "code",
   "execution_count": 32,
   "id": "3d9f5867-6a57-4afd-840b-14dad118349d",
   "metadata": {},
   "outputs": [
    {
     "data": {
      "text/plain": [
       "12.0"
      ]
     },
     "execution_count": 32,
     "metadata": {},
     "output_type": "execute_result"
    }
   ],
   "source": [
    "float(a)"
   ]
  },
  {
   "cell_type": "code",
   "execution_count": 34,
   "id": "5c1ac45f-239a-4257-989d-ada17f8dd762",
   "metadata": {},
   "outputs": [
    {
     "data": {
      "text/plain": [
       "'12'"
      ]
     },
     "execution_count": 34,
     "metadata": {},
     "output_type": "execute_result"
    }
   ],
   "source": [
    "str(a)"
   ]
  },
  {
   "cell_type": "code",
   "execution_count": 36,
   "id": "4f9a91af-8b50-40ab-9394-70d74c3d88a8",
   "metadata": {},
   "outputs": [
    {
     "data": {
      "text/plain": [
       "12"
      ]
     },
     "execution_count": 36,
     "metadata": {},
     "output_type": "execute_result"
    }
   ],
   "source": [
    "int(a)"
   ]
  },
  {
   "cell_type": "code",
   "execution_count": 38,
   "id": "55bb3f18-568d-4426-b8c3-39f33edf8f7a",
   "metadata": {},
   "outputs": [
    {
     "name": "stdout",
     "output_type": "stream",
     "text": [
      "<class 'int'>\n"
     ]
    }
   ],
   "source": [
    "c = 0\n",
    "d = ' '\n",
    "print(type(c))\n",
    "\n"
   ]
  },
  {
   "cell_type": "code",
   "execution_count": 40,
   "id": "3d0fa82c-2d19-4d8f-95f4-6a0b7ec8138a",
   "metadata": {},
   "outputs": [
    {
     "data": {
      "text/plain": [
       "False"
      ]
     },
     "execution_count": 40,
     "metadata": {},
     "output_type": "execute_result"
    }
   ],
   "source": [
    "bool(c)"
   ]
  },
  {
   "cell_type": "code",
   "execution_count": 42,
   "id": "7e923c91-a6cc-4515-adea-17b243204e28",
   "metadata": {},
   "outputs": [
    {
     "data": {
      "text/plain": [
       "' '"
      ]
     },
     "execution_count": 42,
     "metadata": {},
     "output_type": "execute_result"
    }
   ],
   "source": [
    "str(d)"
   ]
  },
  {
   "cell_type": "code",
   "execution_count": 44,
   "id": "5163d5d4-29d5-4f18-9502-f170f36270e0",
   "metadata": {},
   "outputs": [
    {
     "name": "stdout",
     "output_type": "stream",
     "text": [
      "30\n",
      "-10\n",
      "0.5\n",
      "200\n",
      "10\n",
      "100000000000000000000\n",
      "0\n"
     ]
    }
   ],
   "source": [
    "# OPERATORS\n",
    "\n",
    "#1] ARITHMETIC OPERATORS (+,-,/,*,%,**,//)\n",
    "\n",
    "a = 10\n",
    "b = 20\n",
    "\n",
    "print(a+b)\n",
    "print(a-b)\n",
    "print(a/b)\n",
    "print(a*b)\n",
    "print(a%b)  #modulus\n",
    "print(a**b)  #exponention\n",
    "print(a//b)   #floor division\n",
    "\n",
    "\n"
   ]
  },
  {
   "cell_type": "code",
   "execution_count": 46,
   "id": "72bee6b7-48ee-4a8c-9071-99efefd6c1d5",
   "metadata": {},
   "outputs": [
    {
     "name": "stdout",
     "output_type": "stream",
     "text": [
      "False\n",
      "True\n",
      "True\n",
      "False\n",
      "False\n",
      "True\n"
     ]
    }
   ],
   "source": [
    "# COMPARISON OPERATOR (==,!=,<=,>=,>,<)\n",
    "\n",
    "\n",
    "print(a==b)\n",
    "print(a!=b)\n",
    "print(a<=b)\n",
    "print(a>=b)\n",
    "print(a>b)\n",
    "print(a<b)\n",
    "\n"
   ]
  },
  {
   "cell_type": "code",
   "execution_count": 48,
   "id": "e582a726-cdbc-4554-b61d-b3b097759893",
   "metadata": {},
   "outputs": [
    {
     "name": "stdout",
     "output_type": "stream",
     "text": [
      "7\n",
      "4\n",
      "12\n",
      "4.0\n",
      "1.0\n",
      "1.0\n",
      "1.0\n"
     ]
    }
   ],
   "source": [
    "# ASSIGNMENT OPERATOR  (=,+=,-=,*=,/=,//=,**=,%=)\n",
    "#UNARY OPERAND\n",
    "\n",
    "x = 5\n",
    "x += 2\n",
    "print(x)\n",
    "\n",
    "x -= 3\n",
    "print(x)\n",
    "\n",
    "x *= 3\n",
    "print(x)\n",
    "\n",
    "x /= 3\n",
    "print(x)\n",
    "\n",
    "x//=3\n",
    "print(x)\n",
    "\n",
    "x %= 3\n",
    "print(x)\n",
    "\n",
    "x**= 3\n",
    "print(x)"
   ]
  },
  {
   "cell_type": "code",
   "execution_count": 50,
   "id": "519098d1-da1b-4e10-9f36-0567101f1ce3",
   "metadata": {},
   "outputs": [
    {
     "name": "stdout",
     "output_type": "stream",
     "text": [
      "10\n",
      "7\n",
      "35\n",
      "4.375\n",
      "0.0\n",
      "0.0\n",
      "0.0\n"
     ]
    }
   ],
   "source": [
    "y = 8\n",
    "\n",
    "y += 2\n",
    "print(y)\n",
    "\n",
    "y -= 3\n",
    "print(y)\n",
    "\n",
    "y *= 5\n",
    "print(y)\n",
    "\n",
    "y /= 8\n",
    "print(y)\n",
    "\n",
    "y //= 8\n",
    "print(y)\n",
    "\n",
    "y %= 8   # modulus shows remainder\n",
    "print(y)\n",
    "\n",
    "y **= 4  # it define power of no.\n",
    "print(y)\n",
    "\n"
   ]
  },
  {
   "cell_type": "code",
   "execution_count": 52,
   "id": "d8a01394-583a-428c-b6b6-8d23f422d511",
   "metadata": {},
   "outputs": [
    {
     "name": "stdout",
     "output_type": "stream",
     "text": [
      "9\n",
      "6\n",
      "46656\n",
      "9331\n",
      "55986\n",
      "7998.0\n",
      "0.0\n",
      "7.714285714285708\n"
     ]
    }
   ],
   "source": [
    "# 5 + 4 - 3 ** 6 // 5 *6 / 7%3\n",
    "\n",
    "\n",
    "z = 5\n",
    "\n",
    "z += 4\n",
    "print(z)\n",
    "\n",
    "z -= 3\n",
    "print(z)\n",
    "\n",
    "z **= 6\n",
    "print(z)\n",
    "\n",
    "z  //= 5\n",
    "print(z)\n",
    "\n",
    "z *= 6\n",
    "print(z)\n",
    "\n",
    "z /= 7\n",
    "print(z)\n",
    "\n",
    "z %= 3\n",
    "print(z)\n",
    "\n",
    "\n",
    "\n",
    "r = 5 + 4 - 3 ** 6 // 5 *6 / 7%3\n",
    "\n",
    "print(r)"
   ]
  },
  {
   "cell_type": "code",
   "execution_count": null,
   "id": "eb3bb3f0-23dc-46e9-b9c4-242c25c76852",
   "metadata": {},
   "outputs": [],
   "source": []
  },
  {
   "cell_type": "code",
   "execution_count": null,
   "id": "16f9c426-74d1-42a4-ac34-57a335eb3e1e",
   "metadata": {},
   "outputs": [],
   "source": []
  },
  {
   "cell_type": "code",
   "execution_count": null,
   "id": "4e7a3a6b-b217-4d2b-ab0a-e2a470b2e267",
   "metadata": {},
   "outputs": [],
   "source": []
  }
 ],
 "metadata": {
  "kernelspec": {
   "display_name": "Python 3 (ipykernel)",
   "language": "python",
   "name": "python3"
  },
  "language_info": {
   "codemirror_mode": {
    "name": "ipython",
    "version": 3
   },
   "file_extension": ".py",
   "mimetype": "text/x-python",
   "name": "python",
   "nbconvert_exporter": "python",
   "pygments_lexer": "ipython3",
   "version": "3.12.4"
  }
 },
 "nbformat": 4,
 "nbformat_minor": 5
}
