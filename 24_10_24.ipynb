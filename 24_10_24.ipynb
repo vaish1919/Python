{
  "nbformat": 4,
  "nbformat_minor": 0,
  "metadata": {
    "colab": {
      "provenance": []
    },
    "kernelspec": {
      "name": "python3",
      "display_name": "Python 3"
    },
    "language_info": {
      "name": "python"
    }
  },
  "cells": [
    {
      "cell_type": "code",
      "source": [
        "## Monotonic  --> Increasing or Decreasing order in list"
      ],
      "metadata": {
        "id": "MifdH-wwwsW5"
      },
      "execution_count": null,
      "outputs": []
    },
    {
      "cell_type": "code",
      "source": [
        "list1 = [11,10,9,8]\n",
        "\n",
        "x=0\n",
        "for i in range(0,len(list1)):\n",
        "  if list1[i] > list1[i-1]:\n",
        "    x = 1\n",
        "    break\n",
        "\n",
        "if (x==1):\n",
        "  print(\"not monotonic\")"
      ],
      "metadata": {
        "colab": {
          "base_uri": "https://localhost:8080/"
        },
        "id": "psj25l9Xtg2T",
        "outputId": "5de24485-9adb-434d-ce25-6946d6bb185d"
      },
      "execution_count": 27,
      "outputs": [
        {
          "output_type": "stream",
          "name": "stdout",
          "text": [
            "not monotonic\n"
          ]
        }
      ]
    },
    {
      "cell_type": "code",
      "source": [
        "list1 = [11,10,9,8]\n",
        "\n",
        "x=0\n",
        "for i in range(0,len(list1)):\n",
        "  if list1[i] > list1[i-1]:\n",
        "    x = 1\n",
        "    break\n",
        "\n",
        "if list1[i] < list1[i+1]:\n",
        "  print(\"monotonic\")\n",
        "else:\n",
        "  print(\"not monotonic\")"
      ],
      "metadata": {
        "colab": {
          "base_uri": "https://localhost:8080/"
        },
        "id": "gFXT-BJwv_HZ",
        "outputId": "a1a5eea9-14a4-42e3-ef37-68dcc97c8f14"
      },
      "execution_count": 29,
      "outputs": [
        {
          "output_type": "stream",
          "name": "stdout",
          "text": [
            "not monotonic\n"
          ]
        }
      ]
    },
    {
      "cell_type": "code",
      "source": [
        "list1 = [8,9,10,11]\n",
        "\n",
        "x=0\n",
        "for i in range(0,len(list1)):\n",
        "  if list1[i] > list1[i-1]:\n",
        "    x = 1\n",
        "    break\n",
        "\n",
        "if list1[i] < list1[i+1]:\n",
        "  print(\"monotonic\")\n",
        "else:\n",
        "  print(\"not monotonic\")"
      ],
      "metadata": {
        "colab": {
          "base_uri": "https://localhost:8080/"
        },
        "id": "dk6qAisTwZFq",
        "outputId": "59e9f7bd-1daa-460a-9ee0-a133b9462590"
      },
      "execution_count": 30,
      "outputs": [
        {
          "output_type": "stream",
          "name": "stdout",
          "text": [
            "monotonic\n"
          ]
        }
      ]
    },
    {
      "cell_type": "code",
      "source": [
        "list1 = [5,4,3,2,1]\n",
        "\n",
        "x=0\n",
        "for i in range(0,len(list1)):\n",
        "  if list1[i] > list1[i-1]:\n",
        "    x = 1\n",
        "    break\n",
        "\n",
        "if list1[i] < list1[i+1]:\n",
        "  print(\"monotonic\")\n",
        "else:\n",
        "  print(\"not monotonic\")"
      ],
      "metadata": {
        "colab": {
          "base_uri": "https://localhost:8080/"
        },
        "id": "-8mEMgYQxb_l",
        "outputId": "92cf222f-ca8c-4003-e04b-74e789934b88"
      },
      "execution_count": 31,
      "outputs": [
        {
          "output_type": "stream",
          "name": "stdout",
          "text": [
            "not monotonic\n"
          ]
        }
      ]
    },
    {
      "cell_type": "code",
      "source": [
        "## Disarium NUmber\n",
        "\n",
        " # power of individual number or addition of it euqals to the given number"
      ],
      "metadata": {
        "id": "jgZ_bFWT3j04"
      },
      "execution_count": 1,
      "outputs": []
    },
    {
      "cell_type": "code",
      "source": [
        "\n",
        "num = 89\n",
        "count = 0\n",
        "sum = 0\n",
        "temp = num\n",
        "\n",
        "while num > 0:\n",
        "  count = count+1\n",
        "  num = num // 10\n",
        "\n",
        "num = temp\n",
        "\n",
        "while num > 0:\n",
        "  rem = num % 10\n",
        "  sum = sum + (rem**count)\n",
        "  num = num // 10\n",
        "  count  = count - 1\n",
        "\n",
        "if (sum == temp):\n",
        "  print(\"disarium\")\n",
        "else:\n",
        "  print(\"not disarium\")\n"
      ],
      "metadata": {
        "colab": {
          "base_uri": "https://localhost:8080/"
        },
        "id": "YG6M5lmz053N",
        "outputId": "9c6394ca-823e-487f-8238-98f8eb6e7dde"
      },
      "execution_count": 2,
      "outputs": [
        {
          "output_type": "stream",
          "name": "stdout",
          "text": [
            "disarium\n"
          ]
        }
      ]
    },
    {
      "cell_type": "code",
      "source": [
        "# Harshad Number\n",
        "\n",
        "# Harshad Numbers can be divided by the sum of its digits.\n",
        "# Ex. 18\n",
        "# 1+8 = 9\n",
        "# It can be divided by 9"
      ],
      "metadata": {
        "id": "o-zNJKw125Et"
      },
      "execution_count": 3,
      "outputs": []
    },
    {
      "cell_type": "code",
      "source": [
        "n = 18\n",
        "sum = 0\n",
        "temp = n\n",
        "while n > 0:\n",
        "  rem = n % 10\n",
        "  sum = sum + rem\n",
        "  n = n // 10\n",
        "\n",
        "if (temp % sum == 0):\n",
        "  print(\"harshad\")\n",
        "else:\n",
        "  print(\"not harshad\")\n",
        "\n"
      ],
      "metadata": {
        "colab": {
          "base_uri": "https://localhost:8080/"
        },
        "id": "Dsohf-bs4RJ8",
        "outputId": "bf82e687-8e7a-422c-83d7-e8496c64c43b"
      },
      "execution_count": 15,
      "outputs": [
        {
          "output_type": "stream",
          "name": "stdout",
          "text": [
            "harshad\n"
          ]
        }
      ]
    },
    {
      "cell_type": "code",
      "source": [],
      "metadata": {
        "id": "fqbBjbkc5Qj7"
      },
      "execution_count": null,
      "outputs": []
    }
  ]
}