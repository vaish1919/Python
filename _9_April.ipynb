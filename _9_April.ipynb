{
 "cells": [
  {
   "cell_type": "code",
   "execution_count": 33,
   "id": "68f369c4-9faa-4d47-b475-dc17f708e7f4",
   "metadata": {},
   "outputs": [
    {
     "name": "stdout",
     "output_type": "stream",
     "text": [
      "[10, 20]\n"
     ]
    }
   ],
   "source": [
    "mylist = [10,20,30,20,50,40,20,10,10]\n",
    "newlist =[]\n",
    "\n",
    "for i in range(0,len(mylist)):\n",
    "    \n",
    "    for j in range(i+1,len(mylist)):\n",
    "        if mylist[i] == mylist[j]:\n",
    "            if mylist[i] not in newlist:\n",
    "                newlist.append(mylist[i])\n",
    "print(newlist)\n",
    "        "
   ]
  },
  {
   "cell_type": "code",
   "execution_count": 39,
   "id": "f1855a06-7140-42c5-b089-1904d2dbd71e",
   "metadata": {},
   "outputs": [
    {
     "name": "stdout",
     "output_type": "stream",
     "text": [
      "10\n",
      "10\n",
      "20\n",
      "20\n",
      "20\n",
      "10\n"
     ]
    }
   ],
   "source": [
    "mylist = [10,20,30,20,50,40,20,10,10]\n",
    "\n",
    "for i in range(0,len(mylist)):\n",
    "        for j in range(i+1,len(mylist)):\n",
    "            if mylist[i] == mylist[j]:\n",
    "                print(mylist[j])\n"
   ]
  },
  {
   "cell_type": "code",
   "execution_count": 49,
   "id": "db70123a-c744-4757-934c-8b930e28df33",
   "metadata": {},
   "outputs": [
    {
     "name": "stdout",
     "output_type": "stream",
     "text": [
      "Palindrome List\n"
     ]
    }
   ],
   "source": [
    "# two pointer approach \n",
    "\n",
    "mylist = [10,20,30,20,10]\n",
    "\n",
    "index = 0\n",
    "a = 0\n",
    "end = len(mylist) - 1\n",
    "\n",
    "while(index < end):\n",
    "    if (mylist[index] != mylist[end]):\n",
    "        a=5\n",
    "        break\n",
    "    index +=1 \n",
    "    end -= 1\n",
    "\n",
    "if(a==0):\n",
    "    print(\"Palindrome List\")\n",
    "else:\n",
    "    print(\"Not a palindrome list\")\n",
    "    "
   ]
  },
  {
   "cell_type": "code",
   "execution_count": 67,
   "id": "89626a41-e552-4e1d-b3d1-503b8d069bb4",
   "metadata": {},
   "outputs": [
    {
     "name": "stdout",
     "output_type": "stream",
     "text": [
      "Palindrome List\n"
     ]
    }
   ],
   "source": [
    "mylist = [\"mama\"]\n",
    "\n",
    "index = 0\n",
    "a = 0\n",
    "end = len(mylist) - 1\n",
    "\n",
    "while(index < end):\n",
    "    if (mylist[index] != mylist[end]):\n",
    "        a=5\n",
    "        break\n",
    "    index +=1 \n",
    "    end -= 1\n",
    "\n",
    "if(a==0):\n",
    "    print(\"Palindrome List\")\n",
    "else:\n",
    "    print(\"Not a palindrome list\")\n",
    "    "
   ]
  },
  {
   "cell_type": "code",
   "execution_count": null,
   "id": "ecdeba49-f4e7-4a26-89d5-0e260a6aaf1c",
   "metadata": {},
   "outputs": [],
   "source": [
    "# swap number \n",
    "\n",
    "a = 10\n",
    "b = 20\n"
   ]
  },
  {
   "cell_type": "code",
   "execution_count": 76,
   "id": "8d8feae5-9bdc-40c5-9596-1ef85896b10f",
   "metadata": {},
   "outputs": [
    {
     "name": "stdout",
     "output_type": "stream",
     "text": [
      "[50, 40, 30, 20, 10]\n"
     ]
    }
   ],
   "source": [
    "mylist = [10,20,30,40,50]\n",
    "\n",
    "index = 0\n",
    "end = len(mylist) - 1\n",
    "\n",
    "while(index < end):\n",
    "    temp = mylist[index]\n",
    "    mylist[index] = mylist[end]\n",
    "    mylist[end] = temp\n",
    "    index += 1\n",
    "    end -= 1\n",
    "    \n",
    "print(mylist)"
   ]
  },
  {
   "cell_type": "code",
   "execution_count": 84,
   "id": "357b08f4-e055-4d2d-b606-1ce6cf8ac6cc",
   "metadata": {},
   "outputs": [
    {
     "name": "stdout",
     "output_type": "stream",
     "text": [
      "400\n"
     ]
    }
   ],
   "source": [
    "mylist = [10,20,3,400,50]\n",
    "\n",
    "max = mylist[0]\n",
    "\n",
    "for i in mylist:\n",
    "    if i > max:\n",
    "        max = i\n",
    "print(max)"
   ]
  },
  {
   "cell_type": "code",
   "execution_count": 96,
   "id": "c1104bae-9129-462b-8eb0-f92c9444f0e3",
   "metadata": {},
   "outputs": [
    {
     "name": "stdout",
     "output_type": "stream",
     "text": [
      "second max -  10\n",
      "20 10\n",
      "400 20\n",
      "second max -  50\n"
     ]
    }
   ],
   "source": [
    "mylist = [10,20,3,400,50]\n",
    "\n",
    "max1 = mylist[0]\n",
    "smax = 0\n",
    "\n",
    "for i in mylist:\n",
    "    if (i > max1):\n",
    "        smax = max1\n",
    "        max1 = i\n",
    "        print(max1, smax)\n",
    "    elif(i > smax):\n",
    "        smax = i\n",
    "        print(\"second max - \",smax)"
   ]
  },
  {
   "cell_type": "code",
   "execution_count": 98,
   "id": "cd57d2f4-1727-450a-bca1-983c62b69083",
   "metadata": {},
   "outputs": [
    {
     "data": {
      "text/plain": [
       "['hey', 'hello', 'tushar']"
      ]
     },
     "execution_count": 98,
     "metadata": {},
     "output_type": "execute_result"
    }
   ],
   "source": [
    "s = \"hey hello tushar\"\n",
    "s.split(\" \")"
   ]
  },
  {
   "cell_type": "code",
   "execution_count": 100,
   "id": "a0076a5a-28a1-4f68-a6ac-87baeaca1ef7",
   "metadata": {},
   "outputs": [
    {
     "data": {
      "text/plain": [
       "['', 'ey ', 'ello tus', 'ar']"
      ]
     },
     "execution_count": 100,
     "metadata": {},
     "output_type": "execute_result"
    }
   ],
   "source": [
    "s = \"hey hello tushar\"\n",
    "s.split(\"h\")"
   ]
  },
  {
   "cell_type": "code",
   "execution_count": 102,
   "id": "26c0fb23-85e7-47b6-a0e3-36cb5f86fa38",
   "metadata": {},
   "outputs": [
    {
     "name": "stdout",
     "output_type": "stream",
     "text": [
      "hey\n",
      "hello\n",
      "tushar\n"
     ]
    }
   ],
   "source": [
    "s = \"hey hello tushar\"\n",
    "for word in s.split(\" \"):\n",
    "    print(word)"
   ]
  },
  {
   "cell_type": "code",
   "execution_count": 104,
   "id": "35865f81-4531-4d8b-b7b5-6018239aafc1",
   "metadata": {},
   "outputs": [
    {
     "name": "stdout",
     "output_type": "stream",
     "text": [
      "['hey', 'hello', 'tushar']\n"
     ]
    }
   ],
   "source": [
    "s = \"hey hello tushar\"\n",
    "x = s.split(\" \")\n",
    "print(x)"
   ]
  },
  {
   "cell_type": "code",
   "execution_count": 110,
   "id": "ad7b2b18-ce5a-4042-bdcd-b01a34cb918f",
   "metadata": {},
   "outputs": [
    {
     "data": {
      "text/plain": [
       "'hey-hello-tushar'"
      ]
     },
     "execution_count": 110,
     "metadata": {},
     "output_type": "execute_result"
    }
   ],
   "source": [
    "## Join\n",
    "\n",
    "\"-\".join(x)"
   ]
  },
  {
   "cell_type": "code",
   "execution_count": 112,
   "id": "b902aa57-a4d9-474d-bb7b-8e4ef5d8281f",
   "metadata": {},
   "outputs": [],
   "source": [
    "# 1] list1 = [\"heyy\"]\n",
    "# print this -> [h,he,hey,heyy,e,ey,eyy,y,yy]\n"
   ]
  },
  {
   "cell_type": "code",
   "execution_count": 116,
   "id": "8cb48f46-c565-4119-8d0a-cc3bb03c11a3",
   "metadata": {},
   "outputs": [],
   "source": [
    "# Running sum\n",
    "# 2] list2 = [10,2,3,5,7]\n",
    "# ---> [10,12,15,20,27]\n"
   ]
  },
  {
   "cell_type": "code",
   "execution_count": 120,
   "id": "f7b9eced-1809-4463-86cd-906f9a2581ac",
   "metadata": {},
   "outputs": [],
   "source": [
    "# Unique elements\n",
    "# 3] mylist = [10,20,10,60,7]\n",
    "# --> [20,60,7]"
   ]
  },
  {
   "cell_type": "code",
   "execution_count": 122,
   "id": "da563884-6808-46b0-b986-6c03f84b92cd",
   "metadata": {},
   "outputs": [],
   "source": [
    "# symmetric or not \n",
    "# 4] mylist = [\"khokho\",\"abab\"]\n",
    "# --> kho kho , ab ab "
   ]
  },
  {
   "cell_type": "code",
   "execution_count": null,
   "id": "dea13004-0389-48fe-9706-12d5bf1c8565",
   "metadata": {},
   "outputs": [],
   "source": []
  }
 ],
 "metadata": {
  "kernelspec": {
   "display_name": "Python 3 (ipykernel)",
   "language": "python",
   "name": "python3"
  },
  "language_info": {
   "codemirror_mode": {
    "name": "ipython",
    "version": 3
   },
   "file_extension": ".py",
   "mimetype": "text/x-python",
   "name": "python",
   "nbconvert_exporter": "python",
   "pygments_lexer": "ipython3",
   "version": "3.12.4"
  }
 },
 "nbformat": 4,
 "nbformat_minor": 5
}
