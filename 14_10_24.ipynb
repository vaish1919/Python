{
  "nbformat": 4,
  "nbformat_minor": 0,
  "metadata": {
    "colab": {
      "provenance": []
    },
    "kernelspec": {
      "name": "python3",
      "display_name": "Python 3"
    },
    "language_info": {
      "name": "python"
    }
  },
  "cells": [
    {
      "cell_type": "code",
      "source": [
        "## NESTED LOOP\n",
        "\n",
        "for i in range(1,4):\n",
        "  print(\"Hey\")\n",
        "\n",
        "  for j in range(10,12):\n",
        "    print(\"Hello\",j)\n"
      ],
      "metadata": {
        "id": "uozO3cpBsRTk",
        "colab": {
          "base_uri": "https://localhost:8080/"
        },
        "outputId": "731a0f51-db40-43f0-c6ca-d4d543113086"
      },
      "execution_count": 5,
      "outputs": [
        {
          "output_type": "stream",
          "name": "stdout",
          "text": [
            "Hey\n",
            "Hello 10\n",
            "Hello 11\n",
            "Hey\n",
            "Hello 10\n",
            "Hello 11\n",
            "Hey\n",
            "Hello 10\n",
            "Hello 11\n"
          ]
        }
      ]
    },
    {
      "cell_type": "code",
      "source": [
        "for student in range(1,4):\n",
        "  print(\"Student:\",student)\n",
        "\n",
        "  for marks in range(1,4):\n",
        "    print(\"Marks:\",marks)"
      ],
      "metadata": {
        "colab": {
          "base_uri": "https://localhost:8080/"
        },
        "id": "2JWbmVfN0RUv",
        "outputId": "84c88d04-9e4d-404d-9c23-0ca038ee27b1"
      },
      "execution_count": 7,
      "outputs": [
        {
          "output_type": "stream",
          "name": "stdout",
          "text": [
            "Student: 1\n",
            "Marks: 1\n",
            "Marks: 2\n",
            "Marks: 3\n",
            "Student: 2\n",
            "Marks: 1\n",
            "Marks: 2\n",
            "Marks: 3\n",
            "Student: 3\n",
            "Marks: 1\n",
            "Marks: 2\n",
            "Marks: 3\n"
          ]
        }
      ]
    },
    {
      "cell_type": "code",
      "source": [
        "# write a program to calculate table of number\n",
        "\n",
        "num = 2\n",
        "\n",
        "for i in range(1,11):\n",
        "  print(num,\"*\",i,\"=\",num*i)"
      ],
      "metadata": {
        "colab": {
          "base_uri": "https://localhost:8080/"
        },
        "id": "BUWyRvI01YG_",
        "outputId": "3edd48b7-10af-4e41-a914-bc999a0443ad"
      },
      "execution_count": 8,
      "outputs": [
        {
          "output_type": "stream",
          "name": "stdout",
          "text": [
            "2 * 1 = 2\n",
            "2 * 2 = 4\n",
            "2 * 3 = 6\n",
            "2 * 4 = 8\n",
            "2 * 5 = 10\n",
            "2 * 6 = 12\n",
            "2 * 7 = 14\n",
            "2 * 8 = 16\n",
            "2 * 9 = 18\n",
            "2 * 10 = 20\n"
          ]
        }
      ]
    },
    {
      "cell_type": "code",
      "source": [
        "for num in range (2,6):\n",
        "  print(\"Table of 2\",num)\n",
        "\n",
        "  for i in range(1,11):\n",
        "    print(num*i)\n",
        "\n"
      ],
      "metadata": {
        "colab": {
          "base_uri": "https://localhost:8080/"
        },
        "id": "fVYGxekT21Df",
        "outputId": "55858444-4193-41e1-a555-8e5e6a80f27e"
      },
      "execution_count": 12,
      "outputs": [
        {
          "output_type": "stream",
          "name": "stdout",
          "text": [
            "Table of 2 2\n",
            "2\n",
            "4\n",
            "6\n",
            "8\n",
            "10\n",
            "12\n",
            "14\n",
            "16\n",
            "18\n",
            "20\n",
            "Table of 2 3\n",
            "3\n",
            "6\n",
            "9\n",
            "12\n",
            "15\n",
            "18\n",
            "21\n",
            "24\n",
            "27\n",
            "30\n",
            "Table of 2 4\n",
            "4\n",
            "8\n",
            "12\n",
            "16\n",
            "20\n",
            "24\n",
            "28\n",
            "32\n",
            "36\n",
            "40\n",
            "Table of 2 5\n",
            "5\n",
            "10\n",
            "15\n",
            "20\n",
            "25\n",
            "30\n",
            "35\n",
            "40\n",
            "45\n",
            "50\n"
          ]
        }
      ]
    },
    {
      "cell_type": "code",
      "source": [
        "# write a 2 to 5 table\n",
        "\n",
        "for num in range(2,6):\n",
        "  print(\"Table of:\",num)\n",
        "\n",
        "  for i in range(1,11):\n",
        "    print(num,\"*\",i,\"=\",num*i)"
      ],
      "metadata": {
        "colab": {
          "base_uri": "https://localhost:8080/"
        },
        "id": "h39OzUIJ2qox",
        "outputId": "50478b34-2667-499e-c8ee-d9e87dcb1991"
      },
      "execution_count": 10,
      "outputs": [
        {
          "output_type": "stream",
          "name": "stdout",
          "text": [
            "Table of: 2\n",
            "2 * 1 = 2\n",
            "2 * 2 = 4\n",
            "2 * 3 = 6\n",
            "2 * 4 = 8\n",
            "2 * 5 = 10\n",
            "2 * 6 = 12\n",
            "2 * 7 = 14\n",
            "2 * 8 = 16\n",
            "2 * 9 = 18\n",
            "2 * 10 = 20\n",
            "Table of: 3\n",
            "3 * 1 = 3\n",
            "3 * 2 = 6\n",
            "3 * 3 = 9\n",
            "3 * 4 = 12\n",
            "3 * 5 = 15\n",
            "3 * 6 = 18\n",
            "3 * 7 = 21\n",
            "3 * 8 = 24\n",
            "3 * 9 = 27\n",
            "3 * 10 = 30\n",
            "Table of: 4\n",
            "4 * 1 = 4\n",
            "4 * 2 = 8\n",
            "4 * 3 = 12\n",
            "4 * 4 = 16\n",
            "4 * 5 = 20\n",
            "4 * 6 = 24\n",
            "4 * 7 = 28\n",
            "4 * 8 = 32\n",
            "4 * 9 = 36\n",
            "4 * 10 = 40\n",
            "Table of: 5\n",
            "5 * 1 = 5\n",
            "5 * 2 = 10\n",
            "5 * 3 = 15\n",
            "5 * 4 = 20\n",
            "5 * 5 = 25\n",
            "5 * 6 = 30\n",
            "5 * 7 = 35\n",
            "5 * 8 = 40\n",
            "5 * 9 = 45\n",
            "5 * 10 = 50\n"
          ]
        }
      ]
    },
    {
      "cell_type": "code",
      "source": [
        "# write a program to calculate table of number using while\n",
        "\n",
        "num = 2\n",
        "i = 1\n",
        "\n",
        "while i<=10:\n",
        "  print(num,\"*\",i,\"=\",num*i)\n",
        "  i = i+1\n"
      ],
      "metadata": {
        "colab": {
          "base_uri": "https://localhost:8080/"
        },
        "id": "4aVUb_EA2UpS",
        "outputId": "870c0d69-5540-412c-de75-90fb37938ad5"
      },
      "execution_count": 9,
      "outputs": [
        {
          "output_type": "stream",
          "name": "stdout",
          "text": [
            "2 * 1 = 2\n",
            "2 * 2 = 4\n",
            "2 * 3 = 6\n",
            "2 * 4 = 8\n",
            "2 * 5 = 10\n",
            "2 * 6 = 12\n",
            "2 * 7 = 14\n",
            "2 * 8 = 16\n",
            "2 * 9 = 18\n",
            "2 * 10 = 20\n"
          ]
        }
      ]
    },
    {
      "cell_type": "code",
      "source": [
        "# factoria of 5 using for loop\n",
        "\n",
        "x = 5\n",
        "fact = 1\n",
        "\n",
        "for i in range(1,6):\n",
        "  fact = fact*i\n",
        "\n",
        "print(fact)\n",
        "\n"
      ],
      "metadata": {
        "colab": {
          "base_uri": "https://localhost:8080/"
        },
        "id": "qDXIb_-22cWj",
        "outputId": "fb347a3d-2d21-4cfa-8aad-c892c4a08a30"
      },
      "execution_count": 18,
      "outputs": [
        {
          "output_type": "stream",
          "name": "stdout",
          "text": [
            "120\n"
          ]
        }
      ]
    },
    {
      "cell_type": "code",
      "source": [
        "# factors of 2 to 10 using for loop\n",
        "\n",
        "for i in range(2,11):\n",
        "  print(\"Factors:\",i)\n",
        "\n",
        "\n",
        "  for j in range(1,i+1):\n",
        "    if i%j == 0:\n",
        "      print(j)\n",
        "\n",
        "\n",
        "# find armstrong number from 1 to 1000 using for loop\n"
      ],
      "metadata": {
        "colab": {
          "base_uri": "https://localhost:8080/"
        },
        "id": "3WhpBOeo4G7K",
        "outputId": "1e320c6f-bc76-4b9d-966f-134be8af2d47"
      },
      "execution_count": 29,
      "outputs": [
        {
          "output_type": "stream",
          "name": "stdout",
          "text": [
            "Factors: 2\n",
            "1\n",
            "2\n",
            "Factors: 3\n",
            "1\n",
            "3\n",
            "Factors: 4\n",
            "1\n",
            "2\n",
            "4\n",
            "Factors: 5\n",
            "1\n",
            "5\n",
            "Factors: 6\n",
            "1\n",
            "2\n",
            "3\n",
            "6\n",
            "Factors: 7\n",
            "1\n",
            "7\n",
            "Factors: 8\n",
            "1\n",
            "2\n",
            "4\n",
            "8\n",
            "Factors: 9\n",
            "1\n",
            "3\n",
            "9\n",
            "Factors: 10\n",
            "1\n",
            "2\n",
            "5\n",
            "10\n"
          ]
        }
      ]
    },
    {
      "cell_type": "code",
      "source": [
        "# find armstrong number from 1 to 1000 using for loop\n",
        "\n",
        "for num in range(1, 1000):\n",
        "  temp = num\n",
        "  sum = 0\n",
        "  order = len(str(num))\n",
        "\n",
        "  while temp > 0:\n",
        "    digit = temp % 10\n",
        "    sum += digit ** order\n",
        "    temp //= 10\n",
        "\n",
        "  if num == sum:\n",
        "    print(num)\n"
      ],
      "metadata": {
        "colab": {
          "base_uri": "https://localhost:8080/"
        },
        "id": "YmcqwSDW65cP",
        "outputId": "50501ce5-508a-4abb-ee89-290eb69c10d3"
      },
      "execution_count": 35,
      "outputs": [
        {
          "output_type": "stream",
          "name": "stdout",
          "text": [
            "1\n",
            "2\n",
            "3\n",
            "4\n",
            "5\n",
            "6\n",
            "7\n",
            "8\n",
            "9\n",
            "153\n",
            "370\n",
            "371\n",
            "407\n"
          ]
        }
      ]
    },
    {
      "cell_type": "markdown",
      "source": [
        "## PATTERN\n"
      ],
      "metadata": {
        "id": "VZDb7W9h7vB-"
      }
    },
    {
      "cell_type": "code",
      "source": [
        "for i in range(1,5):\n",
        "\n",
        "  for j in range(1,5):\n",
        "    print(\"*\",end = \" \")\n",
        "\n",
        "  print()"
      ],
      "metadata": {
        "colab": {
          "base_uri": "https://localhost:8080/"
        },
        "id": "-FmVMJMx7xNO",
        "outputId": "7b4182ea-ed41-42f6-f617-b35f96f2ab1d"
      },
      "execution_count": 39,
      "outputs": [
        {
          "output_type": "stream",
          "name": "stdout",
          "text": [
            "* * * * \n",
            "* * * * \n",
            "* * * * \n",
            "* * * * \n"
          ]
        }
      ]
    },
    {
      "cell_type": "code",
      "source": [
        "# write a program to print pattern of box\n",
        "\n",
        "for i in range(1,5):\n",
        "\n",
        "  for j in range(1,5):\n",
        "    if (j == 1 or j == 4 or i == 1 or i == 4):\n",
        "      print(\"*\",end = \" \")\n",
        "    else:\n",
        "      print(\" \",end = \" \")\n",
        "\n",
        "  print()\n",
        ""
      ],
      "metadata": {
        "colab": {
          "base_uri": "https://localhost:8080/"
        },
        "id": "3MzmqsTe9F7u",
        "outputId": "107aaeee-8d4d-43f9-9f33-69d09f69c635"
      },
      "execution_count": 46,
      "outputs": [
        {
          "output_type": "stream",
          "name": "stdout",
          "text": [
            "* * * * \n",
            "*     * \n",
            "*     * \n",
            "* * * * \n"
          ]
        }
      ]
    },
    {
      "cell_type": "code",
      "source": [],
      "metadata": {
        "id": "3niCtAXI-G4Q"
      },
      "execution_count": null,
      "outputs": []
    }
  ]
}