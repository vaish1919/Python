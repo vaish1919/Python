{
  "nbformat": 4,
  "nbformat_minor": 0,
  "metadata": {
    "colab": {
      "provenance": []
    },
    "kernelspec": {
      "name": "python3",
      "display_name": "Python 3"
    },
    "language_info": {
      "name": "python"
    }
  },
  "cells": [
    {
      "cell_type": "code",
      "execution_count": null,
      "metadata": {
        "colab": {
          "base_uri": "https://localhost:8080/"
        },
        "id": "e_c31eJ15cfn",
        "outputId": "015930b1-31d3-4625-9176-e1643147357f"
      },
      "outputs": [
        {
          "output_type": "stream",
          "name": "stdout",
          "text": [
            "First Angle: 60\n",
            "Second angle: 60\n",
            "Third angle: 60\n",
            "It is a triangle\n"
          ]
        }
      ],
      "source": [
        "a = int(input(\"First Angle: \"))\n",
        "b = int(input(\"Second angle: \"))\n",
        "c = int(input(\"Third angle: \"))\n",
        "\n",
        "\n",
        "if a + b + c == 180:\n",
        "  print(\"It is a triangle\")\n",
        "\n",
        "else:\n",
        "  print(\"It is not a triangle\")\n"
      ]
    },
    {
      "cell_type": "code",
      "source": [
        "temp = int(input(\"Enter the temperature:\" ))\n",
        "humi = int(input(\"Enter the humidity: \"))\n",
        "\n",
        "if temp >= 30 and humi >= 90:\n",
        "  print(\"Hot and Humid\")\n",
        "\n",
        "elif temp >= 30 and humi < 90:\n",
        "  print(\"Hot\")\n",
        "\n",
        "elif temp < 30 and humi >= 90:\n",
        "  print(\"Cool and Humid\")\n",
        "\n",
        "elif temp < 30 and humi < 90:\n",
        "  print(\"Cool\")\n",
        "\n",
        "else:\n",
        "  print(\"Invalid\")"
      ],
      "metadata": {
        "colab": {
          "base_uri": "https://localhost:8080/"
        },
        "id": "efqgoWhX73JV",
        "outputId": "34824930-500a-4de7-dadc-482be59370a6"
      },
      "execution_count": null,
      "outputs": [
        {
          "output_type": "stream",
          "name": "stdout",
          "text": [
            "Enter the temperature:45\n",
            "Enter the humidity: 56\n",
            "Hot\n"
          ]
        }
      ]
    },
    {
      "cell_type": "code",
      "source": [
        "cost_price = int(input(\"Enter the cost price:\"))\n",
        "selling_price = int(input(\"Enter the selling price: \"))\n",
        "\n",
        "if  cost_price > selling_price:\n",
        "  cost_price = cost_price - selling_price\n",
        "  print(\"Loss of \",cost_price)\n",
        "\n",
        "elif selling_price > cost_price:\n",
        "\n",
        "  selling_price = selling_price - cost_price\n",
        "  print(\"Profit of \",selling_price)\n",
        "\n",
        "else:\n",
        "  print(\"Invalid\")\n"
      ],
      "metadata": {
        "colab": {
          "base_uri": "https://localhost:8080/"
        },
        "id": "x_LmzoeV9JOJ",
        "outputId": "7a52e0a2-3d58-40ec-c2b3-90a3dfeaf974"
      },
      "execution_count": null,
      "outputs": [
        {
          "output_type": "stream",
          "name": "stdout",
          "text": [
            "Enter the cost price:78\n",
            "Enter the selling price: 5\n",
            "Loss of  73\n"
          ]
        }
      ]
    },
    {
      "cell_type": "code",
      "source": [
        "# count the number of dogs and chicken which user provide total heads or leg\n",
        "\n",
        "\n",
        "h = int(input(\"Enter the number of heads: \"))\n",
        "l = int(input(\"Enter the number of legs: \"))\n",
        "\n",
        "if h==1 and l==4:\n",
        "  print(\"It is a Dog\")\n",
        "\n",
        "elif h==1 and l==2:\n",
        "  print(\"It is a Chicken\")\n",
        "\n",
        "elif h==2 and l==6:\n",
        "  print(\"It is a Dog and chicken\")\n",
        "\n",
        "else:\n",
        "  print(\"Invalid\")"
      ],
      "metadata": {
        "colab": {
          "base_uri": "https://localhost:8080/"
        },
        "id": "P60MH7qi-p_z",
        "outputId": "a02077b2-7e65-4b2f-9d90-2fc7d5b452e5"
      },
      "execution_count": null,
      "outputs": [
        {
          "output_type": "stream",
          "name": "stdout",
          "text": [
            "Enter the number of heads: 1\n",
            "Enter the number of legs: 4\n",
            "It is a Dog\n"
          ]
        }
      ]
    },
    {
      "cell_type": "code",
      "source": [
        "1num = int(input(\"Enter a Number: \"))\n",
        "\n",
        "if num % 5 ==0 and num % 11 == 0:\n",
        "  print(\"Divisible by 5 and 11\")\n",
        "\n",
        "else:\n",
        "  print(\"Not Divisible\")"
      ],
      "metadata": {
        "colab": {
          "base_uri": "https://localhost:8080/"
        },
        "id": "h4I3wD7RAFfo",
        "outputId": "7da70a69-6b37-4989-8b21-b1772c669827"
      },
      "execution_count": null,
      "outputs": [
        {
          "output_type": "stream",
          "name": "stdout",
          "text": [
            "Enter a Number: 55\n",
            "Divisible by 5 and 11\n"
          ]
        }
      ]
    },
    {
      "cell_type": "code",
      "source": [
        "a = int(input(\"Enter the side 1: \"))\n",
        "b = int(input(\"Enter the side 2: \"))\n",
        "c = int(input(\"Enter the side 3: \"))\n",
        "\n",
        "\n",
        "if a == b == c:\n",
        "  print(\"Equilateral Triangle\")\n",
        "\n",
        "elif a == b or  c == a:\n",
        "  print(\"Isosceles Triangle\")\n",
        "\n",
        "else:\n",
        "  print(\"Scalene Triangle\")"
      ],
      "metadata": {
        "colab": {
          "base_uri": "https://localhost:8080/"
        },
        "id": "uxwCg2QLR2dL",
        "outputId": "b24fa62d-ce8c-48a5-c209-7b24bd582445"
      },
      "execution_count": null,
      "outputs": [
        {
          "output_type": "stream",
          "name": "stdout",
          "text": [
            "Enter the side 1: 12\n",
            "Enter the side 2: 12\n",
            "Enter the side 3: 12\n",
            "Equilateral Triangle\n"
          ]
        }
      ]
    },
    {
      "cell_type": "code",
      "source": [
        "Basic_salary = int(input(\"Enter the salary:\"))\n",
        "HRA = int(input(\"Enter the HRA: \"))\n",
        "DA = int(input(\"Enter the DA:\" ))\n",
        "\n",
        "if Basic_salary <= 10000:\n",
        "  print(\"bonus of 10%\")\n",
        "\n",
        "elif HRA == 20:\n",
        "  print(\"Bonus of 20%\")\n",
        "\n",
        "elif DA == 80:\n",
        "  print(\"Bonus of 80%\")\n",
        "else:\n",
        "  print(\"Invalid\")"
      ],
      "metadata": {
        "colab": {
          "base_uri": "https://localhost:8080/"
        },
        "id": "uRgnb1-mXPux",
        "outputId": "8b989f28-1f56-4753-a175-c535045e2ec6"
      },
      "execution_count": null,
      "outputs": [
        {
          "output_type": "stream",
          "name": "stdout",
          "text": [
            "Enter the salary:1000\n",
            "Enter the HRA: 20\n",
            "Enter the DA:80\n",
            "bonus of 10%\n"
          ]
        }
      ]
    },
    {
      "cell_type": "code",
      "source": [
        "year = int(input(\"Enter the year: \"))\n",
        "\n",
        "if year % 4 == 0 and year % 400 == 0:\n",
        "  print(\"It is a leap year and century year\")\n",
        "\n",
        "elif year % 4 == 0 and year % 100 != 0:\n",
        "  print(\"It is a leap year but not a century year\")\n",
        "\n",
        "else:\n",
        "  print(\"Invalid\")\n",
        "\n"
      ],
      "metadata": {
        "colab": {
          "base_uri": "https://localhost:8080/"
        },
        "id": "XkYQ7HomaSUt",
        "outputId": "8fb2436f-7592-424a-c5d7-c7c05ffb7e3c"
      },
      "execution_count": null,
      "outputs": [
        {
          "output_type": "stream",
          "name": "stdout",
          "text": [
            "Enter the year: 2024\n",
            "It is a leap year but not a century year\n"
          ]
        }
      ]
    },
    {
      "cell_type": "code",
      "source": [
        "\n",
        "num = int(input(\"Enter a number: \"))\n",
        "rev = 0\n",
        "while num > 0:\n",
        "  digit = num % 10\n",
        "  rev= rev * 10 + digit\n",
        "  num //= 10\n",
        "\n",
        "  print(\"Reversed number:\", rev)\n",
        "\n"
      ],
      "metadata": {
        "colab": {
          "base_uri": "https://localhost:8080/"
        },
        "id": "BvG3nJyxhcyL",
        "outputId": "dca8d8cb-3d57-4939-d461-8b43a93c7dff"
      },
      "execution_count": null,
      "outputs": [
        {
          "output_type": "stream",
          "name": "stdout",
          "text": [
            "Enter a number: 12345\n",
            "Reversed number: 5\n",
            "Reversed number: 54\n",
            "Reversed number: 543\n",
            "Reversed number: 5432\n",
            "Reversed number: 54321\n"
          ]
        }
      ]
    },
    {
      "cell_type": "code",
      "source": [
        "# armstrong number using if and else\n",
        "\n",
        "num = int(input(\"Enter a number: \"))\n",
        "sum = 0\n",
        "temp = num\n",
        "while temp > 0:\n",
        "  digit = temp % 10\n",
        "  sum += digit ** 3\n",
        "  temp //= 10\n",
        "  if num == sum:\n",
        "    print(num,\"is an armstrong number\")\n",
        "\n"
      ],
      "metadata": {
        "colab": {
          "base_uri": "https://localhost:8080/"
        },
        "id": "PwNn7-pujx9Q",
        "outputId": "7e056d24-0e33-4f86-a6e7-9c6c371560ee"
      },
      "execution_count": null,
      "outputs": [
        {
          "output_type": "stream",
          "name": "stdout",
          "text": [
            "Enter a number: 153\n",
            "153 is an armstrong number\n"
          ]
        }
      ]
    },
    {
      "cell_type": "code",
      "source": [
        "fact = 1\n",
        "num = int(input(\"Enter a number: \"))\n",
        "for i in range(1, num + 1):\n",
        "    fact = fact * i\n",
        "    print(\"Factorial \", fact)\n"
      ],
      "metadata": {
        "colab": {
          "base_uri": "https://localhost:8080/"
        },
        "id": "EmQ-VVsloJq8",
        "outputId": "6fc50f42-922d-44e9-e231-515eaa000fd7"
      },
      "execution_count": null,
      "outputs": [
        {
          "output_type": "stream",
          "name": "stdout",
          "text": [
            "Enter a number: 10\n",
            "Factorial  1\n",
            "Factorial  2\n",
            "Factorial  6\n",
            "Factorial  24\n",
            "Factorial  120\n",
            "Factorial  720\n",
            "Factorial  5040\n",
            "Factorial  40320\n",
            "Factorial  362880\n",
            "Factorial  3628800\n"
          ]
        }
      ]
    },
    {
      "cell_type": "code",
      "source": [
        "\n",
        "for i in range(100,1001):\n",
        "  rev = i\n",
        "  sum= 0\n",
        "  while i > 0:\n",
        "    digit = i % 10\n",
        "    sum += digit ** 3\n",
        "    i //= 10\n",
        "  if rev == sum:\n",
        "      print(sum)\n"
      ],
      "metadata": {
        "colab": {
          "base_uri": "https://localhost:8080/"
        },
        "id": "0VCQJNmb5ZzM",
        "outputId": "baab96d5-e4c0-4956-bb19-94fcf1a5d88b"
      },
      "execution_count": null,
      "outputs": [
        {
          "output_type": "stream",
          "name": "stdout",
          "text": [
            "153\n",
            "370\n",
            "371\n",
            "407\n"
          ]
        }
      ]
    },
    {
      "cell_type": "code",
      "source": [
        "# # The current population of a town is 10000. The population of the town is increasing at\n",
        "# the rate of 10% per year. You have to write a program to find out the population at the\n",
        "# end of each of the last 10 years. For eg current population is 10000 so the output\n",
        "# should be like this:\n",
        "# a. 10th year => 10000\n",
        "# b. 09th year => 9000\n",
        "# c. 08th year => 8100 and so on\n",
        "\n",
        "\n"
      ],
      "metadata": {
        "id": "Kspo6FH65agW"
      },
      "execution_count": null,
      "outputs": []
    },
    {
      "cell_type": "code",
      "source": [
        "for i in range(1,5):\n",
        "  for j in range(1,5):\n",
        "    if i==1 or j==4 or j==1 or i ==4:\n",
        "      print(\"*\",end = \"\")\n",
        "    else:\n",
        "        print(\" \",end = \"\")\n",
        "  print()"
      ],
      "metadata": {
        "colab": {
          "base_uri": "https://localhost:8080/"
        },
        "id": "Izthr7bqDs53",
        "outputId": "30410de7-1b1a-422d-c289-4e75a8e9bc65"
      },
      "execution_count": null,
      "outputs": [
        {
          "output_type": "stream",
          "name": "stdout",
          "text": [
            "****\n",
            "*  *\n",
            "*  *\n",
            "****\n"
          ]
        }
      ]
    },
    {
      "cell_type": "code",
      "source": [
        "\n",
        "n = 5\n",
        "for i in range(1,n+1):\n",
        "  for j in range(1,i+1):\n",
        "    print(chr(64+j),end = \"\")\n",
        "  print()"
      ],
      "metadata": {
        "colab": {
          "base_uri": "https://localhost:8080/"
        },
        "id": "SSPwngT8G1zA",
        "outputId": "9a9cd7d3-d865-4bf9-a592-b946063cde56"
      },
      "execution_count": null,
      "outputs": [
        {
          "output_type": "stream",
          "name": "stdout",
          "text": [
            "A\n",
            "AB\n",
            "ABC\n",
            "ABCD\n",
            "ABCDE\n"
          ]
        }
      ]
    },
    {
      "cell_type": "code",
      "source": [
        "n = 5\n",
        "for i in range(1,n+1):\n",
        "  for j in range(1,i+1):\n",
        "    print(chr(64+i),end = \"\")\n",
        "  print()"
      ],
      "metadata": {
        "colab": {
          "base_uri": "https://localhost:8080/"
        },
        "id": "PBl7GrNdH3L1",
        "outputId": "42ae714a-f171-441d-be3c-8c7de7fbad76"
      },
      "execution_count": null,
      "outputs": [
        {
          "output_type": "stream",
          "name": "stdout",
          "text": [
            "A\n",
            "BB\n",
            "CCC\n",
            "DDDD\n",
            "EEEEE\n"
          ]
        }
      ]
    },
    {
      "cell_type": "code",
      "source": [
        "n = 5\n",
        "for i in range(1,n+1):\n",
        "  for j in range(1,i+1):\n",
        "    print(chr(68+j),end = \"\")\n",
        "  print()"
      ],
      "metadata": {
        "colab": {
          "base_uri": "https://localhost:8080/"
        },
        "id": "pDZ_7bZbJi9o",
        "outputId": "fd6e18d6-edac-48d1-a050-3114874c4af5"
      },
      "execution_count": null,
      "outputs": [
        {
          "output_type": "stream",
          "name": "stdout",
          "text": [
            "E\n",
            "EF\n",
            "EFG\n",
            "EFGH\n",
            "EFGHI\n"
          ]
        }
      ]
    },
    {
      "cell_type": "code",
      "source": [
        "\n",
        "        # *\n",
        "      # * *\n",
        "    # * * *\n",
        "  # * * * *\n",
        "\n",
        "for row in range(1,5):\n",
        "  for col in range(1,row+1):\n",
        "    print(\"*\",end = \" \")\n",
        "\n",
        "  print()\n"
      ],
      "metadata": {
        "colab": {
          "base_uri": "https://localhost:8080/"
        },
        "id": "MN8Xd-yhU2A9",
        "outputId": "9cc5932d-dbbf-481d-cae4-619eba9dbc59"
      },
      "execution_count": null,
      "outputs": [
        {
          "output_type": "stream",
          "name": "stdout",
          "text": [
            "* \n",
            "* * \n",
            "* * * \n",
            "* * * * \n"
          ]
        }
      ]
    },
    {
      "cell_type": "code",
      "source": [
        "for row in range(1,6):\n",
        "  for col in range(1,row+1):\n",
        "    print(col,end = \" \")\n",
        "  print()"
      ],
      "metadata": {
        "colab": {
          "base_uri": "https://localhost:8080/"
        },
        "id": "T9fLuUdFVMfg",
        "outputId": "24650cd8-0067-454e-8f8d-00ede5ee8680"
      },
      "execution_count": null,
      "outputs": [
        {
          "output_type": "stream",
          "name": "stdout",
          "text": [
            "1 \n",
            "1 2 \n",
            "1 2 3 \n",
            "1 2 3 4 \n",
            "1 2 3 4 5 \n"
          ]
        }
      ]
    },
    {
      "cell_type": "code",
      "source": [
        "rows = 5\n",
        "n = (2*rows)-2\n",
        "\n",
        "for i in range(rows-1,-1,-1):\n",
        "        for j in range(n,0,-1):\n",
        "            print(end=\" \")\n",
        "        n += 1\n",
        "        for j in range(0, i+1):\n",
        "            print(\"*\",end=\" \")\n",
        "\n",
        "        print()"
      ],
      "metadata": {
        "colab": {
          "base_uri": "https://localhost:8080/"
        },
        "id": "pUmhyXFGXXKN",
        "outputId": "55b00cc7-edcb-4a09-ced3-04c009bc1314"
      },
      "execution_count": null,
      "outputs": [
        {
          "output_type": "stream",
          "name": "stdout",
          "text": [
            "        * * * * * \n",
            "         * * * * \n",
            "          * * * \n",
            "           * * \n",
            "            * \n"
          ]
        }
      ]
    },
    {
      "cell_type": "code",
      "source": [
        "rows = 5\n",
        "n = 0\n",
        "for i in range(1, rows+1):\n",
        "    for space in range(1, (rows-i)+1):\n",
        "        print(end=\"  \")\n",
        "\n",
        "    while n!=(2*i-1):\n",
        "        print(\"* \", end=\"\")\n",
        "        n += 1\n",
        "\n",
        "    n = 0\n",
        "    print()"
      ],
      "metadata": {
        "colab": {
          "base_uri": "https://localhost:8080/"
        },
        "id": "ZczRa2WMXcb4",
        "outputId": "75fa066a-2295-4fc0-c189-a1939454327f"
      },
      "execution_count": null,
      "outputs": [
        {
          "output_type": "stream",
          "name": "stdout",
          "text": [
            "        * \n",
            "      * * * \n",
            "    * * * * * \n",
            "  * * * * * * * \n",
            "* * * * * * * * * \n"
          ]
        }
      ]
    },
    {
      "cell_type": "code",
      "source": [
        "rows = 6\n",
        "for i in range(1,rows+1):\n",
        "  for j in range(1,i):\n",
        "    print(\" \", end=\"\")\n",
        "\n",
        "  for k in range(i,rows+1):\n",
        "    print(\"*\", end=\" \")\n",
        "  print()"
      ],
      "metadata": {
        "colab": {
          "base_uri": "https://localhost:8080/"
        },
        "id": "hvzLfCjOlFI4",
        "outputId": "03cc0877-0447-4467-dcbd-7f3b4bbc2fae"
      },
      "execution_count": null,
      "outputs": [
        {
          "output_type": "stream",
          "name": "stdout",
          "text": [
            "* * * * * * \n",
            " * * * * * \n",
            "  * * * * \n",
            "   * * * \n",
            "    * * \n",
            "     * \n"
          ]
        }
      ]
    },
    {
      "cell_type": "code",
      "source": [
        "for i in range(1,5):\n",
        "  for j in range(1,8):\n",
        "\n",
        "    if j>=i and j<=8-i:\n",
        "\n",
        "      print(\"*\",end = \"\")\n",
        "    else:\n",
        "        print(\" \",end = \"\")\n",
        "  print()"
      ],
      "metadata": {
        "colab": {
          "base_uri": "https://localhost:8080/"
        },
        "id": "0odf_XM1Oc2U",
        "outputId": "dd8aadd3-e078-4b13-fc87-60157ea4107c"
      },
      "execution_count": null,
      "outputs": [
        {
          "output_type": "stream",
          "name": "stdout",
          "text": [
            "*******\n",
            " ***** \n",
            "  ***  \n",
            "   *   \n"
          ]
        }
      ]
    },
    {
      "cell_type": "code",
      "source": [
        "for i in range(1,5):\n",
        "  for j in range(1,8):\n",
        "\n",
        "    if j>=5-i and j<=3+i:\n",
        "\n",
        "      print(\"*\",end = \"\")\n",
        "    else:\n",
        "        print(\" \",end = \"\")\n",
        "  print()"
      ],
      "metadata": {
        "colab": {
          "base_uri": "https://localhost:8080/"
        },
        "id": "H6m-KKf6OktQ",
        "outputId": "5b0dcce3-d963-4796-bc4d-83060b5ad94d"
      },
      "execution_count": null,
      "outputs": [
        {
          "output_type": "stream",
          "name": "stdout",
          "text": [
            "   *   \n",
            "  ***  \n",
            " ***** \n",
            "*******\n"
          ]
        }
      ]
    },
    {
      "cell_type": "code",
      "source": [
        "for i in range(1,5):\n",
        "  for j in range(1,8):\n",
        "\n",
        "    if j>=5-i and j<=3+i:\n",
        "\n",
        "      print(\"*\",end = \"\")\n",
        "    else:\n",
        "        print(\" \",end = \"\")\n",
        "  print()\n",
        "\n",
        "for i in range(1,5):\n",
        "  for j in range(1,8):\n",
        "\n",
        "    if j>=i and j<=8-i:\n",
        "\n",
        "      print(\"*\",end = \"\")\n",
        "    else:\n",
        "        print(\" \",end = \"\")\n",
        "  print()"
      ],
      "metadata": {
        "colab": {
          "base_uri": "https://localhost:8080/"
        },
        "id": "FSo90biLgFDH",
        "outputId": "56bfa978-3ea5-4ffd-d3a0-d6f59f58edbd"
      },
      "execution_count": null,
      "outputs": [
        {
          "output_type": "stream",
          "name": "stdout",
          "text": [
            "   *   \n",
            "  ***  \n",
            " ***** \n",
            "*******\n",
            "*******\n",
            " ***** \n",
            "  ***  \n",
            "   *   \n"
          ]
        }
      ]
    },
    {
      "cell_type": "code",
      "source": [
        "for i in range(1,5):\n",
        "  for j in range(1,8):\n",
        "\n",
        "    if j<=5-i or j>=3+i:\n",
        "\n",
        "      print(\"*\",end = \"\")\n",
        "    else:\n",
        "        print(\" \",end = \"\")\n",
        "  print()"
      ],
      "metadata": {
        "colab": {
          "base_uri": "https://localhost:8080/"
        },
        "id": "4N-I9pklgQ3g",
        "outputId": "0da2717a-0f02-45c0-caeb-0b0133d05135"
      },
      "execution_count": null,
      "outputs": [
        {
          "output_type": "stream",
          "name": "stdout",
          "text": [
            "*******\n",
            "*** ***\n",
            "**   **\n",
            "*     *\n"
          ]
        }
      ]
    },
    {
      "cell_type": "code",
      "source": [
        "for i in range(1,5):\n",
        "  for j in range(1,5):\n",
        "    if i==1 or j==4 or j==1 or i ==4:\n",
        "      print(j,end = \" \")\n",
        "    else:\n",
        "        print(\"  \",end = \"\")\n",
        "  print()"
      ],
      "metadata": {
        "colab": {
          "base_uri": "https://localhost:8080/"
        },
        "id": "KJDzPwAHlCLW",
        "outputId": "1a64431b-81f6-4f15-f038-7bee53abc258"
      },
      "execution_count": null,
      "outputs": [
        {
          "output_type": "stream",
          "name": "stdout",
          "text": [
            "1 2 3 4 \n",
            "1     4 \n",
            "1     4 \n",
            "1 2 3 4 \n"
          ]
        }
      ]
    },
    {
      "cell_type": "code",
      "source": [
        "for i in range(1,5):\n",
        "  for j in range(1,5):\n",
        "    if i==1 or j==4 or j==1 or i ==4:\n",
        "      print(\" *\",end = \"\")\n",
        "    else:\n",
        "        print(\"  \",end = \"\")\n",
        "  print()"
      ],
      "metadata": {
        "colab": {
          "base_uri": "https://localhost:8080/"
        },
        "id": "tGRPb-NnpJ3d",
        "outputId": "6e16f985-3e5a-4ba9-9790-3ed11f50d8ea"
      },
      "execution_count": null,
      "outputs": [
        {
          "output_type": "stream",
          "name": "stdout",
          "text": [
            " * * * *\n",
            " *     *\n",
            " *     *\n",
            " * * * *\n"
          ]
        }
      ]
    },
    {
      "cell_type": "code",
      "source": [
        "for i in range(1,5):\n",
        "  for j in range(1,8):\n",
        "\n",
        "    if j>=5-i and j<=3+i:\n",
        "\n",
        "      print(\"*\",end = \"\")\n",
        "    else:\n",
        "        print(\" \",end = \"\")\n",
        "  print()\n"
      ],
      "metadata": {
        "id": "3Ujo3hAypqGl"
      },
      "execution_count": null,
      "outputs": []
    },
    {
      "cell_type": "code",
      "source": [
        "\n",
        "rows = 5\n",
        "for i in range(1, rows + 1):\n",
        "  for j in range(1, rows - i + 1):\n",
        "    print(\" \", end=\"\")\n",
        "  for j in range(1, 2 * i):\n",
        "    if j == 1 or j == 2 * i - 1:\n",
        "      print(\"*\", end=\"\")\n",
        "    else:\n",
        "      print(\" \", end=\"\")\n",
        "  print()\n",
        "\n"
      ],
      "metadata": {
        "colab": {
          "base_uri": "https://localhost:8080/"
        },
        "id": "0dIhBx4XxM18",
        "outputId": "e0fa65b8-3e4a-4a8f-de9f-12c9e6734ea5"
      },
      "execution_count": null,
      "outputs": [
        {
          "output_type": "stream",
          "name": "stdout",
          "text": [
            "    *\n",
            "   * *\n",
            "  *   *\n",
            " *     *\n",
            "*       *\n"
          ]
        }
      ]
    },
    {
      "cell_type": "code",
      "source": [
        "\n",
        "for i in range(rows - 1, 0, -1):\n",
        "  for j in range(1, rows - i + 1):\n",
        "    print(\" \", end=\"\")\n",
        "  for j in range(1, 2 * i):\n",
        "    if j == 1 or j == 2 * i - 1:\n",
        "      print(\"*\", end=\"\")\n",
        "    else:\n",
        "      print(\" \", end=\"\")\n",
        "  print()"
      ],
      "metadata": {
        "colab": {
          "base_uri": "https://localhost:8080/"
        },
        "id": "OneRHOPQxRlF",
        "outputId": "b1dbfc23-d6de-4ac9-b76c-2095034e7b93"
      },
      "execution_count": null,
      "outputs": [
        {
          "output_type": "stream",
          "name": "stdout",
          "text": [
            " *     *\n",
            "  *   *\n",
            "   * *\n",
            "    *\n"
          ]
        }
      ]
    },
    {
      "cell_type": "code",
      "source": [
        "rows = 5\n",
        "for i in range(1, rows + 1):\n",
        "  for j in range(1, rows - i + 1):\n",
        "    print(\" \", end=\"\")\n",
        "  for j in range(1, 2 * i):\n",
        "    if j == 1 or j == 2 * i - 1:\n",
        "      print(\"*\", end=\"\")\n",
        "    else:\n",
        "      print(\" \", end=\"\")\n",
        "  print()\n",
        "\n",
        "for i in range(rows - 1, 0, -1):\n",
        "  for j in range(1, rows - i + 1):\n",
        "    print(\" \", end=\"\")\n",
        "  for j in range(1, 2 * i):\n",
        "    if j == 1 or j == 2 * i - 1:\n",
        "      print(\"*\", end=\"\")\n",
        "    else:\n",
        "      print(\" \", end=\"\")\n",
        "  print()"
      ],
      "metadata": {
        "id": "HPT4ji3KxYFa",
        "colab": {
          "base_uri": "https://localhost:8080/"
        },
        "outputId": "5c635c00-2665-4cb9-f2ac-0d588ffef6bf"
      },
      "execution_count": null,
      "outputs": [
        {
          "output_type": "stream",
          "name": "stdout",
          "text": [
            "    *\n",
            "   * *\n",
            "  *   *\n",
            " *     *\n",
            "*       *\n",
            " *     *\n",
            "  *   *\n",
            "   * *\n",
            "    *\n"
          ]
        }
      ]
    },
    {
      "cell_type": "code",
      "source": [
        "# LISTS QUESTIONS"
      ],
      "metadata": {
        "id": "IKCzkUFI8HRR"
      },
      "execution_count": null,
      "outputs": []
    },
    {
      "cell_type": "code",
      "source": [
        "#1]write a program to print the first 25 odd numbers in list\n",
        "\n",
        "\n",
        "for i in range(1,26):\n",
        "  if i % 2 != 0:\n",
        "    print(i)"
      ],
      "metadata": {
        "id": "LmmErlM_1O86",
        "colab": {
          "base_uri": "https://localhost:8080/"
        },
        "outputId": "f57c8fae-461f-42d8-dc10-b9b5c324e2e0"
      },
      "execution_count": null,
      "outputs": [
        {
          "output_type": "stream",
          "name": "stdout",
          "text": [
            "1\n",
            "3\n",
            "5\n",
            "7\n",
            "9\n",
            "11\n",
            "13\n",
            "15\n",
            "17\n",
            "19\n",
            "21\n",
            "23\n",
            "25\n"
          ]
        }
      ]
    },
    {
      "cell_type": "code",
      "source": [
        "str1 = input(\"Enter a string: \")\n",
        "lowercase = ''\n",
        "uppercase = ''\n",
        "\n",
        "for char in str1:\n",
        "  if char.islower():\n",
        "    lowercase += char\n",
        "  else:\n",
        "    uppercase += char\n",
        "\n",
        "arranged = lowercase + uppercase\n",
        "print(\"Arranged string:\", arranged)\n",
        "\n"
      ],
      "metadata": {
        "colab": {
          "base_uri": "https://localhost:8080/"
        },
        "id": "OvINvwnN_KQE",
        "outputId": "cc822133-54d3-41d6-ae2f-f7b7fc129999"
      },
      "execution_count": null,
      "outputs": [
        {
          "output_type": "stream",
          "name": "stdout",
          "text": [
            "Enter a string: VAUSGABAvsuaudahu\n",
            "Arranged string: vsuaudahuVAUSGABA\n"
          ]
        }
      ]
    },
    {
      "cell_type": "code",
      "source": [
        "str1 = \"P@#yn26at^&i5ve\"\n",
        "chars = 0\n",
        "digits = 0\n",
        "symbols = 0\n",
        "for char in str1:\n",
        "  if char.isalpha():\n",
        "    chars += 1\n",
        "  elif char.isdigit():\n",
        "    digits += 1\n",
        "  else:\n",
        "    symbols += 1\n",
        "\n",
        "print(\"Total counts: \")\n",
        "print(\"Chars =\", chars)\n",
        "print(\"Digits =\", digits)\n",
        "print(\"Symbol =\", symbols)"
      ],
      "metadata": {
        "colab": {
          "base_uri": "https://localhost:8080/"
        },
        "id": "a9XAxXMIAOsZ",
        "outputId": "e9d3a86d-c2b4-4702-d92e-8acc4acc5794"
      },
      "execution_count": null,
      "outputs": [
        {
          "output_type": "stream",
          "name": "stdout",
          "text": [
            "Total counts: \n",
            "Chars = 8\n",
            "Digits = 3\n",
            "Symbol = 4\n"
          ]
        }
      ]
    },
    {
      "cell_type": "code",
      "source": [
        "#  Remove empty strings from a list of strings\n",
        "\n"
      ],
      "metadata": {
        "id": "Z2W-5O11BWLU"
      },
      "execution_count": null,
      "outputs": []
    },
    {
      "cell_type": "code",
      "source": [],
      "metadata": {
        "id": "RF2smC-kbvQo"
      },
      "execution_count": null,
      "outputs": []
    }
  ]
}