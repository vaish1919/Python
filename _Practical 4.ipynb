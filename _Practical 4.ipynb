{
 "cells": [
  {
   "cell_type": "markdown",
   "id": "f9530198-150e-4e7a-bfc4-b935a6533ee0",
   "metadata": {},
   "source": [
    "## BITWISE OPERATOR \n",
    "\n",
    "### AND , OR , NOT\n"
   ]
  },
  {
   "cell_type": "markdown",
   "id": "13dbb15f-9edb-4e8d-b4f9-f65913cf5127",
   "metadata": {},
   "source": [
    "#### AND ( it compares each bit with 0 and 1)"
   ]
  },
  {
   "cell_type": "code",
   "execution_count": 2,
   "id": "8e74a094-1452-48c3-874f-55bb4c36cb9e",
   "metadata": {},
   "outputs": [
    {
     "name": "stdout",
     "output_type": "stream",
     "text": [
      "2\n"
     ]
    }
   ],
   "source": [
    "\n",
    "a = 6\n",
    "b = 3\n",
    "print(a & b)"
   ]
  },
  {
   "cell_type": "markdown",
   "id": "7a6f7148-248c-41ef-b3c9-659d33dbc252",
   "metadata": {},
   "source": [
    "#### OR (compares each bit and set it to 1 if one or both is 1, otherwise it is set to 0)"
   ]
  },
  {
   "cell_type": "code",
   "execution_count": 9,
   "id": "2b774ee8-27ca-42e7-8127-748b11d1b547",
   "metadata": {},
   "outputs": [
    {
     "name": "stdout",
     "output_type": "stream",
     "text": [
      "7\n"
     ]
    }
   ],
   "source": [
    "print( a | b)"
   ]
  },
  {
   "cell_type": "markdown",
   "id": "d871c69d-cc36-494d-9147-3d072f2f1572",
   "metadata": {},
   "source": [
    "#### XOR (it comapares each bit and set it to 1 if only one is 1, otherwise it is set to 0 )"
   ]
  },
  {
   "cell_type": "code",
   "execution_count": 12,
   "id": "a61ff679-e3e0-4589-a7b5-5fe902c1cb00",
   "metadata": {},
   "outputs": [
    {
     "name": "stdout",
     "output_type": "stream",
     "text": [
      "5\n"
     ]
    }
   ],
   "source": [
    "print(a ^ b)"
   ]
  },
  {
   "cell_type": "markdown",
   "id": "49011daf-5276-4120-b195-013a438493e9",
   "metadata": {},
   "source": [
    "#### Leftwise \n"
   ]
  },
  {
   "cell_type": "code",
   "execution_count": 22,
   "id": "ec71aadf-5217-4033-900e-7cbb7df8aa2a",
   "metadata": {},
   "outputs": [
    {
     "name": "stdout",
     "output_type": "stream",
     "text": [
      "48\n"
     ]
    }
   ],
   "source": [
    "print ( a << b)"
   ]
  },
  {
   "cell_type": "markdown",
   "id": "5a869bdd-9e10-4b54-9f1e-d1fac84a5a14",
   "metadata": {},
   "source": [
    "#### Rightwise "
   ]
  },
  {
   "cell_type": "code",
   "execution_count": 20,
   "id": "8554f319-eb0a-4412-8666-92a119ac7954",
   "metadata": {},
   "outputs": [
    {
     "name": "stdout",
     "output_type": "stream",
     "text": [
      "0\n"
     ]
    }
   ],
   "source": [
    "print( a >> b)"
   ]
  },
  {
   "cell_type": "markdown",
   "id": "df83cf57-032e-412d-b6e9-2cb305a424eb",
   "metadata": {},
   "source": [
    "#### NOT \n",
    "#### - Operator invert each bits \n",
    "#### - 0 becomes 1 and 1 becomes 0 "
   ]
  },
  {
   "cell_type": "code",
   "execution_count": 26,
   "id": "2a7d5c10-c274-442f-97ad-f2156639d813",
   "metadata": {},
   "outputs": [
    {
     "name": "stdout",
     "output_type": "stream",
     "text": [
      "-7\n",
      "-4\n"
     ]
    }
   ],
   "source": [
    "print( ~ a)\n",
    "print( ~ b)"
   ]
  },
  {
   "cell_type": "code",
   "execution_count": null,
   "id": "16f28263-52d5-463c-afd9-f7f2335eff37",
   "metadata": {},
   "outputs": [],
   "source": []
  },
  {
   "cell_type": "markdown",
   "id": "70e5cb99-8182-4613-94d7-152673043611",
   "metadata": {},
   "source": [
    "## CONDITIONAL STATEMNETS \n",
    "\n",
    "### Used to run our code based on some conditions \n",
    "\n",
    "if (condition): \n",
    "\n",
    "    code_to_execute\n",
    "\n",
    "elif(condtion):\n",
    "\n",
    "    code_to_run\n",
    "\n",
    "else:\n",
    "\n",
    "    code_to_run\n",
    "    "
   ]
  },
  {
   "cell_type": "code",
   "execution_count": 30,
   "id": "61bb9980-a8d5-4f91-bfdc-4d073010857f",
   "metadata": {},
   "outputs": [
    {
     "name": "stdout",
     "output_type": "stream",
     "text": [
      "Equal to 19\n"
     ]
    }
   ],
   "source": [
    "age = 19\n",
    "\n",
    "if(age > 19):\n",
    "    print(\"Gretaer than 19\")\n",
    "\n",
    "elif( age<19):\n",
    "    print(\"Less than 19\")\n",
    "\n",
    "else:\n",
    "    print(\"Equal to 19\")\n",
    "    "
   ]
  },
  {
   "cell_type": "code",
   "execution_count": null,
   "id": "efb1f20d-27d9-4660-b26e-6b25e59b0a2d",
   "metadata": {},
   "outputs": [],
   "source": []
  },
  {
   "cell_type": "markdown",
   "id": "dce51a4b-0d37-442f-bc85-efae6da8e89a",
   "metadata": {},
   "source": [
    "## using input function\n",
    "\n",
    "It is used to take input\n",
    "\n",
    "gives a string ouput as default\n",
    "\n",
    "we use int function outside the input function to convert the string output to integer"
   ]
  },
  {
   "cell_type": "code",
   "execution_count": 34,
   "id": "181b5839-02bc-4c85-8e50-fbfba02703d8",
   "metadata": {},
   "outputs": [
    {
     "name": "stdin",
     "output_type": "stream",
     "text": [
      "Enter the age:  19\n"
     ]
    },
    {
     "name": "stdout",
     "output_type": "stream",
     "text": [
      "Equal to 19\n"
     ]
    }
   ],
   "source": [
    "age = int(input(\"Enter the age: \"))\n",
    "\n",
    "if(age > 19):\n",
    "    print(\"GReater than 19\")\n",
    "\n",
    "elif(age < 19):\n",
    "    print(\"less than 19\")\n",
    "\n",
    "else:\n",
    "    print(\"Equal to 19\")"
   ]
  },
  {
   "cell_type": "markdown",
   "id": "b67311f2-127c-4dbf-b505-d2b774bc8a1a",
   "metadata": {},
   "source": [
    "#### Que. ELIGIBLE FOR VOTE OR NOT "
   ]
  },
  {
   "cell_type": "code",
   "execution_count": 41,
   "id": "2af5651e-ffd7-4eef-a1f3-208e144f280e",
   "metadata": {},
   "outputs": [
    {
     "name": "stdin",
     "output_type": "stream",
     "text": [
      "Enter your age:  19\n"
     ]
    },
    {
     "name": "stdout",
     "output_type": "stream",
     "text": [
      "Eligible\n"
     ]
    }
   ],
   "source": [
    "age = int(input(\"Enter your age: \"))\n",
    "\n",
    "if(age >= 18):\n",
    "    print(\"Eligible\")\n",
    "\n",
    "else:\n",
    "    print(\"Not eligible\")\n",
    "    \n",
    "\n",
    "\n"
   ]
  },
  {
   "cell_type": "markdown",
   "id": "0d121e86-edf5-45c0-8d04-aabcf20399cd",
   "metadata": {},
   "source": [
    "#### Que. CHECK EVEN OR ODD "
   ]
  },
  {
   "cell_type": "code",
   "execution_count": 47,
   "id": "542a1a4a-f424-457c-a24c-d5ff27e5cd62",
   "metadata": {},
   "outputs": [
    {
     "name": "stdin",
     "output_type": "stream",
     "text": [
      "Enter the number:  12\n"
     ]
    },
    {
     "name": "stdout",
     "output_type": "stream",
     "text": [
      "Even Number\n"
     ]
    }
   ],
   "source": [
    "num =int(input(\"Enter the number: \"))\n",
    "\n",
    "if(num %2 == 0):\n",
    "    print(\"Even Number\")\n",
    "\n",
    "else:\n",
    "    print(\"Odd Number\")"
   ]
  },
  {
   "cell_type": "markdown",
   "id": "210290a8-cfba-4076-9083-a4df770ef8bc",
   "metadata": {},
   "source": [
    "#### Que. DIVISIBLE BY 7 OR NOT "
   ]
  },
  {
   "cell_type": "code",
   "execution_count": 53,
   "id": "a1984841-3e8f-437d-85b2-ec7906c20117",
   "metadata": {},
   "outputs": [
    {
     "name": "stdin",
     "output_type": "stream",
     "text": [
      "Enter the number 49\n"
     ]
    },
    {
     "name": "stdout",
     "output_type": "stream",
     "text": [
      "Divisible by 7\n"
     ]
    }
   ],
   "source": [
    "num = int(input(\"Enter the number\"))\n",
    "\n",
    "if(num % 7 == 0):\n",
    "    print(\"Divisible by 7\")\n",
    "\n",
    "else:\n",
    "    print(\"Not divisible\")"
   ]
  },
  {
   "cell_type": "markdown",
   "id": "148bf196-b4be-495b-a226-9fe6cad999ac",
   "metadata": {},
   "source": [
    "#### Que. DISPLAY \"HELLLO\" IF NUMBER IS 5"
   ]
  },
  {
   "cell_type": "code",
   "execution_count": 58,
   "id": "8489b080-1d2b-4a46-8cf6-c3e686647931",
   "metadata": {},
   "outputs": [
    {
     "name": "stdin",
     "output_type": "stream",
     "text": [
      "Enter the number 5\n"
     ]
    },
    {
     "name": "stdout",
     "output_type": "stream",
     "text": [
      "HEELOO\n"
     ]
    }
   ],
   "source": [
    "num = int(input(\"Enter the number\"))\n",
    "\n",
    "if(num % 5 ==0):\n",
    "    print(\"HEELOO\")\n",
    "\n",
    "else:\n",
    "    print(\"BYE\")"
   ]
  },
  {
   "cell_type": "code",
   "execution_count": null,
   "id": "60d0857f-f055-4dd1-8fb3-0736ae76d779",
   "metadata": {},
   "outputs": [],
   "source": []
  }
 ],
 "metadata": {
  "kernelspec": {
   "display_name": "Python 3 (ipykernel)",
   "language": "python",
   "name": "python3"
  },
  "language_info": {
   "codemirror_mode": {
    "name": "ipython",
    "version": 3
   },
   "file_extension": ".py",
   "mimetype": "text/x-python",
   "name": "python",
   "nbconvert_exporter": "python",
   "pygments_lexer": "ipython3",
   "version": "3.12.4"
  }
 },
 "nbformat": 4,
 "nbformat_minor": 5
}
