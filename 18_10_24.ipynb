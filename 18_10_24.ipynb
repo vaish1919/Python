{
  "nbformat": 4,
  "nbformat_minor": 0,
  "metadata": {
    "colab": {
      "provenance": []
    },
    "kernelspec": {
      "name": "python3",
      "display_name": "Python 3"
    },
    "language_info": {
      "name": "python"
    }
  },
  "cells": [
    {
      "cell_type": "code",
      "execution_count": 1,
      "metadata": {
        "colab": {
          "base_uri": "https://localhost:8080/",
          "height": 36
        },
        "id": "qUBzVYWIx4IC",
        "outputId": "48fd789b-6deb-478e-b7d9-9ac8127bbe87"
      },
      "outputs": [
        {
          "output_type": "execute_result",
          "data": {
            "text/plain": [
              "'e'"
            ],
            "application/vnd.google.colaboratory.intrinsic+json": {
              "type": "string"
            }
          },
          "metadata": {},
          "execution_count": 1
        }
      ],
      "source": [
        "# String indexing and slicing\n",
        "\n",
        "msg = \"hello\"\n",
        "msg[1]"
      ]
    },
    {
      "cell_type": "code",
      "source": [
        "# [strating, stopiing, step = 1]\n",
        "\n",
        "msg = \"jaipur\"\n",
        "\n",
        "msg[1:6:2]\n",
        "\n"
      ],
      "metadata": {
        "colab": {
          "base_uri": "https://localhost:8080/",
          "height": 36
        },
        "id": "aUe1YwsAyfKr",
        "outputId": "637901cc-e660-4533-f90b-af3d621889f8"
      },
      "execution_count": 13,
      "outputs": [
        {
          "output_type": "execute_result",
          "data": {
            "text/plain": [
              "'apr'"
            ],
            "application/vnd.google.colaboratory.intrinsic+json": {
              "type": "string"
            }
          },
          "metadata": {},
          "execution_count": 13
        }
      ]
    },
    {
      "cell_type": "code",
      "source": [
        "msg = \"hey tushar\"\n",
        "msg[6:4:-2]\n"
      ],
      "metadata": {
        "colab": {
          "base_uri": "https://localhost:8080/",
          "height": 36
        },
        "id": "08YZBSwkz2ro",
        "outputId": "94d22344-e5bc-4c1f-df46-31bdd31b68ea"
      },
      "execution_count": 17,
      "outputs": [
        {
          "output_type": "execute_result",
          "data": {
            "text/plain": [
              "'s'"
            ],
            "application/vnd.google.colaboratory.intrinsic+json": {
              "type": "string"
            }
          },
          "metadata": {},
          "execution_count": 17
        }
      ]
    },
    {
      "cell_type": "code",
      "source": [
        "msg[-1:-3:-1]"
      ],
      "metadata": {
        "colab": {
          "base_uri": "https://localhost:8080/",
          "height": 36
        },
        "id": "NDX3g9kU1HdF",
        "outputId": "bf3f46db-7d25-4c37-8299-332103f822c5"
      },
      "execution_count": 18,
      "outputs": [
        {
          "output_type": "execute_result",
          "data": {
            "text/plain": [
              "'ra'"
            ],
            "application/vnd.google.colaboratory.intrinsic+json": {
              "type": "string"
            }
          },
          "metadata": {},
          "execution_count": 18
        }
      ]
    },
    {
      "cell_type": "markdown",
      "source": [
        "## LIST DATA TYPES\n",
        "\n",
        "- collection of heterogenous items\n",
        "- mutable\n",
        "- indexed\n",
        "- ordered\n",
        "- []\n",
        "\n"
      ],
      "metadata": {
        "id": "F-zRNaHg3cOh"
      }
    },
    {
      "cell_type": "code",
      "source": [
        "mylist = [10,2,3,\"abc\"]\n",
        "type(mylist)"
      ],
      "metadata": {
        "colab": {
          "base_uri": "https://localhost:8080/"
        },
        "id": "G9r_ORTf31_j",
        "outputId": "6dd8a01d-5da4-49c3-cef3-0daf7b61d26b"
      },
      "execution_count": 22,
      "outputs": [
        {
          "output_type": "execute_result",
          "data": {
            "text/plain": [
              "list"
            ]
          },
          "metadata": {},
          "execution_count": 22
        }
      ]
    },
    {
      "cell_type": "code",
      "source": [
        "mylist[0]"
      ],
      "metadata": {
        "colab": {
          "base_uri": "https://localhost:8080/"
        },
        "id": "8mPwdRRa4EY9",
        "outputId": "15a13d1e-03a9-4cb7-9910-d12e067f25d1"
      },
      "execution_count": 23,
      "outputs": [
        {
          "output_type": "execute_result",
          "data": {
            "text/plain": [
              "10"
            ]
          },
          "metadata": {},
          "execution_count": 23
        }
      ]
    },
    {
      "cell_type": "code",
      "source": [
        "mylist[2:5]"
      ],
      "metadata": {
        "colab": {
          "base_uri": "https://localhost:8080/"
        },
        "id": "0oTtZLu34Hq-",
        "outputId": "a0e02440-80c5-4268-b9bb-bfa6abef9862"
      },
      "execution_count": 24,
      "outputs": [
        {
          "output_type": "execute_result",
          "data": {
            "text/plain": [
              "[3, 'abc']"
            ]
          },
          "metadata": {},
          "execution_count": 24
        }
      ]
    },
    {
      "cell_type": "code",
      "source": [
        "mylist[0] = 500\n",
        "print(mylist)"
      ],
      "metadata": {
        "colab": {
          "base_uri": "https://localhost:8080/"
        },
        "id": "F7FFUy3x4KG2",
        "outputId": "b39b58f8-9a8e-4c7a-a36e-8cbf5b673ec9"
      },
      "execution_count": 25,
      "outputs": [
        {
          "output_type": "stream",
          "name": "stdout",
          "text": [
            "[500, 2, 3, 'abc']\n"
          ]
        }
      ]
    },
    {
      "cell_type": "code",
      "source": [
        "mylist[0:2] = [\"A\",\"B\"]\n",
        "print(mylist)"
      ],
      "metadata": {
        "colab": {
          "base_uri": "https://localhost:8080/"
        },
        "id": "jhoNrt-h5Hsj",
        "outputId": "84659e6d-07a2-4616-8a10-50eaf1ca46f7"
      },
      "execution_count": 26,
      "outputs": [
        {
          "output_type": "stream",
          "name": "stdout",
          "text": [
            "['A', 'B', 3, 'abc']\n"
          ]
        }
      ]
    },
    {
      "cell_type": "code",
      "source": [
        "# Append Method (it is insert only one element)\n",
        "\n",
        "mylist.append(20)\n",
        "mylist"
      ],
      "metadata": {
        "colab": {
          "base_uri": "https://localhost:8080/"
        },
        "id": "bDjq_3Nc5ie5",
        "outputId": "63b6c8ac-411d-48b4-a0b8-dceeb1d5c38f"
      },
      "execution_count": 33,
      "outputs": [
        {
          "output_type": "execute_result",
          "data": {
            "text/plain": [
              "['A', 'B', 3, 'abc', 19, 19, 19, 19, 19, 20]"
            ]
          },
          "metadata": {},
          "execution_count": 33
        }
      ]
    },
    {
      "cell_type": "code",
      "source": [
        "# Extend Method (insert multiple values)\n",
        "\n",
        "mylist.extend([1,2,3])\n",
        "mylist"
      ],
      "metadata": {
        "colab": {
          "base_uri": "https://localhost:8080/"
        },
        "id": "SSZeynw-51C2",
        "outputId": "bfd2d05c-b367-4330-c279-5b5478e37805"
      },
      "execution_count": 34,
      "outputs": [
        {
          "output_type": "execute_result",
          "data": {
            "text/plain": [
              "['A', 'B', 3, 'abc', 19, 19, 19, 19, 19, 20, 1, 2, 3]"
            ]
          },
          "metadata": {},
          "execution_count": 34
        }
      ]
    },
    {
      "cell_type": "code",
      "source": [
        "# integer is not iterable"
      ],
      "metadata": {
        "id": "_YhOxSr8597r"
      },
      "execution_count": 36,
      "outputs": []
    },
    {
      "cell_type": "code",
      "source": [
        "# Pop Method (delete the element)\n",
        "\n",
        "mylist.pop()\n",
        "mylist\n"
      ],
      "metadata": {
        "colab": {
          "base_uri": "https://localhost:8080/"
        },
        "id": "kp8gDyix6Vo-",
        "outputId": "0c2249f3-8108-45ac-b9e9-4890f38ae10c"
      },
      "execution_count": 45,
      "outputs": [
        {
          "output_type": "execute_result",
          "data": {
            "text/plain": [
              "['A', 'B', 3, 'abc']"
            ]
          },
          "metadata": {},
          "execution_count": 45
        }
      ]
    },
    {
      "cell_type": "code",
      "source": [
        "mylist.append([1,2,3])\n",
        "mylist"
      ],
      "metadata": {
        "colab": {
          "base_uri": "https://localhost:8080/"
        },
        "id": "i8XMuGdr6bYm",
        "outputId": "5c00cb74-fb4c-4809-e176-3587ed4946c0"
      },
      "execution_count": 48,
      "outputs": [
        {
          "output_type": "execute_result",
          "data": {
            "text/plain": [
              "['A', 'B', 3, 'abc', [1, 2, 3], 10, [1, 2, 3]]"
            ]
          },
          "metadata": {},
          "execution_count": 48
        }
      ]
    },
    {
      "cell_type": "code",
      "source": [
        "# Loop on List\n",
        "\n",
        "for i in [10,20,4,5,\"hey\"]:\n",
        "    print(i)"
      ],
      "metadata": {
        "colab": {
          "base_uri": "https://localhost:8080/"
        },
        "id": "r79LosUM64z4",
        "outputId": "3d2034df-4ade-4cff-f332-8e9f469dd12f"
      },
      "execution_count": 49,
      "outputs": [
        {
          "output_type": "stream",
          "name": "stdout",
          "text": [
            "10\n",
            "20\n",
            "4\n",
            "5\n",
            "hey\n"
          ]
        }
      ]
    },
    {
      "cell_type": "code",
      "source": [
        "mylist = [10,20,4,5,\"hey\",88]\n",
        "len(mylist)"
      ],
      "metadata": {
        "colab": {
          "base_uri": "https://localhost:8080/"
        },
        "id": "7SDD2rdp7SjK",
        "outputId": "f15369fa-808c-4449-caea-8e8ef5ccbeca"
      },
      "execution_count": 50,
      "outputs": [
        {
          "output_type": "execute_result",
          "data": {
            "text/plain": [
              "6"
            ]
          },
          "metadata": {},
          "execution_count": 50
        }
      ]
    },
    {
      "cell_type": "code",
      "source": [
        "mylist = [10,20,4,5,\"hey\",88]\n",
        "mylist[4]"
      ],
      "metadata": {
        "colab": {
          "base_uri": "https://localhost:8080/",
          "height": 36
        },
        "id": "j7IMz-Dp7e7p",
        "outputId": "0b2f126e-e9fb-48b2-e6bb-5e5ec1d79e6d"
      },
      "execution_count": 51,
      "outputs": [
        {
          "output_type": "execute_result",
          "data": {
            "text/plain": [
              "'hey'"
            ],
            "application/vnd.google.colaboratory.intrinsic+json": {
              "type": "string"
            }
          },
          "metadata": {},
          "execution_count": 51
        }
      ]
    },
    {
      "cell_type": "code",
      "source": [
        "for index in range(0,6):\n",
        "  print(index)"
      ],
      "metadata": {
        "colab": {
          "base_uri": "https://localhost:8080/"
        },
        "id": "R6qpjg6r7reo",
        "outputId": "72e8622e-e8c0-4116-9ff0-cb4fcfb712cb"
      },
      "execution_count": 52,
      "outputs": [
        {
          "output_type": "stream",
          "name": "stdout",
          "text": [
            "0\n",
            "1\n",
            "2\n",
            "3\n",
            "4\n",
            "5\n"
          ]
        }
      ]
    },
    {
      "cell_type": "code",
      "source": [
        "for index in range(0,6):\n",
        "  print(index, mylist[0])"
      ],
      "metadata": {
        "colab": {
          "base_uri": "https://localhost:8080/"
        },
        "id": "iPSsZvDV70s3",
        "outputId": "f093eccb-66d2-43ad-a2e3-a511f2ff3904"
      },
      "execution_count": 56,
      "outputs": [
        {
          "output_type": "stream",
          "name": "stdout",
          "text": [
            "0 10\n",
            "1 10\n",
            "2 10\n",
            "3 10\n",
            "4 10\n",
            "5 10\n"
          ]
        }
      ]
    },
    {
      "cell_type": "code",
      "source": [
        "for index in range(0,6):\n",
        "  print(index, mylist[index])"
      ],
      "metadata": {
        "colab": {
          "base_uri": "https://localhost:8080/"
        },
        "id": "f2_uDOgH76jG",
        "outputId": "e9a2fbc7-00c2-44f1-d281-c305431b03ae"
      },
      "execution_count": 55,
      "outputs": [
        {
          "output_type": "stream",
          "name": "stdout",
          "text": [
            "0 10\n",
            "1 20\n",
            "2 4\n",
            "3 5\n",
            "4 hey\n",
            "5 88\n"
          ]
        }
      ]
    },
    {
      "cell_type": "code",
      "source": [
        "# find even number indexing\n",
        "\n",
        "mylist = [10,20,4,5,21,88]\n",
        "\n",
        "for index in range(0,6):\n",
        "  if index % 2 == 0:\n",
        "    print(index,mylist[index])\n"
      ],
      "metadata": {
        "colab": {
          "base_uri": "https://localhost:8080/"
        },
        "id": "hx_JG5hX8Fe6",
        "outputId": "d9496ce2-717b-4923-852f-2886f9b3ae4f"
      },
      "execution_count": 61,
      "outputs": [
        {
          "output_type": "stream",
          "name": "stdout",
          "text": [
            "0 10\n",
            "2 4\n",
            "4 21\n"
          ]
        }
      ]
    },
    {
      "cell_type": "code",
      "source": [
        "mylist = [10, 20, 4, 5, 21, 88]\n",
        "\n",
        "for element in mylist:\n",
        "  if element % 2 == 0:\n",
        "    print(element)"
      ],
      "metadata": {
        "colab": {
          "base_uri": "https://localhost:8080/"
        },
        "id": "XcZL9J188cgB",
        "outputId": "9778b1d0-3cc3-485c-de54-6feb91b9f0ca"
      },
      "execution_count": 60,
      "outputs": [
        {
          "output_type": "stream",
          "name": "stdout",
          "text": [
            "10\n",
            "20\n",
            "4\n",
            "88\n"
          ]
        }
      ]
    },
    {
      "cell_type": "code",
      "source": [
        "mylist = [10, 20, 4, 5, 21, 88]\n",
        "\n",
        "for element in mylist:\n",
        "    print(element**2)"
      ],
      "metadata": {
        "colab": {
          "base_uri": "https://localhost:8080/"
        },
        "id": "0YHe1RIu80Hs",
        "outputId": "32acedb4-64eb-4a36-916d-7d93b07abcf0"
      },
      "execution_count": 63,
      "outputs": [
        {
          "output_type": "stream",
          "name": "stdout",
          "text": [
            "100\n",
            "400\n",
            "16\n",
            "25\n",
            "441\n",
            "7744\n"
          ]
        }
      ]
    },
    {
      "cell_type": "code",
      "source": [
        "mylist = [10, 20, 4, 5, 21,\"hey\",86.5]\n",
        "\n",
        "for element in mylist:\n",
        "  if type(element) == int:\n",
        "    print(element**2)\n",
        "\n",
        "for element in mylist:\n",
        "  if type(element) == str:\n",
        "    print(element)\n",
        "\n",
        "for element in mylist:\n",
        "  if type(element) == float:\n",
        "    print(element)\n",
        "\n"
      ],
      "metadata": {
        "colab": {
          "base_uri": "https://localhost:8080/"
        },
        "id": "ZqTXfEcn9tx9",
        "outputId": "02d34bac-39be-4abd-f7b7-0ad1d37785b0"
      },
      "execution_count": 81,
      "outputs": [
        {
          "output_type": "stream",
          "name": "stdout",
          "text": [
            "100\n",
            "400\n",
            "16\n",
            "25\n",
            "441\n",
            "hey\n",
            "86.5\n"
          ]
        }
      ]
    },
    {
      "cell_type": "code",
      "source": [
        "x = 11\n",
        "list1 = [10,12,223,101,11,11]\n",
        "if x in list1:          # memebrship operator\n",
        "  print(\"True\")\n",
        "else:\n",
        "  print(\"False\")"
      ],
      "metadata": {
        "colab": {
          "base_uri": "https://localhost:8080/"
        },
        "id": "d__izjNw-B1P",
        "outputId": "10ee94fe-543b-4a28-dadf-76b69436639e"
      },
      "execution_count": 89,
      "outputs": [
        {
          "output_type": "stream",
          "name": "stdout",
          "text": [
            "True\n"
          ]
        }
      ]
    },
    {
      "cell_type": "code",
      "source": [
        "list1 = [10,12,223,101,11,9]\n",
        "\n",
        "for i in range(0, len(list1)):\n",
        "  print(i,list1[i])\n",
        "\n"
      ],
      "metadata": {
        "colab": {
          "base_uri": "https://localhost:8080/"
        },
        "id": "U8_65XUZAwW9",
        "outputId": "789eb22d-7bb6-49fe-d807-a582088b3ebc"
      },
      "execution_count": 91,
      "outputs": [
        {
          "output_type": "stream",
          "name": "stdout",
          "text": [
            "0 10\n",
            "1 12\n",
            "2 223\n",
            "3 101\n",
            "4 11\n",
            "5 9\n"
          ]
        }
      ]
    },
    {
      "cell_type": "code",
      "source": [
        "list1 = [10,12,223,101,11,9]\n",
        "\n",
        "for i in range(0, len(list1)):\n",
        "  print(i,list1[i])\n",
        "\n",
        "  for j in range(i+1, len(list1)):\n",
        "    print(j,list1[j])\n"
      ],
      "metadata": {
        "colab": {
          "base_uri": "https://localhost:8080/"
        },
        "id": "VnI0rrJJDHAQ",
        "outputId": "d457a75b-b1bf-4592-baa6-01ba12f1e059"
      },
      "execution_count": 102,
      "outputs": [
        {
          "output_type": "stream",
          "name": "stdout",
          "text": [
            "0 10\n",
            "1 12\n",
            "2 223\n",
            "3 101\n",
            "4 11\n",
            "5 9\n",
            "1 12\n",
            "2 223\n",
            "3 101\n",
            "4 11\n",
            "5 9\n",
            "2 223\n",
            "3 101\n",
            "4 11\n",
            "5 9\n",
            "3 101\n",
            "4 11\n",
            "5 9\n",
            "4 11\n",
            "5 9\n",
            "5 9\n"
          ]
        }
      ]
    },
    {
      "cell_type": "code",
      "source": [
        "list1"
      ],
      "metadata": {
        "colab": {
          "base_uri": "https://localhost:8080/"
        },
        "id": "LOd8uKqNFI0y",
        "outputId": "7d4f54a0-2795-41cb-9cab-4a24c07ef2c8"
      },
      "execution_count": 110,
      "outputs": [
        {
          "output_type": "execute_result",
          "data": {
            "text/plain": [
              "[10, 12, 223, 101, 11, 9]"
            ]
          },
          "metadata": {},
          "execution_count": 110
        }
      ]
    },
    {
      "cell_type": "code",
      "source": [
        "# list2 = [10,11,12,10,11,12]\n",
        "\n",
        "#list has duplicate or not"
      ],
      "metadata": {
        "id": "l79kAN7WDUrT"
      },
      "execution_count": 129,
      "outputs": []
    },
    {
      "cell_type": "code",
      "source": [
        "list2 = [10,11,12,10,11]\n",
        "\n",
        "for i in range(0, len(list2)):\n",
        "  for j in range(i+1, len(list2)):\n",
        "\n",
        "    if list2[i] == list2[j]:\n",
        "      print(list2[i])\n",
        ""
      ],
      "metadata": {
        "colab": {
          "base_uri": "https://localhost:8080/"
        },
        "id": "dBwuo07sEKKO",
        "outputId": "5f6624e0-ca4e-47a0-a8b8-e79ec0257103"
      },
      "execution_count": 128,
      "outputs": [
        {
          "output_type": "stream",
          "name": "stdout",
          "text": [
            "10\n",
            "11\n"
          ]
        }
      ]
    },
    {
      "cell_type": "code",
      "source": [
        "list2 = [10,12,10,101,11,11,10]\n",
        "duplicate = []\n",
        "\n",
        "x = 0\n",
        "for i in range(0, len(list2)):\n",
        "  for j in range(i+1, len(list2)):\n",
        "    if(list2[i] == list2[i]):\n",
        "      if list2[i] not in duplicate:\n",
        "        duplicate.append(list2[i])\n",
        "\n",
        "print(duplicate)"
      ],
      "metadata": {
        "colab": {
          "base_uri": "https://localhost:8080/"
        },
        "id": "ozrZ57OUGQzz",
        "outputId": "c1b8cd95-f744-4aa8-cbb3-796c7fcef4b1"
      },
      "execution_count": 137,
      "outputs": [
        {
          "output_type": "stream",
          "name": "stdout",
          "text": [
            "[10, 12, 101, 11]\n"
          ]
        }
      ]
    },
    {
      "cell_type": "code",
      "source": [
        "list3 = [16,9,8,10,2,7]\n",
        "max = list3[0]\n",
        "for i in range(0, len(list3)):\n",
        "  if list3[i] > max:\n",
        "    max = list3[i]\n",
        "print(max)"
      ],
      "metadata": {
        "colab": {
          "base_uri": "https://localhost:8080/"
        },
        "id": "kToeSvXVJKGm",
        "outputId": "412bb6b9-de74-415c-892a-8e7e6d557615"
      },
      "execution_count": 139,
      "outputs": [
        {
          "output_type": "stream",
          "name": "stdout",
          "text": [
            "16\n"
          ]
        }
      ]
    },
    {
      "cell_type": "code",
      "source": [],
      "metadata": {
        "id": "x6l_tvTfI7Yf"
      },
      "execution_count": null,
      "outputs": []
    }
  ]
}