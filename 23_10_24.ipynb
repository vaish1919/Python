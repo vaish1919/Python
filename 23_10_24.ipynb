{
  "nbformat": 4,
  "nbformat_minor": 0,
  "metadata": {
    "colab": {
      "provenance": []
    },
    "kernelspec": {
      "name": "python3",
      "display_name": "Python 3"
    },
    "language_info": {
      "name": "python"
    }
  },
  "cells": [
    {
      "cell_type": "markdown",
      "source": [
        "# Pascal's Triangle\n",
        "\n",
        "- Each number is sum of the two numbers directly above it as shown.\n",
        "\n"
      ],
      "metadata": {
        "id": "7WMO4Rm41NQ-"
      }
    },
    {
      "cell_type": "code",
      "execution_count": 1,
      "metadata": {
        "colab": {
          "base_uri": "https://localhost:8080/"
        },
        "id": "3yf5xRhs0sp5",
        "outputId": "1d758fa4-d684-4087-fb47-2457e2c1481c"
      },
      "outputs": [
        {
          "output_type": "execute_result",
          "data": {
            "text/plain": [
              "[0, 1, 1, 0]"
            ]
          },
          "metadata": {},
          "execution_count": 1
        }
      ],
      "source": [
        "mylist = [[1], [1,1]]\n",
        "[0] + mylist [-1] + [0]\n"
      ]
    },
    {
      "cell_type": "code",
      "source": [
        "# Dictionary {}\n",
        "\n",
        "# Dictionaries are used to store data values in key:value pairs.\n",
        "# A dictionary is a collection which is ordered*, changeable and do not allow duplicates.\n",
        "# no index\n",
        "# keys are immutable\n",
        "# key must be unique\n",
        "\n"
      ],
      "metadata": {
        "id": "XZ9DARwI0-pc"
      },
      "execution_count": 5,
      "outputs": []
    },
    {
      "cell_type": "code",
      "source": [
        "mydict = {10:\"tushar\", 20:\"naina\"}\n",
        "len(mydict)\n",
        "mydict.keys()\n",
        "mydict.values()\n",
        "mydict.items()\n"
      ],
      "metadata": {
        "colab": {
          "base_uri": "https://localhost:8080/"
        },
        "id": "M6D0eHcfh2im",
        "outputId": "da4b6da2-35c9-445d-a4b9-fa6f670d3189"
      },
      "execution_count": 8,
      "outputs": [
        {
          "output_type": "execute_result",
          "data": {
            "text/plain": [
              "dict_items([(10, 'tushar'), (20, 'naina')])"
            ]
          },
          "metadata": {},
          "execution_count": 8
        }
      ]
    },
    {
      "cell_type": "code",
      "source": [
        "mydict = {10:\"tushar\", 20:\"naina\"}\n",
        "mydict[10]"
      ],
      "metadata": {
        "colab": {
          "base_uri": "https://localhost:8080/",
          "height": 36
        },
        "id": "bAbEStwYh2lT",
        "outputId": "b88ce21c-4e22-4d70-9dae-ed94e3d1300e"
      },
      "execution_count": 9,
      "outputs": [
        {
          "output_type": "execute_result",
          "data": {
            "text/plain": [
              "'tushar'"
            ],
            "application/vnd.google.colaboratory.intrinsic+json": {
              "type": "string"
            }
          },
          "metadata": {},
          "execution_count": 9
        }
      ]
    },
    {
      "cell_type": "code",
      "source": [
        "mydict[10] = \"tushargoyal\"\n",
        "mydict"
      ],
      "metadata": {
        "colab": {
          "base_uri": "https://localhost:8080/"
        },
        "id": "2JrIE9BXh2o6",
        "outputId": "bc04dbd5-5e64-492b-fba4-74a3390757c3"
      },
      "execution_count": 11,
      "outputs": [
        {
          "output_type": "execute_result",
          "data": {
            "text/plain": [
              "{10: 'tushargoyal', 20: 'naina'}"
            ]
          },
          "metadata": {},
          "execution_count": 11
        }
      ]
    },
    {
      "cell_type": "code",
      "source": [
        "mydict[40] = \"hey\"\n",
        "mydict"
      ],
      "metadata": {
        "colab": {
          "base_uri": "https://localhost:8080/"
        },
        "id": "0IEUQg3Fh2sa",
        "outputId": "93ecfd53-37da-4b3f-d478-a2c5fafd5fda"
      },
      "execution_count": 12,
      "outputs": [
        {
          "output_type": "execute_result",
          "data": {
            "text/plain": [
              "{10: 'tushargoyal', 20: 'naina', 40: 'hey'}"
            ]
          },
          "metadata": {},
          "execution_count": 12
        }
      ]
    },
    {
      "cell_type": "code",
      "source": [
        "# pop\n",
        "\n",
        "x = mydict.pop(10)\n",
        "print(mydict, \"X:\",x)"
      ],
      "metadata": {
        "colab": {
          "base_uri": "https://localhost:8080/"
        },
        "id": "Ki9F8WdbkPzZ",
        "outputId": "2c23fc18-8a6c-4abb-83d7-0285a242ed08"
      },
      "execution_count": 13,
      "outputs": [
        {
          "output_type": "stream",
          "name": "stdout",
          "text": [
            "{20: 'naina', 40: 'hey'} X: tushargoyal\n"
          ]
        }
      ]
    },
    {
      "cell_type": "code",
      "source": [
        "# update\n",
        "\n",
        "mydict.update({10:\"abc\"})\n",
        "print(mydict)"
      ],
      "metadata": {
        "colab": {
          "base_uri": "https://localhost:8080/"
        },
        "id": "GmCPjVXmke6-",
        "outputId": "0365e286-5556-42fe-9fd0-02b0e185570f"
      },
      "execution_count": 17,
      "outputs": [
        {
          "output_type": "stream",
          "name": "stdout",
          "text": [
            "{20: 'naina', 40: 'hey', 10: 'abc'}\n"
          ]
        }
      ]
    },
    {
      "cell_type": "code",
      "source": [
        "mydict = {10:\"tushar\", 20:\"naina\"}\n",
        "\n",
        "for key in mydict:\n",
        "  print(key)"
      ],
      "metadata": {
        "colab": {
          "base_uri": "https://localhost:8080/"
        },
        "id": "5a8L05ArlfNa",
        "outputId": "5ba6cf51-3bd9-4541-b834-01eec89c7739"
      },
      "execution_count": 18,
      "outputs": [
        {
          "output_type": "stream",
          "name": "stdout",
          "text": [
            "10\n",
            "20\n"
          ]
        }
      ]
    },
    {
      "cell_type": "code",
      "source": [
        "for x in mydict:\n",
        "  print(x, mydict[x])"
      ],
      "metadata": {
        "colab": {
          "base_uri": "https://localhost:8080/"
        },
        "id": "ekdeSH74m7a3",
        "outputId": "842f85f8-7c95-4882-a2c1-03a35de6ff28"
      },
      "execution_count": 24,
      "outputs": [
        {
          "output_type": "stream",
          "name": "stdout",
          "text": [
            "10 tushar\n",
            "20 naina\n"
          ]
        }
      ]
    },
    {
      "cell_type": "code",
      "source": [
        "dict1 = {\"x\":1}\n",
        "dict1[\"x\"] = 2\n",
        "dict1"
      ],
      "metadata": {
        "colab": {
          "base_uri": "https://localhost:8080/"
        },
        "id": "yG53LTIqm_WZ",
        "outputId": "4bd6232d-fa23-4703-bec8-9c9ef3faeca2"
      },
      "execution_count": 26,
      "outputs": [
        {
          "output_type": "execute_result",
          "data": {
            "text/plain": [
              "{'x': 2}"
            ]
          },
          "metadata": {},
          "execution_count": 26
        }
      ]
    },
    {
      "cell_type": "code",
      "source": [
        "# value update\n",
        "\n",
        "dict1 = {\"x\":10}\n",
        "dict1[\"x\"] = dict1[\"x\"] + 2\n",
        "dict1"
      ],
      "metadata": {
        "colab": {
          "base_uri": "https://localhost:8080/"
        },
        "id": "8vfUFJdxnhYI",
        "outputId": "917fe02d-9322-467a-c282-e509a3f9ad4e"
      },
      "execution_count": 28,
      "outputs": [
        {
          "output_type": "execute_result",
          "data": {
            "text/plain": [
              "{'x': 12}"
            ]
          },
          "metadata": {},
          "execution_count": 28
        }
      ]
    },
    {
      "cell_type": "code",
      "source": [
        "# loop = 10,18\n",
        "# dict2{\"total\":0} increase one by one total value through loop\n",
        "\n",
        "dict2 = {\"total\":0}\n",
        "for i in range(10,18):\n",
        "  dict2[\"total\"] = dict2[\"total\"] + 1\n",
        "  print(dict2)\n",
        "\n"
      ],
      "metadata": {
        "colab": {
          "base_uri": "https://localhost:8080/"
        },
        "id": "nSYB3Grhn3KA",
        "outputId": "ac4f56c5-e902-464e-db4c-224aa8cbf826"
      },
      "execution_count": 35,
      "outputs": [
        {
          "output_type": "stream",
          "name": "stdout",
          "text": [
            "{'total': 1}\n",
            "{'total': 2}\n",
            "{'total': 3}\n",
            "{'total': 4}\n",
            "{'total': 5}\n",
            "{'total': 6}\n",
            "{'total': 7}\n",
            "{'total': 8}\n"
          ]
        }
      ]
    },
    {
      "cell_type": "code",
      "source": [
        "dict2 = {\"total\":0}\n",
        "for i in range(10,18):\n",
        "  dict2[\"total\"] = dict2[\"total\"] + 1\n",
        "print(dict2)\n"
      ],
      "metadata": {
        "colab": {
          "base_uri": "https://localhost:8080/"
        },
        "id": "28zy7_PdoiW3",
        "outputId": "ae8a55b4-089f-4940-c94e-c84e9caf4315"
      },
      "execution_count": 38,
      "outputs": [
        {
          "output_type": "stream",
          "name": "stdout",
          "text": [
            "{'total': 8}\n"
          ]
        }
      ]
    },
    {
      "cell_type": "code",
      "source": [
        "# \"heyuser\" find total no. of characters\n",
        "\n",
        "dict3 = {}\n",
        "for i in \"heyuser\":\n",
        "  dict3[i] = 1\n",
        "  print(dict3)\n",
        "\n"
      ],
      "metadata": {
        "colab": {
          "base_uri": "https://localhost:8080/"
        },
        "id": "cf-e443VpO0W",
        "outputId": "6a5c9a30-a7cb-44ef-a87c-1607c72de02a"
      },
      "execution_count": 40,
      "outputs": [
        {
          "output_type": "stream",
          "name": "stdout",
          "text": [
            "{'h': 1}\n",
            "{'h': 1, 'e': 1}\n",
            "{'h': 1, 'e': 1, 'y': 1}\n",
            "{'h': 1, 'e': 1, 'y': 1, 'u': 1}\n",
            "{'h': 1, 'e': 1, 'y': 1, 'u': 1, 's': 1}\n",
            "{'h': 1, 'e': 1, 'y': 1, 'u': 1, 's': 1}\n",
            "{'h': 1, 'e': 1, 'y': 1, 'u': 1, 's': 1, 'r': 1}\n"
          ]
        }
      ]
    },
    {
      "cell_type": "code",
      "source": [
        "dict3 = {\"total\" : 0}\n",
        "\n",
        "for x in \"heyuser\":\n",
        "  dict3[\"total\"] = dict3[\"total\"] +1\n",
        "\n",
        "print(dict3)"
      ],
      "metadata": {
        "colab": {
          "base_uri": "https://localhost:8080/"
        },
        "id": "zVckE1W6pucv",
        "outputId": "901d8002-4574-424f-b49b-d232befc6741"
      },
      "execution_count": 47,
      "outputs": [
        {
          "output_type": "stream",
          "name": "stdout",
          "text": [
            "{'total': 7}\n"
          ]
        }
      ]
    },
    {
      "cell_type": "code",
      "source": [
        "dict3 = {}\n",
        "for x in \"heyuser\":\n",
        "  dict3[x] = 1\n",
        "dict3"
      ],
      "metadata": {
        "colab": {
          "base_uri": "https://localhost:8080/"
        },
        "id": "WAVBX2uop9ZM",
        "outputId": "9278585b-3104-4bb9-af3c-3eae746553ac"
      },
      "execution_count": 51,
      "outputs": [
        {
          "output_type": "execute_result",
          "data": {
            "text/plain": [
              "{'h': 1, 'e': 1, 'y': 1, 'u': 1, 's': 1, 'r': 1}"
            ]
          },
          "metadata": {},
          "execution_count": 51
        }
      ]
    },
    {
      "cell_type": "code",
      "source": [
        "mydict = {\"total\" : 5}\n",
        "if \"total\" not in  mydict:\n",
        "  mydict[\"total\"] = 1\n",
        "\n",
        "else:\n",
        "  mydict[\"total\"] = mydict[\"total\"] + 1\n",
        "\n",
        "print(mydict)\n"
      ],
      "metadata": {
        "colab": {
          "base_uri": "https://localhost:8080/"
        },
        "id": "H3SSUmIgq99s",
        "outputId": "06d6a0d4-4d30-4cfb-f298-ef6009897941"
      },
      "execution_count": 52,
      "outputs": [
        {
          "output_type": "stream",
          "name": "stdout",
          "text": [
            "{'total': 6}\n"
          ]
        }
      ]
    },
    {
      "cell_type": "code",
      "source": [
        "mydict = {\"total2\" : 5}\n",
        "if \"total\" not in  mydict:\n",
        "  mydict[\"total\"] = 1\n",
        "\n",
        "else:\n",
        "  mydict[\"total\"] = mydict[\"total\"] + 1\n",
        "\n",
        "print(mydict)"
      ],
      "metadata": {
        "colab": {
          "base_uri": "https://localhost:8080/"
        },
        "id": "c4oZVLJ-tABx",
        "outputId": "f72210fd-1b05-4734-eac8-417e78b81e6a"
      },
      "execution_count": 53,
      "outputs": [
        {
          "output_type": "stream",
          "name": "stdout",
          "text": [
            "{'total2': 5, 'total': 1}\n"
          ]
        }
      ]
    },
    {
      "cell_type": "code",
      "source": [
        "mydict = {\"total\" : 5}\n",
        "\n",
        "for char in \"heyuser\":\n",
        "  if char in mydict:\n",
        "    mydict[char] = mydict[char] + 1\n",
        "\n",
        "  else:\n",
        "    mydict[char] = 1\n",
        "print(mydict)"
      ],
      "metadata": {
        "colab": {
          "base_uri": "https://localhost:8080/"
        },
        "id": "0C9zIuGGtEBc",
        "outputId": "41b92e13-4e6d-491e-9e9f-ac32199a8a26"
      },
      "execution_count": 56,
      "outputs": [
        {
          "output_type": "stream",
          "name": "stdout",
          "text": [
            "{'total': 5, 'h': 1, 'e': 2, 'y': 1, 'u': 1, 's': 1, 'r': 1}\n"
          ]
        }
      ]
    },
    {
      "cell_type": "code",
      "source": [
        "dict4 = {\"divide\": 0,\"non_divide\":0}   # divisible by both 2 or 7\n",
        "for i in range(1,51):\n",
        "  if i % 2 == 0 and i % 7 == 0:\n",
        "    dict4[\"divide\"] = dict4[\"divide\"] + 1\n",
        "  else:\n",
        "    dict4[\"non_divide\"] = dict4[\"non_divide\"] + 1\n",
        "dict4\n"
      ],
      "metadata": {
        "colab": {
          "base_uri": "https://localhost:8080/"
        },
        "id": "z-qbZRQ_tjTv",
        "outputId": "37761bde-7b51-4a39-dd0f-cb7f1f8ba850"
      },
      "execution_count": 68,
      "outputs": [
        {
          "output_type": "execute_result",
          "data": {
            "text/plain": [
              "{'divide': 3, 'non_divide': 47}"
            ]
          },
          "metadata": {},
          "execution_count": 68
        }
      ]
    },
    {
      "cell_type": "code",
      "source": [
        "dict5 = {}\n",
        "for i in \"hey hello tushar aei\":\n",
        "  if i in \"aeiou\":\n",
        "    dict5[i] = dict5.get(i,0) + 1\n",
        "\n",
        "print(dict5)"
      ],
      "metadata": {
        "colab": {
          "base_uri": "https://localhost:8080/"
        },
        "id": "j0k8ZD6nuHnB",
        "outputId": "611d1927-0b5f-44c1-e6c2-7db04192fff7"
      },
      "execution_count": 72,
      "outputs": [
        {
          "output_type": "stream",
          "name": "stdout",
          "text": [
            "{'e': 3, 'o': 1, 'u': 1, 'a': 2, 'i': 1}\n"
          ]
        }
      ]
    },
    {
      "cell_type": "code",
      "source": [
        "dict5 = {\"vowels\": 0}\n",
        "m = 'aeiou'\n",
        "for i in \"hey hello tushar aei\":\n",
        "  if i in m:\n",
        "    dict5[\"vowels\"] = dict5[\"vowels\"] + 1\n",
        "print(dict5)"
      ],
      "metadata": {
        "colab": {
          "base_uri": "https://localhost:8080/"
        },
        "id": "bN3hdOz8wrS4",
        "outputId": "e5df1504-464a-405e-d6ac-1962020292da"
      },
      "execution_count": 73,
      "outputs": [
        {
          "output_type": "stream",
          "name": "stdout",
          "text": [
            "{'vowels': 8}\n"
          ]
        }
      ]
    },
    {
      "cell_type": "code",
      "source": [
        "\"hey hello\".split( )"
      ],
      "metadata": {
        "colab": {
          "base_uri": "https://localhost:8080/"
        },
        "id": "-skM_OJLxi10",
        "outputId": "b67201b6-5561-445d-d07f-55770520a6f3"
      },
      "execution_count": 74,
      "outputs": [
        {
          "output_type": "execute_result",
          "data": {
            "text/plain": [
              "['hey', 'hello']"
            ]
          },
          "metadata": {},
          "execution_count": 74
        }
      ]
    },
    {
      "cell_type": "code",
      "source": [
        "\"hey hello\".split(\"e\")"
      ],
      "metadata": {
        "colab": {
          "base_uri": "https://localhost:8080/"
        },
        "id": "nami-QIvyAyc",
        "outputId": "43c8e8c8-55fe-42c9-ebb5-a0f0b011357d"
      },
      "execution_count": 75,
      "outputs": [
        {
          "output_type": "execute_result",
          "data": {
            "text/plain": [
              "['h', 'y h', 'llo']"
            ]
          },
          "metadata": {},
          "execution_count": 75
        }
      ]
    },
    {
      "cell_type": "code",
      "source": [
        "x = (\"hey hello hello\")\n",
        "for i in x:\n",
        "  print(i)"
      ],
      "metadata": {
        "colab": {
          "base_uri": "https://localhost:8080/"
        },
        "id": "6RyinQnKyRFm",
        "outputId": "84cf7e97-76f7-4903-c8b4-e793f90388d7"
      },
      "execution_count": 79,
      "outputs": [
        {
          "output_type": "stream",
          "name": "stdout",
          "text": [
            "h\n",
            "e\n",
            "y\n",
            " \n",
            "h\n",
            "e\n",
            "l\n",
            "l\n",
            "o\n",
            " \n",
            "h\n",
            "e\n",
            "l\n",
            "l\n",
            "o\n"
          ]
        }
      ]
    },
    {
      "cell_type": "code",
      "source": [
        "# list\n",
        "# dicttionary\n",
        "# set\n",
        "# pattern\n",
        "\n"
      ],
      "metadata": {
        "id": "E58n9xaAzAuj"
      },
      "execution_count": 80,
      "outputs": []
    },
    {
      "cell_type": "code",
      "source": [
        "dict5 = {\"hey\":0,\"hello\":0}\n",
        "x = 'hey hello hello'\n",
        "for i in 'hey hello hello':\n",
        "  if i in \"x\":\n",
        "    dict5[i] = dict5[i] + 1\n",
        "\n",
        "print(dict5)\n"
      ],
      "metadata": {
        "colab": {
          "base_uri": "https://localhost:8080/"
        },
        "id": "Lqtp5G5lzRx-",
        "outputId": "e0b5a367-0c8c-4023-c571-2d0c0c8a419a"
      },
      "execution_count": 89,
      "outputs": [
        {
          "output_type": "stream",
          "name": "stdout",
          "text": [
            "{'hey': 0, 'hello': 0}\n"
          ]
        }
      ]
    },
    {
      "cell_type": "markdown",
      "source": [
        "# SET"
      ],
      "metadata": {
        "id": "bvhBMudP09CB"
      }
    },
    {
      "cell_type": "code",
      "source": [
        "# SET --> Collection of elements\n",
        "# unique\n",
        "# unordered\n",
        "# no index\n",
        "# mutable but set elements are immutable\n",
        "\n",
        "# SET Methods\n",
        "# remove() or discard()\n",
        "# update()\n",
        "# union()\n",
        "# intersection()\n",
        "# difference()\n",
        "# symmetric_difference_update()\n"
      ],
      "metadata": {
        "id": "TPsvDXuEzhR3"
      },
      "execution_count": 90,
      "outputs": []
    },
    {
      "cell_type": "code",
      "source": [
        "myset = {10,20,30,10,10,10,20}\n",
        "print(myset)"
      ],
      "metadata": {
        "colab": {
          "base_uri": "https://localhost:8080/"
        },
        "id": "VHBcP6Qh0ehh",
        "outputId": "b4578554-c888-4216-bbb5-83fcf5e98d26"
      },
      "execution_count": 92,
      "outputs": [
        {
          "output_type": "stream",
          "name": "stdout",
          "text": [
            "{10, 20, 30}\n"
          ]
        }
      ]
    },
    {
      "cell_type": "code",
      "source": [
        "myset.add(658)\n",
        "myset"
      ],
      "metadata": {
        "colab": {
          "base_uri": "https://localhost:8080/"
        },
        "id": "rrhyBNxl0k6u",
        "outputId": "7841fdb3-0546-4d99-ca10-60d456e4005f"
      },
      "execution_count": 93,
      "outputs": [
        {
          "output_type": "execute_result",
          "data": {
            "text/plain": [
              "{10, 20, 30, 658}"
            ]
          },
          "metadata": {},
          "execution_count": 93
        }
      ]
    },
    {
      "cell_type": "code",
      "source": [],
      "metadata": {
        "id": "oRSS_oWd0uLt"
      },
      "execution_count": null,
      "outputs": []
    }
  ]
}