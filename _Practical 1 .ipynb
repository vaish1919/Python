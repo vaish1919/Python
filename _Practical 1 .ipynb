{
 "cells": [
  {
   "cell_type": "code",
   "execution_count": 2,
   "id": "06c694bc-a0ca-4240-9126-45ebfb3574d9",
   "metadata": {},
   "outputs": [
    {
     "name": "stdout",
     "output_type": "stream",
     "text": [
      "Jaipur Pink city\n",
      "Her age is  30 Years old\n",
      "Her age is 30 year old\n"
     ]
    }
   ],
   "source": [
    "# python is a high level programming language\n",
    "# which is easy and is used in various domains\n",
    "# ranging from data analysis to softwware development,\n",
    "# data science and many more.\n",
    "\n",
    "\n",
    "\n",
    "#BENEFITS -->\n",
    "\n",
    "# simple and easy to code\n",
    "# opens up various opportunities in many domains\n",
    "\n",
    "\n",
    "#print(\"Jaipur\") ----------- double quotes for character\n",
    "#print(48)----------------- no need double quotes\n",
    "\n",
    "\n",
    "\n",
    "#  print(\"Jaipur\")\n",
    "#  print(48)\n",
    "\n",
    "\n",
    "# concatenation ( using plus operator )\n",
    "print('Jaipur '+ 'Pink city')\n",
    "\n",
    "\n",
    "\n",
    "age = 30\n",
    "print('Her age is ',30,'Years old')\n",
    "\n",
    "# f-string ------------- works only in curly brackets{} and  start with f before quotes\n",
    "print(f'Her age is {age} year old')\n",
    "\n",
    "\n",
    "\n",
    "\n"
   ]
  },
  {
   "cell_type": "code",
   "execution_count": 4,
   "id": "85c4117a-ea50-4602-a044-db274184b7b3",
   "metadata": {},
   "outputs": [],
   "source": [
    "# string_character or sequence of character ('Jaipur')\n",
    "# int ----------------- all positive and negative values(40,60,68,79)\n",
    "# float--------------------decimal values(1.1,2.3,4.5,-6.7)\n",
    "# Boolean/Bool -------------------True / False\n",
    "\n",
    "\n",
    "# -----------------single line commenting (#)\n",
    "# ''' / \"\"\" line '''/\"\"\"  ---------- multiple line comments\n",
    "\n",
    "\n",
    "# Use case of comments:\n",
    "\n",
    "#1] To explain or give any information\n",
    "#2] To protect the code from raising any error on some specific sentences\n",
    "\n",
    "\n",
    "\n",
    "\n"
   ]
  },
  {
   "cell_type": "code",
   "execution_count": 6,
   "id": "5278f3f8-7914-450e-ad86-c531c0feca4c",
   "metadata": {},
   "outputs": [
    {
     "name": "stdout",
     "output_type": "stream",
     "text": [
      "<class 'int'>\n",
      "<class 'str'>\n",
      "<class 'bool'>\n",
      "<class 'float'>\n"
     ]
    }
   ],
   "source": [
    "# Variables :\n",
    "\n",
    "# a = 10\n",
    "# variable name = variable value to be given\n",
    "\n",
    "\n",
    "a =9\n",
    "print(type(a))\n",
    "\n",
    "b = 'Jaipur is nice place '\n",
    "print(type(b))\n",
    "\n",
    "c = True\n",
    "print(type(c))\n",
    "\n",
    "\n",
    "d= 7.2\n",
    "print(type(d))\n",
    "\n",
    "\n"
   ]
  },
  {
   "cell_type": "code",
   "execution_count": 8,
   "id": "bf62568b-088d-4943-9e2d-26e30f452c13",
   "metadata": {},
   "outputs": [
    {
     "name": "stdout",
     "output_type": "stream",
     "text": [
      "My roll no is 65 \n"
     ]
    }
   ],
   "source": [
    "rollno = 65\n",
    "\n",
    "print(f'My roll no is {rollno} ')\n"
   ]
  },
  {
   "cell_type": "code",
   "execution_count": 10,
   "id": "546a9577-e818-4273-ba67-23697c182110",
   "metadata": {},
   "outputs": [
    {
     "name": "stdout",
     "output_type": "stream",
     "text": [
      "My name is vaishnavi My age is 21\n"
     ]
    }
   ],
   "source": [
    "\n",
    "age = 21\n",
    "print('My name is vaishnavi ' + f'My age is {age}')"
   ]
  },
  {
   "cell_type": "code",
   "execution_count": null,
   "id": "b3d6455e-b181-456c-8f11-17cf30fc24cc",
   "metadata": {},
   "outputs": [],
   "source": []
  }
 ],
 "metadata": {
  "kernelspec": {
   "display_name": "Python 3 (ipykernel)",
   "language": "python",
   "name": "python3"
  },
  "language_info": {
   "codemirror_mode": {
    "name": "ipython",
    "version": 3
   },
   "file_extension": ".py",
   "mimetype": "text/x-python",
   "name": "python",
   "nbconvert_exporter": "python",
   "pygments_lexer": "ipython3",
   "version": "3.12.4"
  }
 },
 "nbformat": 4,
 "nbformat_minor": 5
}
