{
  "nbformat": 4,
  "nbformat_minor": 0,
  "metadata": {
    "colab": {
      "provenance": []
    },
    "kernelspec": {
      "name": "python3",
      "display_name": "Python 3"
    },
    "language_info": {
      "name": "python"
    }
  },
  "cells": [
    {
      "cell_type": "code",
      "execution_count": 1,
      "metadata": {
        "colab": {
          "base_uri": "https://localhost:8080/"
        },
        "id": "HmnRy0SqaRAF",
        "outputId": "2584b908-6791-46a6-c3f4-dcc234eb5385"
      },
      "outputs": [
        {
          "output_type": "stream",
          "name": "stdout",
          "text": [
            "- - - - * \n",
            "- - - * * \n",
            "- - * * * \n",
            "- * * * * \n",
            "* * * * * \n"
          ]
        }
      ],
      "source": [
        "num = 5\n",
        "for i in range(1,6):\n",
        "  for j in range(i,num):\n",
        "    print(\"-\",end = \" \")\n",
        "  for k in range(1,i+1):\n",
        "    print(\"*\", end = \" \")\n",
        "  print()"
      ]
    },
    {
      "cell_type": "code",
      "source": [
        "num = 5\n",
        "for i in range(1,6):\n",
        "  for j in range(i,num):\n",
        "    print(\"-\",end = \" \")\n",
        "\n",
        "  for k in range(1,2*i):\n",
        "    print(\"*\", end = \" \")\n",
        "  print()\n"
      ],
      "metadata": {
        "colab": {
          "base_uri": "https://localhost:8080/"
        },
        "id": "aiHtKQK9mLG1",
        "outputId": "457e91b2-401e-4395-8100-624aa961a535"
      },
      "execution_count": 2,
      "outputs": [
        {
          "output_type": "stream",
          "name": "stdout",
          "text": [
            "- - - - * \n",
            "- - - * * * \n",
            "- - * * * * * \n",
            "- * * * * * * * \n",
            "* * * * * * * * * \n"
          ]
        }
      ]
    },
    {
      "cell_type": "code",
      "source": [
        "# 1\n",
        "# 10\n",
        "# 101\n",
        "# 1010\n",
        "# 10101\n",
        "\n",
        "\n",
        "num = 5\n",
        "\n",
        "for i in range(1,6):\n",
        "  for j in range(i,num):\n",
        "\n",
        "    if j == 1 or j ==2 or i ==5 or i==4:\n",
        "      if i % 2 !=0:\n",
        "        print(\"1\",end =\" \")\n",
        "\n",
        "    else:\n",
        "      print(\"0\",end =\" \")\n",
        "  print()"
      ],
      "metadata": {
        "colab": {
          "base_uri": "https://localhost:8080/"
        },
        "id": "ENQzY7SrmOK1",
        "outputId": "64ec1ae6-0206-4e85-c959-246b83a1ff79"
      },
      "execution_count": 3,
      "outputs": [
        {
          "output_type": "stream",
          "name": "stdout",
          "text": [
            "1 1 0 0 \n",
            "0 0 \n",
            "0 0 \n",
            "\n",
            "\n"
          ]
        }
      ]
    },
    {
      "cell_type": "code",
      "source": [
        "\n",
        "row = 4\n",
        "for i in range(row,0,-1):\n",
        "  for j in range(row-i):\n",
        "    print(\" \",end = \"\")\n",
        "\n",
        "  for k in range(1,i+1):\n",
        "    print(\"* \", end = \"\")\n",
        "  print()\n"
      ],
      "metadata": {
        "colab": {
          "base_uri": "https://localhost:8080/"
        },
        "id": "ACmFZq6PmR_I",
        "outputId": "1e0058a7-2ff8-4f4f-c32d-41d792004cf5"
      },
      "execution_count": 4,
      "outputs": [
        {
          "output_type": "stream",
          "name": "stdout",
          "text": [
            "* * * * \n",
            " * * * \n",
            "  * * \n",
            "   * \n"
          ]
        }
      ]
    },
    {
      "cell_type": "code",
      "source": [
        "num = 5\n",
        "for i in range(1,5):\n",
        "  for j in range(i,num):\n",
        "    print(\" \",end = \" \")\n",
        "\n",
        "  for k in range(1,2*i):\n",
        "    print(\"*\", end = \"\")\n",
        "  print()\n"
      ],
      "metadata": {
        "colab": {
          "base_uri": "https://localhost:8080/"
        },
        "id": "sgh6neeMmVQk",
        "outputId": "0198c00f-2502-47dc-fb7c-578170daf0a7"
      },
      "execution_count": 12,
      "outputs": [
        {
          "output_type": "stream",
          "name": "stdout",
          "text": [
            "        *\n",
            "      ***\n",
            "    *****\n",
            "  *******\n"
          ]
        }
      ]
    },
    {
      "cell_type": "code",
      "source": [
        "num = 5\n",
        "for i in range(1,5):\n",
        "  for j in range(i,num):\n",
        "    print(\"\",end = \" \")\n",
        "\n",
        "  for k in range(1,2*i):\n",
        "    print(\"*\", end = \"\")\n",
        "  print()\n"
      ],
      "metadata": {
        "colab": {
          "base_uri": "https://localhost:8080/"
        },
        "id": "XcUTFdRSmYbJ",
        "outputId": "b99cbd36-137f-4aad-cf50-8d1640f47b1e"
      },
      "execution_count": 6,
      "outputs": [
        {
          "output_type": "stream",
          "name": "stdout",
          "text": [
            "    *\n",
            "   ***\n",
            "  *****\n",
            " *******\n"
          ]
        }
      ]
    },
    {
      "cell_type": "code",
      "source": [
        "num = 5\n",
        "for i in range(1,5):\n",
        "  for j in range(i,num):\n",
        "    print(\"\",end = \" \")\n",
        "\n",
        "  for k in range(1,2*i):\n",
        "    print(i, end = \"\")\n",
        "  print()\n"
      ],
      "metadata": {
        "colab": {
          "base_uri": "https://localhost:8080/"
        },
        "id": "0UX3OJftmbn7",
        "outputId": "e603c7b3-da71-4eff-de9a-129e9378446f"
      },
      "execution_count": 7,
      "outputs": [
        {
          "output_type": "stream",
          "name": "stdout",
          "text": [
            "    1\n",
            "   222\n",
            "  33333\n",
            " 4444444\n"
          ]
        }
      ]
    },
    {
      "cell_type": "code",
      "source": [
        "row = 4\n",
        "for i in range(row,0,-1):\n",
        "  for j in range(row-i):\n",
        "    print(\" \",end = \"\")\n",
        "\n",
        "  for k in range(1,i+1):\n",
        "    print(i, end = \" \")\n",
        "  print()"
      ],
      "metadata": {
        "colab": {
          "base_uri": "https://localhost:8080/"
        },
        "id": "yFBJCRN1metz",
        "outputId": "5d7c4f3e-6005-4feb-9285-a0456956650d"
      },
      "execution_count": 8,
      "outputs": [
        {
          "output_type": "stream",
          "name": "stdout",
          "text": [
            "4 4 4 4 \n",
            " 3 3 3 \n",
            "  2 2 \n",
            "   1 \n"
          ]
        }
      ]
    },
    {
      "cell_type": "code",
      "source": [
        "num = 6\n",
        "for i in range(1,num+1):\n",
        "  for j in range(1,i):\n",
        "    print(\" \", end=\"\")\n",
        "\n",
        "  for k in range(i,num+1):\n",
        "    print(k, end=\" \")\n",
        "  print()"
      ],
      "metadata": {
        "colab": {
          "base_uri": "https://localhost:8080/"
        },
        "id": "KLSEcX65mhYW",
        "outputId": "bd33fdee-34e7-4f38-fc16-622c473a36c8"
      },
      "execution_count": 9,
      "outputs": [
        {
          "output_type": "stream",
          "name": "stdout",
          "text": [
            "1 2 3 4 5 6 \n",
            " 2 3 4 5 6 \n",
            "  3 4 5 6 \n",
            "   4 5 6 \n",
            "    5 6 \n",
            "     6 \n"
          ]
        }
      ]
    },
    {
      "cell_type": "code",
      "source": [
        "\n",
        "row = 4\n",
        "for i in range(row,0,-1):\n",
        "  for j in range(row-i):\n",
        "    print(\" \",end = \"\")\n",
        "\n",
        "  for k in range(1,i+1):\n",
        "    print(k, end = \" \")\n",
        "  print()\n"
      ],
      "metadata": {
        "colab": {
          "base_uri": "https://localhost:8080/"
        },
        "id": "o4IvLA0amkW_",
        "outputId": "c59c576a-fa79-4946-be88-a6ceef4a29d8"
      },
      "execution_count": 10,
      "outputs": [
        {
          "output_type": "stream",
          "name": "stdout",
          "text": [
            "1 2 3 4 \n",
            " 1 2 3 \n",
            "  1 2 \n",
            "   1 \n"
          ]
        }
      ]
    },
    {
      "cell_type": "code",
      "source": [
        "for row in range(1,5):\n",
        "  for col in range(2,row+1):\n",
        "    print(col,end = \" \")\n",
        "\n",
        "  print()\n"
      ],
      "metadata": {
        "colab": {
          "base_uri": "https://localhost:8080/"
        },
        "id": "hc4r_ZLSm7uv",
        "outputId": "63ca16b8-12ae-4e47-e043-bee188ca4a22"
      },
      "execution_count": 52,
      "outputs": [
        {
          "output_type": "stream",
          "name": "stdout",
          "text": [
            "\n",
            "2 \n",
            "2 3 \n",
            "2 3 4 \n"
          ]
        }
      ]
    },
    {
      "cell_type": "code",
      "source": [
        "\n",
        "num = 4\n",
        "for i in range(1, num+1):\n",
        "  for j in range(i,0,-1):\n",
        "    print(j, end=\" \")\n",
        "\n",
        "  print()"
      ],
      "metadata": {
        "colab": {
          "base_uri": "https://localhost:8080/"
        },
        "id": "GbBMxzTdoCwM",
        "outputId": "87e9fd6d-48c0-4718-c7b6-87f28214fbfa"
      },
      "execution_count": 48,
      "outputs": [
        {
          "output_type": "stream",
          "name": "stdout",
          "text": [
            "1 \n",
            "2 1 \n",
            "3 2 1 \n",
            "4 3 2 1 \n"
          ]
        }
      ]
    },
    {
      "cell_type": "code",
      "source": [
        "for i in range(row):\n",
        "    for j in range(row-i):\n",
        "        print(' ', end='')\n",
        "\n",
        "    for j in range(2*i+1):\n",
        "        if j==0 or j==2*i or i==row-1:\n",
        "            print('*',end=\"\")\n",
        "        else:\n",
        "            print(\" \", end=\"\")\n",
        "    print()"
      ],
      "metadata": {
        "colab": {
          "base_uri": "https://localhost:8080/"
        },
        "id": "e6BUwAK1oQkr",
        "outputId": "4ecc231c-e3bd-4e14-8f90-532896f3d6a8"
      },
      "execution_count": 77,
      "outputs": [
        {
          "output_type": "stream",
          "name": "stdout",
          "text": [
            "    *\n",
            "   * *\n",
            "  *   *\n",
            " *******\n"
          ]
        }
      ]
    },
    {
      "cell_type": "code",
      "source": [],
      "metadata": {
        "id": "5e-vaRSqtwR8"
      },
      "execution_count": null,
      "outputs": []
    }
  ]
}