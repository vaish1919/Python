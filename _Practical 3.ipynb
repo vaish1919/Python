{
 "cells": [
  {
   "cell_type": "code",
   "execution_count": 1,
   "id": "565a962d-3536-476a-b44b-920aefa16da1",
   "metadata": {},
   "outputs": [],
   "source": [
    "x = 2\n",
    "x -= 1"
   ]
  },
  {
   "cell_type": "code",
   "execution_count": 3,
   "id": "0305933a-5f2e-4f77-903f-bdc6cf15fbfd",
   "metadata": {},
   "outputs": [
    {
     "name": "stdout",
     "output_type": "stream",
     "text": [
      "1\n"
     ]
    }
   ],
   "source": [
    "print(x)"
   ]
  },
  {
   "cell_type": "code",
   "execution_count": 7,
   "id": "4128f9e1-a59f-4d99-b447-7f4bf3e164c1",
   "metadata": {},
   "outputs": [
    {
     "name": "stdout",
     "output_type": "stream",
     "text": [
      "False\n"
     ]
    }
   ],
   "source": [
    "# LOGICAL OPERATORS ( AND , OR, NOT)\n",
    "\n",
    "a = True\n",
    "b = False\n",
    "\n",
    "result = a and b\n",
    "print(result)\n",
    "\n"
   ]
  },
  {
   "cell_type": "code",
   "execution_count": 9,
   "id": "173688c1-defe-4f66-b48a-e3cd2a028562",
   "metadata": {},
   "outputs": [
    {
     "name": "stdout",
     "output_type": "stream",
     "text": [
      "True\n"
     ]
    }
   ],
   "source": [
    "\n",
    "a = True\n",
    "b = False\n",
    "\n",
    "result1 = a or b\n",
    "print(result1)\n"
   ]
  },
  {
   "cell_type": "code",
   "execution_count": 19,
   "id": "43d65827-be7a-440e-af64-c921b7f849bb",
   "metadata": {},
   "outputs": [
    {
     "name": "stdout",
     "output_type": "stream",
     "text": [
      "False\n"
     ]
    }
   ],
   "source": [
    "\n",
    "a = True\n",
    "\n",
    "result2  =  not a\n",
    "print(result2)\n"
   ]
  },
  {
   "cell_type": "code",
   "execution_count": null,
   "id": "12c3b99e-8f25-4915-8b0c-89e38c549cd8",
   "metadata": {},
   "outputs": [],
   "source": []
  },
  {
   "cell_type": "code",
   "execution_count": 48,
   "id": "c41f41d2-8aef-4952-aed1-acb21cc19842",
   "metadata": {},
   "outputs": [
    {
     "name": "stdout",
     "output_type": "stream",
     "text": [
      "True\n",
      "False\n"
     ]
    }
   ],
   "source": [
    "# Example\n",
    "\n",
    "x = 10\n",
    "y = 20\n",
    "z = 30\n",
    "\n",
    "condition1 = x < y and y < z\n",
    "print(condition1)\n",
    "\n",
    "condition2 = x < y and y > z\n",
    "print(condition2)\n"
   ]
  },
  {
   "cell_type": "code",
   "execution_count": 44,
   "id": "f2edc634-f0ea-412f-bfc5-094f14cf466b",
   "metadata": {},
   "outputs": [
    {
     "name": "stdout",
     "output_type": "stream",
     "text": [
      "True\n"
     ]
    }
   ],
   "source": [
    "condition3 = x > y or y < z\n",
    "print(condition3)"
   ]
  },
  {
   "cell_type": "code",
   "execution_count": 41,
   "id": "fdf716b9-3eab-4905-9db7-6ba1a7014e84",
   "metadata": {},
   "outputs": [
    {
     "name": "stdout",
     "output_type": "stream",
     "text": [
      "True\n"
     ]
    }
   ],
   "source": [
    "\n",
    "condition4 = x < y or y > z\n",
    "print(condition4)"
   ]
  },
  {
   "cell_type": "code",
   "execution_count": 39,
   "id": "376b5034-18aa-4240-a109-6c3ef5f3f1bf",
   "metadata": {},
   "outputs": [
    {
     "name": "stdout",
     "output_type": "stream",
     "text": [
      "True\n"
     ]
    }
   ],
   "source": [
    "\n",
    "condition5 = not ( x == y)\n",
    "print(condition5)"
   ]
  },
  {
   "cell_type": "code",
   "execution_count": null,
   "id": "f2112984-156d-4181-8cdb-a6191e39706f",
   "metadata": {},
   "outputs": [],
   "source": []
  },
  {
   "cell_type": "code",
   "execution_count": 61,
   "id": "dc27a137-fd98-411f-86ea-6f4a27b1c958",
   "metadata": {},
   "outputs": [
    {
     "name": "stdout",
     "output_type": "stream",
     "text": [
      "True\n"
     ]
    }
   ],
   "source": [
    "# IDENTITY OPERATORS ( It is used to find location of variables )\n",
    "\n",
    "a = [1,2,3]\n",
    "b = [1,2,3]\n",
    "\n",
    "print( a == b)\n"
   ]
  },
  {
   "cell_type": "code",
   "execution_count": 63,
   "id": "03df32f0-7411-4bc5-bf55-817a3e9097a3",
   "metadata": {},
   "outputs": [
    {
     "name": "stdout",
     "output_type": "stream",
     "text": [
      "False\n"
     ]
    }
   ],
   "source": [
    "print (a is b)"
   ]
  },
  {
   "cell_type": "code",
   "execution_count": 67,
   "id": "6bd7fae0-9420-4857-9cea-89e0963ef9c4",
   "metadata": {},
   "outputs": [
    {
     "name": "stdout",
     "output_type": "stream",
     "text": [
      "2708350664512\n"
     ]
    }
   ],
   "source": [
    "print(id(a))"
   ]
  },
  {
   "cell_type": "code",
   "execution_count": 69,
   "id": "44f9f999-c98b-41a9-bd2c-933381cd5eb6",
   "metadata": {},
   "outputs": [
    {
     "name": "stdout",
     "output_type": "stream",
     "text": [
      "2708326715264\n"
     ]
    }
   ],
   "source": [
    "print(id(b))"
   ]
  },
  {
   "cell_type": "code",
   "execution_count": 81,
   "id": "bb99f26b-8cef-4ed1-abb0-27614965fba0",
   "metadata": {},
   "outputs": [
    {
     "name": "stdout",
     "output_type": "stream",
     "text": [
      "True\n"
     ]
    }
   ],
   "source": [
    "# same location  \n",
    "\n",
    "c = [3,4,5]\n",
    "d = c\n",
    "print(c is d)"
   ]
  },
  {
   "cell_type": "code",
   "execution_count": 83,
   "id": "d39d5d02-7cfe-4278-8ea0-fef6a97f1324",
   "metadata": {},
   "outputs": [
    {
     "name": "stdout",
     "output_type": "stream",
     "text": [
      "2708381243840\n"
     ]
    }
   ],
   "source": [
    "print(id(c))"
   ]
  },
  {
   "cell_type": "code",
   "execution_count": 85,
   "id": "8cdb8882-2d2c-4e7f-8050-fe7b146795b8",
   "metadata": {},
   "outputs": [
    {
     "name": "stdout",
     "output_type": "stream",
     "text": [
      "2708381243840\n"
     ]
    }
   ],
   "source": [
    "print(id(d))"
   ]
  },
  {
   "cell_type": "code",
   "execution_count": null,
   "id": "5ac3fab9-6243-4850-89c8-4604e9db390d",
   "metadata": {},
   "outputs": [],
   "source": []
  },
  {
   "cell_type": "code",
   "execution_count": 100,
   "id": "823a78a1-6731-41f9-b23a-f0d8db402abe",
   "metadata": {},
   "outputs": [
    {
     "name": "stdout",
     "output_type": "stream",
     "text": [
      "True\n"
     ]
    }
   ],
   "source": [
    "# MEMBERSHIP OPERATORS ( in , not in)\n",
    "\n",
    "li = [1,2,3,4]\n",
    "print( 3 in li)\n",
    "\n"
   ]
  },
  {
   "cell_type": "code",
   "execution_count": 102,
   "id": "a56976d7-d436-45f7-b3eb-74cbf49a2fbb",
   "metadata": {},
   "outputs": [
    {
     "name": "stdout",
     "output_type": "stream",
     "text": [
      "True\n"
     ]
    }
   ],
   "source": [
    "str1 = 'Delhi'\n",
    "print( 'i' in str1)"
   ]
  },
  {
   "cell_type": "code",
   "execution_count": 108,
   "id": "54abaa1c-1eba-4c4e-9193-e10cec104310",
   "metadata": {},
   "outputs": [
    {
     "name": "stdout",
     "output_type": "stream",
     "text": [
      "True\n"
     ]
    }
   ],
   "source": [
    "# not in \n",
    "\n",
    "str1 = 'Delhi'\n",
    "print ('s' not in str1)"
   ]
  },
  {
   "cell_type": "code",
   "execution_count": 112,
   "id": "71cd44e0-6b8b-4481-9c3a-edcfddbc1700",
   "metadata": {},
   "outputs": [
    {
     "name": "stdout",
     "output_type": "stream",
     "text": [
      "False\n"
     ]
    }
   ],
   "source": [
    "print( 'I' in str1)     # case sensitive "
   ]
  },
  {
   "cell_type": "code",
   "execution_count": null,
   "id": "460545a6-0f35-4948-aff1-69265da9daaf",
   "metadata": {},
   "outputs": [],
   "source": []
  },
  {
   "cell_type": "code",
   "execution_count": null,
   "id": "a9c5159e-729b-4a40-825a-256f10aadf11",
   "metadata": {},
   "outputs": [],
   "source": []
  }
 ],
 "metadata": {
  "kernelspec": {
   "display_name": "Python 3 (ipykernel)",
   "language": "python",
   "name": "python3"
  },
  "language_info": {
   "codemirror_mode": {
    "name": "ipython",
    "version": 3
   },
   "file_extension": ".py",
   "mimetype": "text/x-python",
   "name": "python",
   "nbconvert_exporter": "python",
   "pygments_lexer": "ipython3",
   "version": "3.12.4"
  }
 },
 "nbformat": 4,
 "nbformat_minor": 5
}
