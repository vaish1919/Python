{
 "cells": [
  {
   "cell_type": "markdown",
   "id": "702b8254-02f9-42aa-a702-50094bdb1634",
   "metadata": {},
   "source": [
    "## Literals \n",
    "\n",
    "- literals are static data values that are stored in source code and used to assign values.\n",
    "- literals are constant \n",
    "- literals are raw data which given in variable or constant\n",
    "\n",
    "Types -->\n",
    "    1]  Numeric Literals --> int,float\n",
    "\n",
    "    2] String literals -->  it is a sequence of character which are surrounded by quotes.\n",
    "        \n",
    "    3] Boolean literals --> TRur or false\n",
    "\n",
    "    4] Literal collection --> list,tuple,dict,set\n",
    "\n"
   ]
  },
  {
   "cell_type": "markdown",
   "id": "73ccb102-0f97-4766-b15c-568e8a43b062",
   "metadata": {},
   "source": [
    "## Pep 8\n",
    "\n",
    "- Python Enhancement Proposal\n",
    "  \n",
    "- it is a document which provides to write a code through guidelines or best practices\n",
    "\n",
    "- it helps to increase readability and consistency\n",
    "\n",
    "- it is a design document\n",
    "\n",
    "  "
   ]
  },
  {
   "cell_type": "markdown",
   "id": "65e64066-cddb-46f6-9634-440ae9f8c53e",
   "metadata": {},
   "source": [
    "## Call by value or Call by reference \n",
    "\n",
    "### Call by value \n",
    "- a copy of variable is passed \n",
    "\n",
    "- it passes the value\n",
    "\n",
    "- It does not modify an argument or actual parameter\n",
    "\n",
    "- it has seperate memory location\n",
    "\n",
    "- pointer are used\n",
    "\n",
    "### Call by reference\n",
    "- a variable itself is passsed\n",
    "\n",
    "- it passes the address\n",
    "\n",
    "- it can modifiy or it can change the argument or a actual parameter\n",
    "\n",
    "- it has same memory location is allocated\n",
    "\n",
    "- pointers not used\n"
   ]
  },
  {
   "cell_type": "markdown",
   "id": "24f37c72-1afa-402d-9b86-f6a678435c29",
   "metadata": {},
   "source": [
    "## Lifescope of variables\n",
    "\n",
    "- It has a period of time which exists in program memory\n",
    "\n",
    "- it detremines the visibility and lifetime of a variable \n",
    "\n",
    "\n",
    "Types of variables --> \n",
    "\n",
    "1] Local -- > These variables are declared inside the function\n",
    "\n",
    "2] global --> These variables declares outside the function \n",
    "\n",
    "\n"
   ]
  },
  {
   "cell_type": "markdown",
   "id": "115c6e42-008e-43b0-822f-eda94eecb429",
   "metadata": {},
   "source": [
    "## Python 2 and Python 3 \n",
    "\n",
    "### Python 2 \n",
    "- it uses ASCII code\n",
    "\n",
    "- print function treated as statement\n",
    "\n",
    "- it goes through division (/)\n",
    "\n",
    "- it is limited to 32 bits\n",
    "\n",
    "- it has xrange method\n",
    "\n",
    "- it is complex\n",
    "\n",
    "### Python 3\n",
    "\n",
    "- it uses UNICODE\n",
    "\n",
    "- print function treated as a function      #print()\n",
    "\n",
    "- it goes through division // (floor division)\n",
    "\n",
    "- it is unlimited\n",
    "\n",
    "- it has range method\n",
    "\n",
    "- it is simplified\n",
    "\n",
    "  "
   ]
  },
  {
   "cell_type": "markdown",
   "id": "e4331c67-8a82-4769-af87-b68f47c2969f",
   "metadata": {},
   "source": [
    "## is operator and == operator\n",
    "\n",
    "### is operator \n",
    "- It is a identity operator\n",
    "\n",
    "- it is used to check if two variables refer to the same object\n",
    "  \n",
    "- it returns True if two objects are same and returns False if they are not\n",
    "\n",
    "### == operator\n",
    "- it is comaprision operator\n",
    "\n",
    "- it is also known as euality operator\n",
    "\n",
    "- it compares two values or variables to see if they are euqal.\n",
    "\n",
    "  \n",
    "\n",
    "  "
   ]
  },
  {
   "cell_type": "markdown",
   "id": "72a2764a-e391-4549-bac8-005e358fed73",
   "metadata": {},
   "source": [
    "## Namespace \n",
    "\n",
    "- it is collection of symbolic names along with information\n",
    "\n",
    "- it is like dictionary in which the keys are object names and the values are objects themselves\n",
    "\n",
    "Types of Namespace -\n",
    "\n",
    "1] Built-in --> pre-defines names (int,len,str,sum)\n",
    "\n",
    "2] Global \n",
    "3] Local\n",
    "\n",
    "al 'x'\r\n"
   ]
  },
  {
   "cell_type": "code",
   "execution_count": 21,
   "id": "069e3ac4-bd03-42cc-a28b-4daa530b8d30",
   "metadata": {},
   "outputs": [
    {
     "name": "stdout",
     "output_type": "stream",
     "text": [
      "Inside the function: local\n",
      "Outside the function: global\n"
     ]
    }
   ],
   "source": [
    "x = \"global\"  \n",
    "\n",
    "def function():\n",
    "    x = \"local\" \n",
    "    print(\"Inside the function:\", x)\n",
    "\n",
    "function() \n",
    "print(\"Outside the function:\", x)  \n"
   ]
  },
  {
   "cell_type": "markdown",
   "id": "da4921f6-8076-49a7-8216-9fc147d32099",
   "metadata": {},
   "source": [
    "## feature of python \n",
    "\n",
    "- it is simple to use \n",
    "\n",
    "- it has easy syntax\n",
    "\n",
    "- it is a interpreted language\n",
    "\n",
    "- it has faster development\n",
    "\n",
    "- it is dymaic typed programming language\n",
    "\n",
    "- it high level language\n",
    "\n",
    "- libraries --> ( matplotlib, seaborn, numpy, pandas)\n",
    "\n",
    "  "
   ]
  },
  {
   "cell_type": "markdown",
   "id": "27bad2aa-d399-49c6-92a0-306fe53944a5",
   "metadata": {},
   "source": [
    "## XOR Operator \n",
    "\n",
    "- It is a bitwise operator\n",
    "\n",
    "- if it is same then 0 and if it is different then 1\n",
    "\n",
    "- it compare bits if the numbers are different then it return True (1) and if they are same it return False(0)\n",
    "\n",
    "- each bit is compared with one another\n",
    "\n",
    "- integer numbers are first converted into binary numbers\n",
    "\n",
    "  "
   ]
  },
  {
   "cell_type": "code",
   "execution_count": 31,
   "id": "19356f3c-84c8-4b7f-a661-8088648c8102",
   "metadata": {},
   "outputs": [
    {
     "name": "stdout",
     "output_type": "stream",
     "text": [
      "6\n"
     ]
    }
   ],
   "source": [
    "a = 5   # in binary = 0101\n",
    "b = 3   # in binary = 0011\n",
    "\n",
    "# 0110\n",
    "\n",
    "xor = a ^ b\n",
    "\n",
    "print(xor)\n"
   ]
  },
  {
   "cell_type": "code",
   "execution_count": null,
   "id": "6efb8310-c854-4e91-9081-1821cf752652",
   "metadata": {},
   "outputs": [],
   "source": []
  }
 ],
 "metadata": {
  "kernelspec": {
   "display_name": "Python 3 (ipykernel)",
   "language": "python",
   "name": "python3"
  },
  "language_info": {
   "codemirror_mode": {
    "name": "ipython",
    "version": 3
   },
   "file_extension": ".py",
   "mimetype": "text/x-python",
   "name": "python",
   "nbconvert_exporter": "python",
   "pygments_lexer": "ipython3",
   "version": "3.12.4"
  }
 },
 "nbformat": 4,
 "nbformat_minor": 5
}
