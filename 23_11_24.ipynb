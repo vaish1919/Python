{
  "nbformat": 4,
  "nbformat_minor": 0,
  "metadata": {
    "colab": {
      "provenance": []
    },
    "kernelspec": {
      "name": "python3",
      "display_name": "Python 3"
    },
    "language_info": {
      "name": "python"
    }
  },
  "cells": [
    {
      "cell_type": "markdown",
      "source": [
        "# Encapsulation Questions\n",
        "\n",
        "\n",
        "# Case Study 1: Healthcare System (Patient Record management)\n",
        "\n",
        "- Problem: Develop a system for managing  patient reords in a hospital where:\n",
        "\n",
        "- Patient details (name, age and medical history) should be private.\n",
        "\n",
        "- Provide a method to add new medical records while keeping previous data secure.\n"
      ],
      "metadata": {
        "id": "hretI8nPPf0h"
      }
    },
    {
      "cell_type": "code",
      "source": [
        "class Patient:\n",
        "  def __init__(self,name,age):\n",
        "    self.__name = name                ## encapsulated name\n",
        "    self.__age = age                  ## encapsulated age\n",
        "    self.__medical_history = []       ## encapsulated medical history\n",
        "\n",
        "  def add_medical_record(self,record):\n",
        "    self.__medical_history.append(record)\n",
        "    return f\"Medical record added for {self.__name}.\"\n",
        "\n",
        "  def get_medical_history(self):\n",
        "    return f\"Medical History for {self.__name} : {self.__medical_history}\"\n",
        "\n",
        "patient = Patient(\"Rohit\", 30)\n",
        "print(patient.add_medical_record(\"2024: Flu Diagnosis\"))\n",
        "print(patient.add_medical_record(\"2024: Blood Test Results Normal\"))\n",
        "print(patient.get_medical_history())\n",
        "\n"
      ],
      "metadata": {
        "colab": {
          "base_uri": "https://localhost:8080/"
        },
        "id": "pZNdFbjyPgS5",
        "outputId": "6fa717a8-bc9c-4bed-9b1f-c523429c6a5a"
      },
      "execution_count": 1,
      "outputs": [
        {
          "output_type": "stream",
          "name": "stdout",
          "text": [
            "Medical record added for Rohit.\n",
            "Medical record added for Rohit.\n",
            "Medical History for Rohit : ['2024: Flu Diagnosis', '2024: Blood Test Results Normal']\n"
          ]
        }
      ]
    },
    {
      "cell_type": "code",
      "source": [],
      "metadata": {
        "id": "Xg2P4b70RQzB"
      },
      "execution_count": null,
      "outputs": []
    },
    {
      "cell_type": "markdown",
      "source": [
        "# Case Study 2: Online Examination System\n",
        "\n",
        "- Problem: Create a system for online examinations where:\n",
        "\n",
        "- Student scores are private and cannot be accessed directly.\n",
        "\n",
        "- Scores can only be added or retrived using specific methods.\n",
        "\n",
        "- Implement a feature to calculate the average score of the student."
      ],
      "metadata": {
        "id": "2_79zmYYU3dv"
      }
    },
    {
      "cell_type": "code",
      "source": [
        "class Exam:\n",
        "  def __init__(self, student_name):\n",
        "    self.__student_name = student_name\n",
        "    self.__scores = []\n",
        "\n",
        "  def add_score(self, subject, score):\n",
        "    if 0 <= score <= 100:\n",
        "      self .__scores.append({\"Subject\": subject, \"score\": score})\n",
        "      return f\"Score added for {subject} : {score}.\"\n",
        "\n",
        "\n",
        "    return \"Invalid Score!! Must be between 0 and 100.\"\n",
        "\n",
        "  def get_scores(self):\n",
        "    return f\"Scores for {self.__student_name}: {self.__scores}\"\n",
        "\n",
        "  def calculate_average(self):\n",
        "    if not self.__scores:\n",
        "      return \"No scores avaliable.\"\n",
        "\n",
        "    total = sum (item[\"score\"] for item in self.__scores)\n",
        "    return f\"Average Score: {total / len(self.__scores):.2f}\"\n",
        "\n",
        "exam = Exam(\"Sam\")\n",
        "print(exam.add_score(\"Math\", 10))\n",
        "print(exam.add_score(\"Science\", 20))\n",
        "print(exam.get_scores())\n",
        "print(exam.calculate_average())\n",
        "\n",
        "\n"
      ],
      "metadata": {
        "colab": {
          "base_uri": "https://localhost:8080/"
        },
        "id": "gY0yDonUVkh6",
        "outputId": "65dfe4f1-d202-48fa-c89e-2868955b30a4"
      },
      "execution_count": 4,
      "outputs": [
        {
          "output_type": "stream",
          "name": "stdout",
          "text": [
            "Score added for Math : 10.\n",
            "Score added for Science : 20.\n",
            "Scores for Sam: [{'Subject': 'Math', 'score': 10}, {'Subject': 'Science', 'score': 20}]\n",
            "Average Score: 15.00\n"
          ]
        }
      ]
    },
    {
      "cell_type": "code",
      "source": [],
      "metadata": {
        "id": "2uepePUiXRcW"
      },
      "execution_count": 4,
      "outputs": []
    },
    {
      "cell_type": "markdown",
      "source": [
        "# Inheritance  \n",
        "\n",
        "## Multiple Inheritance"
      ],
      "metadata": {
        "id": "p1cR4-LVbmSA"
      }
    },
    {
      "cell_type": "code",
      "source": [
        "class Engine:\n",
        "  def start_engine(self):\n",
        "    print(\"Engine started.\")\n",
        "\n",
        "class Wheels:\n",
        "  def roatate_wheels(self):\n",
        "    print(\"Wheels are rotating.\")\n",
        "\n",
        "class Car(Engine, Wheels):\n",
        "  def drive(self):\n",
        "    print(\"car is driving.\")\n",
        "\n",
        "\n",
        "my_car = Car()\n",
        "my_car.start_engine()\n",
        "my_car.roatate_wheels()\n",
        "my_car.drive()"
      ],
      "metadata": {
        "colab": {
          "base_uri": "https://localhost:8080/"
        },
        "id": "tCCzKQCabulj",
        "outputId": "2a12bf1e-accd-4109-c56c-dbf60e3c86ad"
      },
      "execution_count": 5,
      "outputs": [
        {
          "output_type": "stream",
          "name": "stdout",
          "text": [
            "Engine started.\n",
            "Wheels are rotating.\n",
            "car is driving.\n"
          ]
        }
      ]
    },
    {
      "cell_type": "code",
      "source": [],
      "metadata": {
        "id": "N1uR6gHlcLTN"
      },
      "execution_count": null,
      "outputs": []
    },
    {
      "cell_type": "markdown",
      "source": [
        "## Multilevel Inheritance"
      ],
      "metadata": {
        "id": "qYo3JwBkcjbf"
      }
    },
    {
      "cell_type": "code",
      "source": [
        "class Animal:\n",
        "  def eat(self):\n",
        "    print(\"Animal is eating.\")\n",
        "\n",
        "class Dog(Animal):\n",
        "  def bark(self):\n",
        "    print(\"Dog is barking.\")\n",
        "\n",
        "class Puppy(Dog):\n",
        "  def weep(self):\n",
        "    print(\"Puppy is weeping.\")\n",
        "\n",
        "\n",
        "puppy = Puppy()\n",
        "puppy.eat()\n",
        "puppy.bark()\n",
        "puppy.weep()"
      ],
      "metadata": {
        "colab": {
          "base_uri": "https://localhost:8080/"
        },
        "id": "oaBvGuufcmZ1",
        "outputId": "04eb0b2e-6749-4c83-cab1-abcb1380675d"
      },
      "execution_count": 6,
      "outputs": [
        {
          "output_type": "stream",
          "name": "stdout",
          "text": [
            "Animal is eating.\n",
            "Dog is barking.\n",
            "Puppy is weeping.\n"
          ]
        }
      ]
    },
    {
      "cell_type": "code",
      "source": [],
      "metadata": {
        "id": "r6URtfVEhayq"
      },
      "execution_count": null,
      "outputs": []
    },
    {
      "cell_type": "markdown",
      "source": [
        "## E-commerce Order Management"
      ],
      "metadata": {
        "id": "J6M_jgvsiz3J"
      }
    },
    {
      "cell_type": "code",
      "source": [
        "\n",
        "class Customer:\n",
        "  def __init__(self, name, contact):\n",
        "    self.name = name\n",
        "    self.contact = contact\n",
        "\n",
        "class Product:\n",
        "  def __init__(self, name, price):\n",
        "    self.name = name\n",
        "    self.price = price\n",
        "\n",
        "    def get_price(self):\n",
        "      return self.price\n",
        "\n",
        "class Order:\n",
        "  def __init__(self, customer, products):\n",
        "    self.customer = customer\n",
        "    self.products = products\n",
        "    self.order_summary = []\n",
        "    self.generate_order_summary()\n",
        "\n",
        "  def generate_order_summary(self):\n",
        "    for products in self.products:\n",
        "      self.order_summary.append({\"name\": products.name, \"price\": products.price})\n",
        "      return self.order_summary\n",
        "\n",
        "      def get_order_summary(self):\n",
        "        return self.order_summary\n",
        "\n",
        "print(\"Customer Details\")\n",
        "name = input(\"Enter your name\")\n",
        "contact = input(\"Enter your contact details\")\n",
        "customer = Customer(name, contact)\n",
        "\n",
        "print(\"\\n Product Details\")\n",
        "product_name = input(\"Enter product name \")\n",
        "product_price = float(input(\"Enter product price\"))\n",
        "product = Product(product_name, product_price)\n",
        "\n",
        "order = Order(customer, [product])\n",
        "print(\"\\n Order Summary\")\n",
        "print(f\"Customer: {order.customer.name}\")\n",
        "print(f\"Contact: {order.customer.contact}\")\n",
        "print(\"Product:\")\n",
        "for item in order.generate_order_summary():\n",
        "  print(f\"{item['name']} : {item['price']}\")"
      ],
      "metadata": {
        "colab": {
          "base_uri": "https://localhost:8080/"
        },
        "id": "yWmzHWCAdG5F",
        "outputId": "4f3ca15d-3980-40e3-84f0-8b95de8c9a63"
      },
      "execution_count": 34,
      "outputs": [
        {
          "output_type": "stream",
          "name": "stdout",
          "text": [
            "Customer Details\n",
            "Enter your name: vaish\n",
            "Enter your contact details: 764848873\n",
            "\n",
            "Product Details\n",
            "Enter product name: Amul\n",
            "Enter product price: 500\n",
            "\n",
            "Order Summary\n",
            "Customer: vaish\n",
            "Contact: 764848873\n",
            "Product:\n",
            "Amul : 500.0\n",
            "Amul : 500.0\n"
          ]
        }
      ]
    },
    {
      "cell_type": "markdown",
      "source": [
        "# Vehicle Hierarchy\n"
      ],
      "metadata": {
        "id": "YM8ZikXBnFFk"
      }
    },
    {
      "cell_type": "code",
      "source": [
        "class Vehicle:\n",
        "  def __init__(self, speed, fuel):\n",
        "    self.speed = speed\n",
        "    self.fuel = fuel\n",
        "\n",
        "  def start(self):\n",
        "    print(\"Vehicle started.\")\n",
        "\n",
        "  def stop(self):\n",
        "    print(\"Vehicle stopped.\")\n",
        "\n",
        "  def get_speed(self):\n",
        "    return self.speed\n",
        "\n",
        "  def get_fuel(self):\n",
        "    return self.fuel\n",
        "\n",
        "  def get_ac(self):\n",
        "    return self.ac\n",
        "\n",
        "\n",
        "class ElectricCar(Car):\n",
        "  def __init__(self, battery_capacity):\n",
        "    self.battery_capacity = battery_capacity\n",
        "  def charge_battery(self):\n",
        "    print(\"Battery charged.\")\n",
        "  def get_battery_capacity(self):\n",
        "    return self.battery_capacity\n",
        "\n",
        "print(\"Vehicle Details\")\n",
        "speed = float(input(\"Enter speed\"))\n",
        "fuel = input(\"Enter fuel type\")\n",
        "vehicle = Vehicle(speed, fuel)\n",
        "print(f\"Speed: {vehicle.get_speed()}\")\n",
        "print(f\"Fuel: {vehicle.get_fuel()}\")\n",
        "\n",
        "vehicle.start()\n",
        "vehicle.stop()\n",
        "\n",
        "print(\"\\n Electric Car Details\")\n",
        "battery_capacity = input(\"Enter capacity\")\n",
        "car = ElectricCar(battery_capacity)\n",
        "car.charge_battery()\n"
      ],
      "metadata": {
        "colab": {
          "base_uri": "https://localhost:8080/"
        },
        "id": "NF2e6ZDIdkR7",
        "outputId": "bea23e3d-ce25-4593-ad0e-2347f2960e1f"
      },
      "execution_count": 49,
      "outputs": [
        {
          "output_type": "stream",
          "name": "stdout",
          "text": [
            "Vehicle Details\n",
            "Enter speed100\n",
            "Enter fuel typepetrol\n",
            "Speed: 100.0\n",
            "Fuel: petrol\n",
            "Vehicle started.\n",
            "Vehicle stopped.\n",
            "\n",
            " Electric Car Details\n",
            "Enter capacity200\n",
            "Battery charged.\n"
          ]
        }
      ]
    },
    {
      "cell_type": "code",
      "source": [],
      "metadata": {
        "id": "pp1QEwOYkzzv"
      },
      "execution_count": null,
      "outputs": []
    }
  ]
}