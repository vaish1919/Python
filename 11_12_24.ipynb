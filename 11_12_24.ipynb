{
 "cells": [
  {
   "cell_type": "markdown",
   "id": "3a9c37cf-312d-4189-81a9-1e530173a043",
   "metadata": {},
   "source": [
    "## View VS Copy\n",
    "\n",
    "- View() it can modify the original data\n",
    "\n",
    "- Copy() It can't modify the original data."
   ]
  },
  {
   "cell_type": "code",
   "execution_count": 5,
   "id": "e3625a38-8f48-48c8-9811-05295d1049f4",
   "metadata": {},
   "outputs": [],
   "source": [
    "import numpy as np"
   ]
  },
  {
   "cell_type": "code",
   "execution_count": 12,
   "id": "c496c54b-5d02-4122-8d6f-7aaedee5c8d9",
   "metadata": {},
   "outputs": [
    {
     "data": {
      "text/plain": [
       "array([10, 20,  0,  0,  0, 60, 70, 80])"
      ]
     },
     "execution_count": 12,
     "metadata": {},
     "output_type": "execute_result"
    }
   ],
   "source": [
    "# VIEW()\n",
    "\n",
    "a = np.array([10,20,30,40,50,60,70,80])\n",
    "b = a[2:5]\n",
    "b[:] = 0\n",
    "a"
   ]
  },
  {
   "cell_type": "code",
   "execution_count": 14,
   "id": "894266d3-7bd1-48e9-983c-2c8c638c8887",
   "metadata": {},
   "outputs": [
    {
     "data": {
      "text/plain": [
       "array([10, 20, 30, 40, 50, 60, 70, 80])"
      ]
     },
     "execution_count": 14,
     "metadata": {},
     "output_type": "execute_result"
    }
   ],
   "source": [
    "# COPY()\n",
    "\n",
    "a = np.array([10,20,30,40,50,60,70,80])\n",
    "b = a[2:5].copy()\n",
    "b[:] = 0\n",
    "a"
   ]
  },
  {
   "cell_type": "markdown",
   "id": "cced132c-f3db-4376-add1-cab148170eb0",
   "metadata": {},
   "source": [
    "## Reshaping the Data"
   ]
  },
  {
   "cell_type": "code",
   "execution_count": 20,
   "id": "8bf81e21-43ed-4771-9481-81cac04eb283",
   "metadata": {},
   "outputs": [],
   "source": [
    "# We know that \n",
    "# n(rows)*n(columns) = n(total_elements)\n",
    "# if we have total_elements = 12\n",
    "# 1*12, 12*1\n",
    "# 2*6, 6*2\n",
    "# 3*4, 4*3\n",
    "\n",
    "# if we have total_elements = 36\n",
    "# 1*36 , 36*1\n",
    "# 2*18, 18*2\n",
    "# 3*12, 12*3\n",
    "# 4*9, 9*4\n",
    "# 6*6\n",
    "\n"
   ]
  },
  {
   "cell_type": "code",
   "execution_count": 22,
   "id": "af44363b-ff93-473c-92f7-5a9e31ad0583",
   "metadata": {},
   "outputs": [
    {
     "data": {
      "text/plain": [
       "array([33,  4, 38,  9, 12, 15, 21, 13, 42,  5,  5, 43])"
      ]
     },
     "execution_count": 22,
     "metadata": {},
     "output_type": "execute_result"
    }
   ],
   "source": [
    "a = np.random.randint(1,50,12)\n",
    "a"
   ]
  },
  {
   "cell_type": "code",
   "execution_count": 24,
   "id": "ee2ab4d6-8048-4af9-92f4-9359f3cceb0d",
   "metadata": {},
   "outputs": [
    {
     "data": {
      "text/plain": [
       "(12,)"
      ]
     },
     "execution_count": 24,
     "metadata": {},
     "output_type": "execute_result"
    }
   ],
   "source": [
    "a.shape"
   ]
  },
  {
   "cell_type": "code",
   "execution_count": 26,
   "id": "cef4f837-18f8-422f-8264-a1adb46e4702",
   "metadata": {},
   "outputs": [
    {
     "data": {
      "text/plain": [
       "array([[33,  4, 38,  9, 12, 15],\n",
       "       [21, 13, 42,  5,  5, 43]])"
      ]
     },
     "execution_count": 26,
     "metadata": {},
     "output_type": "execute_result"
    }
   ],
   "source": [
    "a.reshape(2,6)"
   ]
  },
  {
   "cell_type": "code",
   "execution_count": 28,
   "id": "2d4afda0-dfb2-4a88-8fa0-ee30142eb78d",
   "metadata": {},
   "outputs": [
    {
     "data": {
      "text/plain": [
       "array([[33,  4],\n",
       "       [38,  9],\n",
       "       [12, 15],\n",
       "       [21, 13],\n",
       "       [42,  5],\n",
       "       [ 5, 43]])"
      ]
     },
     "execution_count": 28,
     "metadata": {},
     "output_type": "execute_result"
    }
   ],
   "source": [
    "a.reshape(6,2)"
   ]
  },
  {
   "cell_type": "code",
   "execution_count": 30,
   "id": "4dfc4304-1175-4db7-b2af-faf4b77f597d",
   "metadata": {},
   "outputs": [
    {
     "data": {
      "text/plain": [
       "array([[33,  4, 38],\n",
       "       [ 9, 12, 15],\n",
       "       [21, 13, 42],\n",
       "       [ 5,  5, 43]])"
      ]
     },
     "execution_count": 30,
     "metadata": {},
     "output_type": "execute_result"
    }
   ],
   "source": [
    "a.reshape(4,3)"
   ]
  },
  {
   "cell_type": "code",
   "execution_count": 32,
   "id": "48749f82-2a74-449c-9a60-e7ac043a5837",
   "metadata": {},
   "outputs": [
    {
     "data": {
      "text/plain": [
       "array([[33,  4, 38,  9],\n",
       "       [12, 15, 21, 13],\n",
       "       [42,  5,  5, 43]])"
      ]
     },
     "execution_count": 32,
     "metadata": {},
     "output_type": "execute_result"
    }
   ],
   "source": [
    "a.reshape(3,4)"
   ]
  },
  {
   "cell_type": "code",
   "execution_count": 34,
   "id": "e02d67f3-a4f2-40b9-9961-02a73712e33e",
   "metadata": {},
   "outputs": [
    {
     "data": {
      "text/plain": [
       "array([[33],\n",
       "       [ 4],\n",
       "       [38],\n",
       "       [ 9],\n",
       "       [12],\n",
       "       [15],\n",
       "       [21],\n",
       "       [13],\n",
       "       [42],\n",
       "       [ 5],\n",
       "       [ 5],\n",
       "       [43]])"
      ]
     },
     "execution_count": 34,
     "metadata": {},
     "output_type": "execute_result"
    }
   ],
   "source": [
    "a.reshape(12,1)"
   ]
  },
  {
   "cell_type": "code",
   "execution_count": 36,
   "id": "3581608e-506a-49b8-b1df-7fb13f9e2b87",
   "metadata": {},
   "outputs": [
    {
     "data": {
      "text/plain": [
       "array([[33,  4, 38,  9, 12, 15, 21, 13, 42,  5,  5, 43]])"
      ]
     },
     "execution_count": 36,
     "metadata": {},
     "output_type": "execute_result"
    }
   ],
   "source": [
    "a.reshape(1,12)"
   ]
  },
  {
   "cell_type": "code",
   "execution_count": null,
   "id": "76d9cb9f-6759-4348-8071-3f6918474e21",
   "metadata": {},
   "outputs": [],
   "source": []
  },
  {
   "cell_type": "code",
   "execution_count": 39,
   "id": "bc29b392-861b-4a55-9aab-e33cce35c88b",
   "metadata": {},
   "outputs": [
    {
     "data": {
      "text/plain": [
       "array([79, 26, 11, 24, 41, 79, 92, 34, 35, 29, 17, 53, 48, 53, 80, 73, 47,\n",
       "       55, 70, 43, 21, 56, 38, 47, 98, 56, 36, 52,  6, 80, 85, 54, 11, 73,\n",
       "       89,  2, 46, 73, 20,  8, 18, 93, 89, 41, 47, 75, 56, 44, 59, 51, 88,\n",
       "       30, 80, 91,  8, 87, 26, 90,  8, 42, 19, 91, 49, 81, 61,  4, 92, 94,\n",
       "       49,  2, 15, 78])"
      ]
     },
     "execution_count": 39,
     "metadata": {},
     "output_type": "execute_result"
    }
   ],
   "source": [
    "a = np.random.randint(1,100,72)\n",
    "a"
   ]
  },
  {
   "cell_type": "code",
   "execution_count": 41,
   "id": "958be5c4-64c4-4a5d-b02a-01077c90fe4a",
   "metadata": {},
   "outputs": [],
   "source": [
    "# 2,36\n",
    "# 4,18\n",
    "# 6,12\n",
    "# 8,9"
   ]
  },
  {
   "cell_type": "code",
   "execution_count": 43,
   "id": "fa9a63c7-5db4-4142-b25d-939b42fe6733",
   "metadata": {},
   "outputs": [
    {
     "data": {
      "text/plain": [
       "array([[79, 26, 11, 24, 41, 79, 92, 34, 35, 29, 17, 53, 48, 53, 80, 73,\n",
       "        47, 55, 70, 43, 21, 56, 38, 47, 98, 56, 36, 52,  6, 80, 85, 54,\n",
       "        11, 73, 89,  2],\n",
       "       [46, 73, 20,  8, 18, 93, 89, 41, 47, 75, 56, 44, 59, 51, 88, 30,\n",
       "        80, 91,  8, 87, 26, 90,  8, 42, 19, 91, 49, 81, 61,  4, 92, 94,\n",
       "        49,  2, 15, 78]])"
      ]
     },
     "execution_count": 43,
     "metadata": {},
     "output_type": "execute_result"
    }
   ],
   "source": [
    "a.reshape(2,36)"
   ]
  },
  {
   "cell_type": "code",
   "execution_count": 45,
   "id": "f1347d77-5488-4300-aea0-29095808bca1",
   "metadata": {},
   "outputs": [
    {
     "data": {
      "text/plain": [
       "array([[79, 26, 11, 24, 41, 79, 92, 34, 35, 29, 17, 53, 48, 53, 80, 73,\n",
       "        47, 55],\n",
       "       [70, 43, 21, 56, 38, 47, 98, 56, 36, 52,  6, 80, 85, 54, 11, 73,\n",
       "        89,  2],\n",
       "       [46, 73, 20,  8, 18, 93, 89, 41, 47, 75, 56, 44, 59, 51, 88, 30,\n",
       "        80, 91],\n",
       "       [ 8, 87, 26, 90,  8, 42, 19, 91, 49, 81, 61,  4, 92, 94, 49,  2,\n",
       "        15, 78]])"
      ]
     },
     "execution_count": 45,
     "metadata": {},
     "output_type": "execute_result"
    }
   ],
   "source": [
    "a.reshape(4,18)"
   ]
  },
  {
   "cell_type": "code",
   "execution_count": 47,
   "id": "1e94a956-8abc-47fd-b9e5-3e66c28c6e2e",
   "metadata": {},
   "outputs": [
    {
     "data": {
      "text/plain": [
       "array([[79, 26, 11, 24, 41, 79, 92, 34, 35, 29, 17, 53],\n",
       "       [48, 53, 80, 73, 47, 55, 70, 43, 21, 56, 38, 47],\n",
       "       [98, 56, 36, 52,  6, 80, 85, 54, 11, 73, 89,  2],\n",
       "       [46, 73, 20,  8, 18, 93, 89, 41, 47, 75, 56, 44],\n",
       "       [59, 51, 88, 30, 80, 91,  8, 87, 26, 90,  8, 42],\n",
       "       [19, 91, 49, 81, 61,  4, 92, 94, 49,  2, 15, 78]])"
      ]
     },
     "execution_count": 47,
     "metadata": {},
     "output_type": "execute_result"
    }
   ],
   "source": [
    "a.reshape(6,12)"
   ]
  },
  {
   "cell_type": "code",
   "execution_count": 51,
   "id": "264ea0e8-baf0-455e-abad-26b25ec0b5f0",
   "metadata": {},
   "outputs": [
    {
     "data": {
      "text/plain": [
       "array([[79, 26, 11, 24, 41, 79],\n",
       "       [92, 34, 35, 29, 17, 53],\n",
       "       [48, 53, 80, 73, 47, 55],\n",
       "       [70, 43, 21, 56, 38, 47],\n",
       "       [98, 56, 36, 52,  6, 80],\n",
       "       [85, 54, 11, 73, 89,  2],\n",
       "       [46, 73, 20,  8, 18, 93],\n",
       "       [89, 41, 47, 75, 56, 44],\n",
       "       [59, 51, 88, 30, 80, 91],\n",
       "       [ 8, 87, 26, 90,  8, 42],\n",
       "       [19, 91, 49, 81, 61,  4],\n",
       "       [92, 94, 49,  2, 15, 78]])"
      ]
     },
     "execution_count": 51,
     "metadata": {},
     "output_type": "execute_result"
    }
   ],
   "source": [
    "a.reshape(12,6)"
   ]
  },
  {
   "cell_type": "code",
   "execution_count": 49,
   "id": "efa1707f-b7f4-4b5d-bd21-55aef0f34f8f",
   "metadata": {},
   "outputs": [
    {
     "data": {
      "text/plain": [
       "array([[79, 26, 11, 24, 41, 79, 92, 34, 35],\n",
       "       [29, 17, 53, 48, 53, 80, 73, 47, 55],\n",
       "       [70, 43, 21, 56, 38, 47, 98, 56, 36],\n",
       "       [52,  6, 80, 85, 54, 11, 73, 89,  2],\n",
       "       [46, 73, 20,  8, 18, 93, 89, 41, 47],\n",
       "       [75, 56, 44, 59, 51, 88, 30, 80, 91],\n",
       "       [ 8, 87, 26, 90,  8, 42, 19, 91, 49],\n",
       "       [81, 61,  4, 92, 94, 49,  2, 15, 78]])"
      ]
     },
     "execution_count": 49,
     "metadata": {},
     "output_type": "execute_result"
    }
   ],
   "source": [
    "a.reshape(8,9)"
   ]
  },
  {
   "cell_type": "code",
   "execution_count": 53,
   "id": "5002baa9-7915-473d-9b4f-8bdcc8b5dea3",
   "metadata": {},
   "outputs": [
    {
     "data": {
      "text/plain": [
       "array([[79, 26, 11, 24, 41, 79, 92, 34],\n",
       "       [35, 29, 17, 53, 48, 53, 80, 73],\n",
       "       [47, 55, 70, 43, 21, 56, 38, 47],\n",
       "       [98, 56, 36, 52,  6, 80, 85, 54],\n",
       "       [11, 73, 89,  2, 46, 73, 20,  8],\n",
       "       [18, 93, 89, 41, 47, 75, 56, 44],\n",
       "       [59, 51, 88, 30, 80, 91,  8, 87],\n",
       "       [26, 90,  8, 42, 19, 91, 49, 81],\n",
       "       [61,  4, 92, 94, 49,  2, 15, 78]])"
      ]
     },
     "execution_count": 53,
     "metadata": {},
     "output_type": "execute_result"
    }
   ],
   "source": [
    "a.reshape(9,8)"
   ]
  },
  {
   "cell_type": "markdown",
   "id": "b478a2bf-c1e3-47cf-a87f-1a808ef69669",
   "metadata": {},
   "source": [
    "# Conditional Selection in Numpy"
   ]
  },
  {
   "cell_type": "code",
   "execution_count": 56,
   "id": "4a7f2894-5781-418e-b96c-340bfff56b6b",
   "metadata": {},
   "outputs": [
    {
     "data": {
      "text/plain": [
       "array([ 1,  2,  3,  4,  5,  6,  7,  8,  9, 10, 11, 12, 13, 14, 15])"
      ]
     },
     "execution_count": 56,
     "metadata": {},
     "output_type": "execute_result"
    }
   ],
   "source": [
    "a = np.arange(1,16)\n",
    "a"
   ]
  },
  {
   "cell_type": "code",
   "execution_count": 58,
   "id": "044604d5-92f0-4222-8a56-c9d695e10b82",
   "metadata": {},
   "outputs": [
    {
     "data": {
      "text/plain": [
       "array([False, False, False, False, False, False, False, False, False,\n",
       "       False,  True,  True,  True,  True,  True])"
      ]
     },
     "execution_count": 58,
     "metadata": {},
     "output_type": "execute_result"
    }
   ],
   "source": [
    "a > 10"
   ]
  },
  {
   "cell_type": "code",
   "execution_count": 60,
   "id": "07f1c978-0f73-4439-a6b4-37d5ffabf669",
   "metadata": {},
   "outputs": [
    {
     "data": {
      "text/plain": [
       "array([ True,  True,  True,  True,  True,  True,  True,  True,  True,\n",
       "       False, False, False, False, False, False])"
      ]
     },
     "execution_count": 60,
     "metadata": {},
     "output_type": "execute_result"
    }
   ],
   "source": [
    "a < 10"
   ]
  },
  {
   "cell_type": "code",
   "execution_count": 62,
   "id": "4873fa33-2b7e-4e39-820a-159263087b5f",
   "metadata": {},
   "outputs": [
    {
     "data": {
      "text/plain": [
       "array([11, 12, 13, 14, 15])"
      ]
     },
     "execution_count": 62,
     "metadata": {},
     "output_type": "execute_result"
    }
   ],
   "source": [
    "b = a> 10\n",
    "a[b]"
   ]
  },
  {
   "cell_type": "code",
   "execution_count": 64,
   "id": "33843263-3199-44c3-8a98-bde38efa5190",
   "metadata": {},
   "outputs": [
    {
     "data": {
      "text/plain": [
       "array([ 1,  2,  3,  4,  5,  6,  7,  8,  9, 10])"
      ]
     },
     "execution_count": 64,
     "metadata": {},
     "output_type": "execute_result"
    }
   ],
   "source": [
    "c = a <= 10\n",
    "a[c]"
   ]
  },
  {
   "cell_type": "code",
   "execution_count": 66,
   "id": "08f823ed-f016-40cb-bcfd-fcf4289e211f",
   "metadata": {},
   "outputs": [
    {
     "data": {
      "text/plain": [
       "array([ 2,  4,  6,  8, 10, 12, 14])"
      ]
     },
     "execution_count": 66,
     "metadata": {},
     "output_type": "execute_result"
    }
   ],
   "source": [
    "a[a % 2 ==0]"
   ]
  },
  {
   "cell_type": "code",
   "execution_count": 68,
   "id": "2219008f-860f-4679-8c00-d620d0fdc69d",
   "metadata": {},
   "outputs": [
    {
     "data": {
      "text/plain": [
       "array([ 1,  3,  5,  7,  9, 11, 13, 15])"
      ]
     },
     "execution_count": 68,
     "metadata": {},
     "output_type": "execute_result"
    }
   ],
   "source": [
    "a[a%2!=0]"
   ]
  },
  {
   "cell_type": "code",
   "execution_count": null,
   "id": "0a0e647f-d285-46ea-afa3-1f9bd031d289",
   "metadata": {},
   "outputs": [],
   "source": [
    "## Matrix addition, multiplication, subtraction"
   ]
  },
  {
   "cell_type": "code",
   "execution_count": 72,
   "id": "39f7c905-2278-4462-aa04-8db018633edd",
   "metadata": {},
   "outputs": [
    {
     "data": {
      "text/plain": [
       "array([[1, 2],\n",
       "       [3, 4]])"
      ]
     },
     "execution_count": 72,
     "metadata": {},
     "output_type": "execute_result"
    }
   ],
   "source": [
    "a = np.arange(1,5).reshape(2,2)\n",
    "a"
   ]
  },
  {
   "cell_type": "code",
   "execution_count": 74,
   "id": "9fe7f209-f187-4ca8-8c7b-e8f58bf236de",
   "metadata": {},
   "outputs": [
    {
     "data": {
      "text/plain": [
       "array([[5, 6],\n",
       "       [7, 8]])"
      ]
     },
     "execution_count": 74,
     "metadata": {},
     "output_type": "execute_result"
    }
   ],
   "source": [
    "b = np.arange(5,9).reshape(2,2)\n",
    "b"
   ]
  },
  {
   "cell_type": "code",
   "execution_count": 76,
   "id": "e28cf6f7-d0eb-42fd-936e-e55cff1503e6",
   "metadata": {},
   "outputs": [
    {
     "data": {
      "text/plain": [
       "array([[ 6,  8],\n",
       "       [10, 12]])"
      ]
     },
     "execution_count": 76,
     "metadata": {},
     "output_type": "execute_result"
    }
   ],
   "source": [
    "a + b "
   ]
  },
  {
   "cell_type": "code",
   "execution_count": 78,
   "id": "40a0abff-85aa-4924-967b-ace86e453df1",
   "metadata": {},
   "outputs": [
    {
     "data": {
      "text/plain": [
       "array([[-4, -4],\n",
       "       [-4, -4]])"
      ]
     },
     "execution_count": 78,
     "metadata": {},
     "output_type": "execute_result"
    }
   ],
   "source": [
    "a - b"
   ]
  },
  {
   "cell_type": "code",
   "execution_count": 84,
   "id": "7f3a0053-8455-4d84-9d20-cede1c6e06bf",
   "metadata": {},
   "outputs": [
    {
     "data": {
      "text/plain": [
       "array([[19, 22],\n",
       "       [43, 50]])"
      ]
     },
     "execution_count": 84,
     "metadata": {},
     "output_type": "execute_result"
    }
   ],
   "source": [
    "a.dot(b)   # dot() used to multiply the numbers"
   ]
  },
  {
   "cell_type": "code",
   "execution_count": null,
   "id": "8b5a8617-983d-4871-bdaf-7bd779638717",
   "metadata": {},
   "outputs": [],
   "source": []
  },
  {
   "cell_type": "code",
   "execution_count": 87,
   "id": "0d28333c-9056-47c7-9150-5cfbdc654e05",
   "metadata": {},
   "outputs": [
    {
     "data": {
      "text/plain": [
       "array([[1, 2, 3],\n",
       "       [4, 5, 6],\n",
       "       [7, 8, 9]])"
      ]
     },
     "execution_count": 87,
     "metadata": {},
     "output_type": "execute_result"
    }
   ],
   "source": [
    "a = np.arange(1,10).reshape(3,3)\n",
    "a"
   ]
  },
  {
   "cell_type": "code",
   "execution_count": 89,
   "id": "35d3a675-f46e-4db8-be95-1b8cbea83e3a",
   "metadata": {},
   "outputs": [
    {
     "data": {
      "text/plain": [
       "45"
      ]
     },
     "execution_count": 89,
     "metadata": {},
     "output_type": "execute_result"
    }
   ],
   "source": [
    "np.sum(a)"
   ]
  },
  {
   "cell_type": "code",
   "execution_count": 93,
   "id": "2febe0d8-6be6-4d4e-bc74-e963fa47704e",
   "metadata": {},
   "outputs": [
    {
     "data": {
      "text/plain": [
       "array([ 6, 15, 24])"
      ]
     },
     "execution_count": 93,
     "metadata": {},
     "output_type": "execute_result"
    }
   ],
   "source": [
    "# axis = 1 ===> Row wise total\n",
    "\n",
    "np.sum(a, axis = 1)"
   ]
  },
  {
   "cell_type": "code",
   "execution_count": 95,
   "id": "4108309f-d10a-4ee9-8f23-3b9cfc169ef2",
   "metadata": {},
   "outputs": [
    {
     "data": {
      "text/plain": [
       "array([12, 15, 18])"
      ]
     },
     "execution_count": 95,
     "metadata": {},
     "output_type": "execute_result"
    }
   ],
   "source": [
    "# axis = 0 ===> column wise total\n",
    "\n",
    "np.sum(a, axis = 0)"
   ]
  },
  {
   "cell_type": "code",
   "execution_count": null,
   "id": "92f16f58-15c3-4a00-b0a3-00767c499ab0",
   "metadata": {},
   "outputs": [],
   "source": []
  },
  {
   "cell_type": "markdown",
   "id": "8f393246-b6b6-4d56-a757-50a12e44da08",
   "metadata": {},
   "source": [
    "## Unique() ==> It will return unique values or eliminate duplicate values.\n",
    "\n",
    "- It will return 3 array\n",
    "\n",
    "- Unique values array\n",
    "\n",
    "- Indexing of original value  (return_index = True)\n",
    "\n",
    "- Returns frequency of each unique value   (return_counts = True)\n",
    "\n"
   ]
  },
  {
   "cell_type": "code",
   "execution_count": 102,
   "id": "7b46a6f7-3963-4e40-a145-36967a403706",
   "metadata": {},
   "outputs": [
    {
     "data": {
      "text/plain": [
       "array([1, 2, 2, 2, 3, 4, 3, 2, 3, 3, 3, 5, 4, 6])"
      ]
     },
     "execution_count": 102,
     "metadata": {},
     "output_type": "execute_result"
    }
   ],
   "source": [
    "a = np.array([1,2,2,2,3,4,3,2,3,3,3,5,4,6])\n",
    "a"
   ]
  },
  {
   "cell_type": "code",
   "execution_count": 106,
   "id": "dd4aa813-c63a-4359-93a2-6657d105eee7",
   "metadata": {},
   "outputs": [
    {
     "data": {
      "text/plain": [
       "(array([1, 2, 3, 4, 5, 6]),\n",
       " array([ 0,  1,  4,  5, 11, 13], dtype=int64),\n",
       " array([1, 4, 5, 2, 1, 1], dtype=int64))"
      ]
     },
     "execution_count": 106,
     "metadata": {},
     "output_type": "execute_result"
    }
   ],
   "source": [
    "np.unique(a, return_index = True, return_counts = True)"
   ]
  },
  {
   "cell_type": "code",
   "execution_count": null,
   "id": "259bf06a-7946-4e8f-bc5a-04c498326c69",
   "metadata": {},
   "outputs": [],
   "source": []
  },
  {
   "cell_type": "markdown",
   "id": "5b1b6a0c-1b44-4083-af86-4e0bca1ecba7",
   "metadata": {},
   "source": [
    "##  LinSpace() ==> It will create an array in which difference of each value will be equal\n"
   ]
  },
  {
   "cell_type": "code",
   "execution_count": 113,
   "id": "9ec6f28d-5b04-48d8-95ba-216238b0b581",
   "metadata": {},
   "outputs": [
    {
     "data": {
      "text/plain": [
       "array([1.  , 1.25, 1.5 , 1.75, 2.  ])"
      ]
     },
     "execution_count": 113,
     "metadata": {},
     "output_type": "execute_result"
    }
   ],
   "source": [
    "a = np.linspace(1,2,5)\n",
    "a"
   ]
  },
  {
   "cell_type": "markdown",
   "id": "c63a5372-dc2e-4d4c-a57b-1ce744276b5d",
   "metadata": {},
   "source": [
    "### Stacking in Numpy\n",
    "\n",
    "- 1] Hstack() ==> It will combined multiple arrays into horizontally.\n",
    "- 2] Vstack() ==> It will combined multiple arrays into vertically."
   ]
  },
  {
   "cell_type": "code",
   "execution_count": 117,
   "id": "760b764f-5d4d-4fcf-b2f7-f57ae24c3439",
   "metadata": {},
   "outputs": [],
   "source": [
    "a = np.arange(1,5)\n",
    "b = np.arange(5,9)\n",
    "c = np.arange(9,13)"
   ]
  },
  {
   "cell_type": "code",
   "execution_count": 130,
   "id": "912b13f7-6aec-4f0f-83d7-12a7a5edd699",
   "metadata": {},
   "outputs": [
    {
     "data": {
      "text/plain": [
       "array([ 1,  2,  3,  4,  5,  6,  7,  8,  9, 10, 11, 12])"
      ]
     },
     "execution_count": 130,
     "metadata": {},
     "output_type": "execute_result"
    }
   ],
   "source": [
    "# hstack()\n",
    "\n",
    "np.hstack((a,b,c))"
   ]
  },
  {
   "cell_type": "code",
   "execution_count": 132,
   "id": "d8e723b7-5911-40e3-9849-55bb4da8150d",
   "metadata": {},
   "outputs": [
    {
     "data": {
      "text/plain": [
       "array([[ 1,  2,  3,  4],\n",
       "       [ 5,  6,  7,  8],\n",
       "       [ 9, 10, 11, 12]])"
      ]
     },
     "execution_count": 132,
     "metadata": {},
     "output_type": "execute_result"
    }
   ],
   "source": [
    "# vstack()\n",
    "\n",
    "np.vstack((a,b,c))"
   ]
  },
  {
   "cell_type": "code",
   "execution_count": null,
   "id": "fa7d15a7-110f-4b39-8ded-f220f6438763",
   "metadata": {},
   "outputs": [],
   "source": []
  }
 ],
 "metadata": {
  "kernelspec": {
   "display_name": "Python 3 (ipykernel)",
   "language": "python",
   "name": "python3"
  },
  "language_info": {
   "codemirror_mode": {
    "name": "ipython",
    "version": 3
   },
   "file_extension": ".py",
   "mimetype": "text/x-python",
   "name": "python",
   "nbconvert_exporter": "python",
   "pygments_lexer": "ipython3",
   "version": "3.12.4"
  }
 },
 "nbformat": 4,
 "nbformat_minor": 5
}
