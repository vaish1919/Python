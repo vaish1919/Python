{
  "nbformat": 4,
  "nbformat_minor": 0,
  "metadata": {
    "colab": {
      "provenance": []
    },
    "kernelspec": {
      "name": "python3",
      "display_name": "Python 3"
    },
    "language_info": {
      "name": "python"
    }
  },
  "cells": [
    {
      "cell_type": "code",
      "execution_count": 1,
      "metadata": {
        "colab": {
          "base_uri": "https://localhost:8080/"
        },
        "id": "RGpVJBJhE7Sv",
        "outputId": "339e9fb6-b3fc-4a4e-adb2-b685c34ce96d"
      },
      "outputs": [
        {
          "output_type": "execute_result",
          "data": {
            "text/plain": [
              "Counter()"
            ]
          },
          "metadata": {},
          "execution_count": 1
        }
      ],
      "source": [
        "import collections\n",
        "\n",
        "collections.Counter()"
      ]
    },
    {
      "cell_type": "code",
      "source": [
        "import collections as c\n",
        "\n",
        "c.Counter()"
      ],
      "metadata": {
        "colab": {
          "base_uri": "https://localhost:8080/"
        },
        "id": "Ke29vTFlFCOI",
        "outputId": "8b4d219a-44f1-44d3-d8f7-3ad21a975713"
      },
      "execution_count": 2,
      "outputs": [
        {
          "output_type": "execute_result",
          "data": {
            "text/plain": [
              "Counter()"
            ]
          },
          "metadata": {},
          "execution_count": 2
        }
      ]
    },
    {
      "cell_type": "code",
      "source": [
        "from collections import Counter\n",
        "\n",
        "Counter()"
      ],
      "metadata": {
        "colab": {
          "base_uri": "https://localhost:8080/"
        },
        "id": "fUSwO57bFNbV",
        "outputId": "a30f5e63-89ef-4c99-8406-07e1ce4a1865"
      },
      "execution_count": 4,
      "outputs": [
        {
          "output_type": "execute_result",
          "data": {
            "text/plain": [
              "Counter()"
            ]
          },
          "metadata": {},
          "execution_count": 4
        }
      ]
    },
    {
      "cell_type": "code",
      "source": [
        "from collections import Counter\n",
        "mylist = [10,10,20,30,20,40,60,\"A\"]\n",
        "\n",
        "Counter(mylist)"
      ],
      "metadata": {
        "colab": {
          "base_uri": "https://localhost:8080/"
        },
        "id": "6XW4RLfMFV8x",
        "outputId": "42f58a0c-3281-418d-e495-3aef9ecaa897"
      },
      "execution_count": 5,
      "outputs": [
        {
          "output_type": "execute_result",
          "data": {
            "text/plain": [
              "Counter({10: 2, 20: 2, 30: 1, 40: 1, 60: 1, 'A': 1})"
            ]
          },
          "metadata": {},
          "execution_count": 5
        }
      ]
    },
    {
      "cell_type": "code",
      "source": [
        "from collections import Counter\n",
        "mylist = [10,10,20,30,20,40,60,\"A\"]\n",
        "\n",
        "Counter(mylist)\n",
        "Counter(x=10,y=2)"
      ],
      "metadata": {
        "colab": {
          "base_uri": "https://localhost:8080/"
        },
        "id": "lw7NyTeeFk0C",
        "outputId": "163dd6e8-1e0a-45c0-9e9f-4e3497cf2d84"
      },
      "execution_count": 6,
      "outputs": [
        {
          "output_type": "execute_result",
          "data": {
            "text/plain": [
              "Counter({'x': 10, 'y': 2})"
            ]
          },
          "metadata": {},
          "execution_count": 6
        }
      ]
    },
    {
      "cell_type": "code",
      "source": [
        "from collections import Counter\n",
        "mylist = [10,10,20,30,20,40,60,\"A\"]\n",
        "\n",
        "a  = Counter(mylist)\n",
        "\n",
        "a.update([20,70])\n",
        "print(a)"
      ],
      "metadata": {
        "colab": {
          "base_uri": "https://localhost:8080/"
        },
        "id": "fW-J7UzEF1G4",
        "outputId": "506eec12-3224-496b-c62f-65a838d02e21"
      },
      "execution_count": 7,
      "outputs": [
        {
          "output_type": "stream",
          "name": "stdout",
          "text": [
            "Counter({20: 3, 10: 2, 30: 1, 40: 1, 60: 1, 'A': 1, 70: 1})\n"
          ]
        }
      ]
    },
    {
      "cell_type": "code",
      "source": [
        "from collections import Counter\n",
        "mylist = [10,10,20,30,20,40,60,\"A\"]\n",
        "\n",
        "a  = Counter(mylist)\n",
        "\n",
        "a.update([20,70])\n",
        "a.most_common(1)"
      ],
      "metadata": {
        "colab": {
          "base_uri": "https://localhost:8080/"
        },
        "id": "4AWNVBCBGURv",
        "outputId": "2b040f2d-2de9-4589-edff-8fd451aeee2e"
      },
      "execution_count": 8,
      "outputs": [
        {
          "output_type": "execute_result",
          "data": {
            "text/plain": [
              "[(20, 3)]"
            ]
          },
          "metadata": {},
          "execution_count": 8
        }
      ]
    },
    {
      "cell_type": "code",
      "source": [
        "print(a)\n",
        "list(a.elements())"
      ],
      "metadata": {
        "colab": {
          "base_uri": "https://localhost:8080/"
        },
        "id": "ISBbqIohGfWJ",
        "outputId": "566103da-1c86-4a24-ebf2-7780aabd9ed3"
      },
      "execution_count": 9,
      "outputs": [
        {
          "output_type": "stream",
          "name": "stdout",
          "text": [
            "Counter({20: 3, 10: 2, 30: 1, 40: 1, 60: 1, 'A': 1, 70: 1})\n"
          ]
        },
        {
          "output_type": "execute_result",
          "data": {
            "text/plain": [
              "[10, 10, 20, 20, 20, 30, 40, 60, 'A', 70]"
            ]
          },
          "metadata": {},
          "execution_count": 9
        }
      ]
    },
    {
      "cell_type": "code",
      "source": [],
      "metadata": {
        "id": "V51uCH0_JRYg"
      },
      "execution_count": null,
      "outputs": []
    },
    {
      "cell_type": "code",
      "source": [
        "from collections import defaultdict"
      ],
      "metadata": {
        "id": "gdbJj66DG2Gn"
      },
      "execution_count": 10,
      "outputs": []
    },
    {
      "cell_type": "code",
      "source": [
        "def func():\n",
        "  return \"Not a value\""
      ],
      "metadata": {
        "id": "ZtQCIzsTJMFO"
      },
      "execution_count": 12,
      "outputs": []
    },
    {
      "cell_type": "code",
      "source": [
        "d = defaultdict(func)\n",
        "\n",
        "d[\"a\"] = 10\n",
        "d[\"b\"]\n",
        "\n",
        "print(d.items())"
      ],
      "metadata": {
        "colab": {
          "base_uri": "https://localhost:8080/"
        },
        "id": "h7xmnkhYHoNY",
        "outputId": "95c4c26e-cc15-424b-9d8d-744cee45a448"
      },
      "execution_count": 13,
      "outputs": [
        {
          "output_type": "stream",
          "name": "stdout",
          "text": [
            "dict_items([('a', 10), ('b', 'Not a value')])\n"
          ]
        }
      ]
    },
    {
      "cell_type": "code",
      "source": [
        "mylist = [(10,\"tushar\"),(20,\"aman\"),(30,\"abc\")]\n",
        "\n",
        "for data in mylist:\n",
        "  print(data)"
      ],
      "metadata": {
        "colab": {
          "base_uri": "https://localhost:8080/"
        },
        "id": "_CamlRC3JJS_",
        "outputId": "96082653-d76a-43be-a074-6ba81df30984"
      },
      "execution_count": 14,
      "outputs": [
        {
          "output_type": "stream",
          "name": "stdout",
          "text": [
            "(10, 'tushar')\n",
            "(20, 'aman')\n",
            "(30, 'abc')\n"
          ]
        }
      ]
    },
    {
      "cell_type": "code",
      "source": [
        "mylist = [(10,\"tushar\"),(20,\"aman\"),(30,\"abc\")]\n",
        "\n",
        "for roll, name in mylist:\n",
        "  print(roll, name)"
      ],
      "metadata": {
        "colab": {
          "base_uri": "https://localhost:8080/"
        },
        "id": "PIcDf2HtKCit",
        "outputId": "90cff0b0-83c4-4701-c314-be36521f3f2a"
      },
      "execution_count": 15,
      "outputs": [
        {
          "output_type": "stream",
          "name": "stdout",
          "text": [
            "10 tushar\n",
            "20 aman\n",
            "30 abc\n"
          ]
        }
      ]
    },
    {
      "cell_type": "code",
      "source": [
        "mylist = [(10,\"tushar\"),(20,\"aman\"),(30,\"abc\")]\n",
        "s = defaultdict(list)\n",
        "\n",
        "for roll, name in mylist:\n",
        "  s[roll].append(name)\n",
        "print(s)"
      ],
      "metadata": {
        "colab": {
          "base_uri": "https://localhost:8080/"
        },
        "id": "mKhjiIjOKLms",
        "outputId": "4e550a89-174f-47e3-b97f-0eb844794d6a"
      },
      "execution_count": 19,
      "outputs": [
        {
          "output_type": "stream",
          "name": "stdout",
          "text": [
            "defaultdict(<class 'list'>, {10: ['tushar'], 20: ['aman'], 30: ['abc']})\n"
          ]
        }
      ]
    },
    {
      "cell_type": "code",
      "source": [
        "mylist = [(10,\"tushar\"),(20,\"aman\"),(10,\"abc\")]\n",
        "s = defaultdict(list)\n",
        "\n",
        "for roll, name in mylist:\n",
        "  s[roll].append(name)\n",
        "\n",
        "print(s[30])\n",
        "print(s)\n"
      ],
      "metadata": {
        "colab": {
          "base_uri": "https://localhost:8080/"
        },
        "id": "0UvlWHZHKi89",
        "outputId": "f6ddf025-40e1-4258-afad-fedce8591a2c"
      },
      "execution_count": 21,
      "outputs": [
        {
          "output_type": "stream",
          "name": "stdout",
          "text": [
            "[]\n",
            "defaultdict(<class 'list'>, {10: ['tushar', 'abc'], 20: ['aman'], 30: []})\n"
          ]
        }
      ]
    },
    {
      "cell_type": "code",
      "source": [],
      "metadata": {
        "id": "U9YQpvcxM3si"
      },
      "execution_count": null,
      "outputs": []
    },
    {
      "cell_type": "code",
      "source": [
        "from collections import OrderedDict\n"
      ],
      "metadata": {
        "id": "_TnoaT-zK_Bh"
      },
      "execution_count": 22,
      "outputs": []
    },
    {
      "cell_type": "code",
      "source": [
        "o = OrderedDict()\n",
        "\n",
        "o[\"a\"] = 1\n",
        "o[\"b\"] = 99\n",
        "o[\"aa\"] = 1991\n",
        "\n",
        "print(o)"
      ],
      "metadata": {
        "colab": {
          "base_uri": "https://localhost:8080/"
        },
        "id": "oJFU0Z-eLzgW",
        "outputId": "1e90fb64-3d24-4df7-deb9-ba0035c8a95b"
      },
      "execution_count": 24,
      "outputs": [
        {
          "output_type": "stream",
          "name": "stdout",
          "text": [
            "OrderedDict([('a', 1), ('b', 99), ('aa', 1991)])\n"
          ]
        }
      ]
    },
    {
      "cell_type": "code",
      "source": [
        "o = OrderedDict()\n",
        "\n",
        "o[\"a\"] = 1\n",
        "o[\"b\"] = 99\n",
        "o[\"aa\"] = 1991\n",
        "\n",
        "o.move_to_end(\"b\")\n",
        "print(o)"
      ],
      "metadata": {
        "colab": {
          "base_uri": "https://localhost:8080/"
        },
        "id": "RRWifE0WMAIP",
        "outputId": "3c2b61be-7c4c-4205-94bf-3d34faf73e3e"
      },
      "execution_count": 25,
      "outputs": [
        {
          "output_type": "stream",
          "name": "stdout",
          "text": [
            "OrderedDict([('a', 1), ('aa', 1991), ('b', 99)])\n"
          ]
        }
      ]
    },
    {
      "cell_type": "code",
      "source": [
        "o = OrderedDict()\n",
        "\n",
        "o[\"a\"] = 1\n",
        "o[\"b\"] = 99\n",
        "o[\"aa\"] = 1991\n",
        "\n",
        "o.move_to_end(\"b\", last = False)\n",
        "print(o)"
      ],
      "metadata": {
        "colab": {
          "base_uri": "https://localhost:8080/"
        },
        "id": "b071L4a8MMd0",
        "outputId": "5463a330-58ec-44e1-8546-70c5b9e5b59d"
      },
      "execution_count": 26,
      "outputs": [
        {
          "output_type": "stream",
          "name": "stdout",
          "text": [
            "OrderedDict([('b', 99), ('a', 1), ('aa', 1991)])\n"
          ]
        }
      ]
    },
    {
      "cell_type": "code",
      "source": [],
      "metadata": {
        "id": "pgB1YJ4JMSg0"
      },
      "execution_count": null,
      "outputs": []
    },
    {
      "cell_type": "code",
      "source": [
        "from collections import namedtuple"
      ],
      "metadata": {
        "id": "RaVa1_q9M4iM"
      },
      "execution_count": 27,
      "outputs": []
    },
    {
      "cell_type": "code",
      "source": [
        "point123 = namedtuple(\"point123\",[\"x\",\"y\"])\n",
        "\n",
        "p = point123(11,22)\n",
        "print(p.x)\n",
        "print(p[0])"
      ],
      "metadata": {
        "colab": {
          "base_uri": "https://localhost:8080/"
        },
        "id": "MnP75kLlM8q7",
        "outputId": "4241e787-c3bd-444c-b9c3-b2c2eefd8794"
      },
      "execution_count": 29,
      "outputs": [
        {
          "output_type": "stream",
          "name": "stdout",
          "text": [
            "11\n",
            "11\n"
          ]
        }
      ]
    },
    {
      "cell_type": "code",
      "source": [
        "point123 = namedtuple(\"point123\",[\"x\",\"y\"])\n",
        "\n",
        "p = point123(11,22)\n",
        "\n",
        "print(p[0] + p[1])"
      ],
      "metadata": {
        "colab": {
          "base_uri": "https://localhost:8080/"
        },
        "id": "pA-sFDRyNJ79",
        "outputId": "f5fcee16-fb46-4f67-ae8f-c5ace548671a"
      },
      "execution_count": 31,
      "outputs": [
        {
          "output_type": "stream",
          "name": "stdout",
          "text": [
            "33\n"
          ]
        }
      ]
    },
    {
      "cell_type": "code",
      "source": [
        "# asdict()\n",
        "\n",
        "p._asdict()\n"
      ],
      "metadata": {
        "colab": {
          "base_uri": "https://localhost:8080/"
        },
        "id": "QPRjQhQdNtFJ",
        "outputId": "cdcd3e92-94b6-463f-fb0b-48f5fdd2f6b7"
      },
      "execution_count": 32,
      "outputs": [
        {
          "output_type": "execute_result",
          "data": {
            "text/plain": [
              "{'x': 11, 'y': 22}"
            ]
          },
          "metadata": {},
          "execution_count": 32
        }
      ]
    },
    {
      "cell_type": "code",
      "source": [
        "p._asdict()\n",
        "p = p._replace(x=100)\n",
        "print(p)"
      ],
      "metadata": {
        "colab": {
          "base_uri": "https://localhost:8080/"
        },
        "id": "kBcTJRtgN7oP",
        "outputId": "92e1bc0f-cd2e-4406-fd59-52160d1a580d"
      },
      "execution_count": 33,
      "outputs": [
        {
          "output_type": "stream",
          "name": "stdout",
          "text": [
            "point123(x=100, y=22)\n"
          ]
        }
      ]
    },
    {
      "cell_type": "code",
      "source": [
        "point123 = namedtuple(\"point\",[\"x\",\"y\"])\n",
        "x = {'x': 11, 'y': 22}\n",
        "\n",
        "\n",
        "print(x)\n",
        "point123(**x)\n"
      ],
      "metadata": {
        "colab": {
          "base_uri": "https://localhost:8080/"
        },
        "id": "lESNtCYSOH1H",
        "outputId": "63ab119d-47f1-4b8e-89d5-c664b26afc21"
      },
      "execution_count": 36,
      "outputs": [
        {
          "output_type": "stream",
          "name": "stdout",
          "text": [
            "{'x': 11, 'y': 22}\n"
          ]
        },
        {
          "output_type": "execute_result",
          "data": {
            "text/plain": [
              "point(x=11, y=22)"
            ]
          },
          "metadata": {},
          "execution_count": 36
        }
      ]
    },
    {
      "cell_type": "code",
      "source": [],
      "metadata": {
        "id": "FDApvWqOO9Do"
      },
      "execution_count": 36,
      "outputs": []
    },
    {
      "cell_type": "code",
      "source": [
        "# LIST = Stack\n",
        "# deque ==> Doubly Ended Queue\n"
      ],
      "metadata": {
        "id": "zkiLOeS9PoS-"
      },
      "execution_count": 37,
      "outputs": []
    },
    {
      "cell_type": "code",
      "source": [
        "from collections import deque"
      ],
      "metadata": {
        "id": "68d5qANzQYxw"
      },
      "execution_count": 38,
      "outputs": []
    },
    {
      "cell_type": "code",
      "source": [
        "dq = deque([\"tushar\",\"abc\",\"xyz\",20])\n"
      ],
      "metadata": {
        "id": "QqYN3BNzQdvg"
      },
      "execution_count": 41,
      "outputs": []
    },
    {
      "cell_type": "code",
      "source": [
        "dq.append(40)\n",
        "dq"
      ],
      "metadata": {
        "colab": {
          "base_uri": "https://localhost:8080/"
        },
        "id": "3lJRFg6SQldE",
        "outputId": "a97f1beb-7cc9-4db4-8b2e-ee935b4e38ae"
      },
      "execution_count": 43,
      "outputs": [
        {
          "output_type": "execute_result",
          "data": {
            "text/plain": [
              "deque(['tushar', 'abc', 'xyz', 20, 40, 40])"
            ]
          },
          "metadata": {},
          "execution_count": 43
        }
      ]
    },
    {
      "cell_type": "code",
      "source": [],
      "metadata": {
        "id": "iysT4-yPQpHh"
      },
      "execution_count": 43,
      "outputs": []
    },
    {
      "cell_type": "code",
      "source": [],
      "metadata": {
        "id": "jQob5kWxTszx"
      },
      "execution_count": null,
      "outputs": []
    },
    {
      "cell_type": "code",
      "source": [
        "# # intersection of two arrays\n",
        "# #Given two integer arrays nums1 and nums2, return an array of their\n",
        "# intersection\n",
        "# . Each element in the result must be unique and you may return the result in any order.\n",
        "\n",
        "\n"
      ],
      "metadata": {
        "id": "cugc1MW1Ts5p"
      },
      "execution_count": 44,
      "outputs": []
    },
    {
      "cell_type": "code",
      "source": [
        "nums1 = [1,2,3,0,0,0]\n",
        "m = 3\n",
        "nums2 = [2,5,6]\n",
        "n = 3\n",
        "li = []\n",
        "for i in range(m):\n",
        "  li.append(nums1[i])\n",
        "for i in range(n):\n",
        "  li.append(nums2[i])\n",
        "\n",
        "li.sort()\n",
        "print(li)"
      ],
      "metadata": {
        "colab": {
          "base_uri": "https://localhost:8080/"
        },
        "id": "wq3VL-iZba-V",
        "outputId": "9b63f171-3273-4772-8955-57392b3135fc"
      },
      "execution_count": 46,
      "outputs": [
        {
          "output_type": "stream",
          "name": "stdout",
          "text": [
            "[1, 2, 2, 3, 5, 6]\n"
          ]
        }
      ]
    }
  ]
}